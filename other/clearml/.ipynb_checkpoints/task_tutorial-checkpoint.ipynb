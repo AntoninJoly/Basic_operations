{
 "cells": [
  {
   "cell_type": "code",
   "execution_count": 1,
   "metadata": {},
   "outputs": [],
   "source": [
    "try:\n",
    "    import joblib\n",
    "except ImportError:\n",
    "    from sklearn.externals import joblib\n",
    "\n",
    "import os\n",
    "import json\n",
    "from sklearn import datasets\n",
    "from sklearn.linear_model import LogisticRegression\n",
    "from sklearn.model_selection import train_test_split\n",
    "import numpy as np\n",
    "import matplotlib.pyplot as plt\n",
    "from PIL import Image\n",
    "import pandas as pd\n",
    "from clearml import Task, TaskTypes"
   ]
  },
  {
   "cell_type": "markdown",
   "metadata": {},
   "source": [
    "# ClearML Tasks intro\n",
    "## What is a task in ClearML?\n",
    "A Task is a single code execution session, which can represent an experiment, a step in a workflow, a workflow controller, or any custom implementation.\n",
    "To transform an existing script into a ClearML Task, one must call the Task.init() method and specify a task name and its project. This creates a Task object that automatically captures code execution information as well as execution outputs."
   ]
  },
  {
   "cell_type": "markdown",
   "metadata": {},
   "source": [
    "## Basic and useful parameters of init method:\n",
    "+  project_name: project in the WebUI where the task info will be stored+ Can create hierarchy of subprojects by using \"/\" ex: \"Project1/subproject1\"\n",
    "\n",
    "+ task_name: name to give the task\n",
    "\n",
    "+ task_type: One of the enums of TaskTypes, Just changes the icon in the WebUI for easier view of what type of task this is.\n",
    "\n",
    "+ tags: List of tags to attach to the task. These allow to get more context on the task and tags can be used to filter or query tasks, so it is good practice to give meaningful tags to tasks.\n",
    "\n",
    "+ reuse_last_task_id: If the task does not generate a model or artifacts, setting this to True will make it so that if the script is ran again, the task will be overwritten. This is useful when trying to debug a training script, but not good for data exploration for example.\n",
    "\n",
    "+ output_uri: Where to save the models and artifacts produced. Set to True for default ClearML web server, or string for s3/gcs/azure.\n",
    "\n",
    "+ auto_connect_frameworks: By default, all MatplotLib, XGBoost, scikit-learn, Keras callbacks, and TensorBoard, etc.. are automatically logged.They can be set manually to not be logged or log only specific names. This can be useful for example when having a model checkpoint callback, we don't want to save and upload every single checkpoint. A concrete example of how to use this will be shown later.\n"
   ]
  },
  {
   "cell_type": "markdown",
   "metadata": {},
   "source": [
    "# First basic task"
   ]
  },
  {
   "cell_type": "markdown",
   "metadata": {},
   "source": [
    "## Task init"
   ]
  },
  {
   "cell_type": "markdown",
   "metadata": {},
   "source": [
    "Based on from https://github.com/allegroai/clearml/blob/master/examples/frameworks/scikit-learn/sklearn_joblib_example.py"
   ]
  },
  {
   "cell_type": "code",
   "execution_count": 2,
   "metadata": {},
   "outputs": [
    {
     "name": "stdout",
     "output_type": "stream",
     "text": [
      "ClearML Task: created new task id=bd64535b95074572b74ff792cd23687f\n",
      "2023-04-05 11:06:51,779 - clearml.Task - INFO - Storing jupyter notebook directly as code\n",
      "ClearML results page: https://app.clear.ml/projects/4ca1dcca4fcf4bf6843904b7ed64a0fa/experiments/bd64535b95074572b74ff792cd23687f/output/log\n"
     ]
    }
   ],
   "source": [
    "task = Task.init(\n",
    "    project_name=\"ClearmlStudySessions/tasks_tutorial\",\n",
    "    task_name=\"first basic task\",\n",
    "    task_type=TaskTypes.training,\n",
    "    tags=[\"sklearn\", \"svm\", \"iris\", \"baseline\"],\n",
    "    output_uri=True\n",
    ")"
   ]
  },
  {
   "cell_type": "markdown",
   "metadata": {},
   "source": [
    "# Logging and tracking configuration and parameters"
   ]
  },
  {
   "cell_type": "markdown",
   "metadata": {},
   "source": [
    "ClearML can track Python objects (such as dictionaries and custom classes) and log them to the task’s configuration using the Task.connect method."
   ]
  },
  {
   "cell_type": "code",
   "execution_count": 3,
   "metadata": {},
   "outputs": [
    {
     "data": {
      "text/plain": [
       "{'model': 'MobileNetV3', 'batch_size': 256, 'lr': 0.0001, 'img_size': 256}"
      ]
     },
     "execution_count": 3,
     "metadata": {},
     "output_type": "execute_result"
    }
   ],
   "source": [
    "params = {\"model\" : \"MobileNetV3\",\n",
    "          \"batch_size\" : 256,\n",
    "          \"lr\" : 1e-4,\n",
    "          \"img_size\" : 256}\n",
    "\n",
    "# The name parameter will correspond to which section in the WebUI we will find the connected parameters. By default, they are saved to the \"General\" section.\n",
    "task.connect(mutable=params,\n",
    "             name=\"Params\")"
   ]
  },
  {
   "cell_type": "code",
   "execution_count": 4,
   "metadata": {},
   "outputs": [
    {
     "name": "stdout",
     "output_type": "stream",
     "text": [
      "ClearML Monitor: GPU monitoring failed getting GPU reading, switching off GPU monitoring\n"
     ]
    },
    {
     "data": {
      "text/plain": [
       "<__main__.Person at 0x16bf98f6648>"
      ]
     },
     "execution_count": 4,
     "metadata": {},
     "output_type": "execute_result"
    }
   ],
   "source": [
    "class Person:\n",
    "    def __init__(self, name, age):\n",
    "        self.name = name\n",
    "        self.age = age\n",
    "        \n",
    "me = Person(\"Antonin\", 33)\n",
    "task.connect(me)"
   ]
  },
  {
   "cell_type": "markdown",
   "metadata": {},
   "source": [
    "If you change the value of the parameters later in the code, this will not be reflected in the WebUI"
   ]
  },
  {
   "cell_type": "code",
   "execution_count": 5,
   "metadata": {},
   "outputs": [],
   "source": [
    "params[\"img_size\"] = 224"
   ]
  },
  {
   "cell_type": "markdown",
   "metadata": {},
   "source": [
    "To update a parameter, use the set_parameter() method. Parameters can be designated into sections: specify a parameter’s section by prefixing its name, delimited with a slash (i.e. section_name/parameter_name:value). General is the default section."
   ]
  },
  {
   "cell_type": "code",
   "execution_count": 6,
   "metadata": {},
   "outputs": [],
   "source": [
    "task.set_parameter(name=\"Params/img_size\",value=224)\n",
    "task.set_parameter(name=\"age\",value=32)"
   ]
  },
  {
   "cell_type": "markdown",
   "metadata": {},
   "source": [
    "To add or update parameters, use set_parameters_as_dict() method in the same way as set_parameter()."
   ]
  },
  {
   "cell_type": "code",
   "execution_count": 7,
   "metadata": {},
   "outputs": [],
   "source": [
    "task.set_parameters_as_dict({\"Params/dropout\": 0.2, \"Nationality\" : \"French\"})"
   ]
  },
  {
   "cell_type": "markdown",
   "metadata": {},
   "source": [
    "### Accessing parameters"
   ]
  },
  {
   "cell_type": "code",
   "execution_count": 8,
   "metadata": {},
   "outputs": [
    {
     "data": {
      "text/plain": [
       "{'Args/app': '',\n",
       " 'Args/host': '127.0.0.1',\n",
       " 'Args/port': '8000',\n",
       " 'Args/uds': '',\n",
       " 'Args/fd': '',\n",
       " 'Args/debug': '',\n",
       " 'Args/reload': '',\n",
       " 'Args/reload_dirs': '',\n",
       " 'Args/reload_includes': '',\n",
       " 'Args/reload_excludes': '',\n",
       " 'Args/reload_delay': '0.25',\n",
       " 'Args/workers': '',\n",
       " 'Args/loop': 'auto',\n",
       " 'Args/http': 'auto',\n",
       " 'Args/ws': 'auto',\n",
       " 'Args/ws_max_size': '16777216',\n",
       " 'Args/ws_ping_interval': '20.0',\n",
       " 'Args/ws_ping_timeout': '20.0',\n",
       " 'Args/ws_per_message_deflate': 'True',\n",
       " 'Args/lifespan': 'auto',\n",
       " 'Args/interface': 'auto',\n",
       " 'Args/env_file': '',\n",
       " 'Args/log_config': '',\n",
       " 'Args/log_level': '',\n",
       " 'Args/access_log': 'True',\n",
       " 'Args/use_colors': '',\n",
       " 'Args/proxy_headers': 'True',\n",
       " 'Args/server_header': 'True',\n",
       " 'Args/date_header': 'True',\n",
       " 'Args/forwarded_allow_ips': '',\n",
       " 'Args/root_path': '',\n",
       " 'Args/limit_concurrency': '',\n",
       " 'Args/backlog': '2048',\n",
       " 'Args/limit_max_requests': '',\n",
       " 'Args/timeout_keep_alive': '5',\n",
       " 'Args/ssl_keyfile': '',\n",
       " 'Args/ssl_certfile': '',\n",
       " 'Args/ssl_keyfile_password': '',\n",
       " 'Args/ssl_version': '17',\n",
       " 'Args/ssl_cert_reqs': '',\n",
       " 'Args/ssl_ca_certs': '',\n",
       " 'Args/ssl_ciphers': 'TLSv1',\n",
       " 'Args/headers': '',\n",
       " 'Args/app_dir': '.',\n",
       " 'Args/factory': '',\n",
       " 'Params/model': 'MobileNetV3',\n",
       " 'Params/batch_size': '256',\n",
       " 'Params/lr': '0.0001',\n",
       " 'Params/img_size': '224',\n",
       " 'Params/dropout': '0.2',\n",
       " 'General/name': 'Antonin',\n",
       " 'General/age': '32',\n",
       " 'General/Nationality': 'French'}"
      ]
     },
     "execution_count": 8,
     "metadata": {},
     "output_type": "execute_result"
    }
   ],
   "source": [
    "task.get_parameters()"
   ]
  },
  {
   "cell_type": "code",
   "execution_count": 9,
   "metadata": {},
   "outputs": [
    {
     "data": {
      "text/plain": [
       "'MobileNetV3'"
      ]
     },
     "execution_count": 9,
     "metadata": {},
     "output_type": "execute_result"
    }
   ],
   "source": [
    "task.get_parameter(\"Params/model\")"
   ]
  },
  {
   "cell_type": "markdown",
   "metadata": {},
   "source": [
    "### Configuration objects"
   ]
  },
  {
   "cell_type": "markdown",
   "metadata": {},
   "source": [
    "To log configuration more elaborate than a key-value dictionary (such as nested dictionaries or configuration files), use the Task.connect_configuration method. This method saves configuration objects as blobs (i.e. ClearML is not aware of their internal structure)."
   ]
  },
  {
   "cell_type": "code",
   "execution_count": 10,
   "metadata": {},
   "outputs": [
    {
     "data": {
      "text/plain": [
       "'./data/config.yaml'"
      ]
     },
     "execution_count": 10,
     "metadata": {},
     "output_type": "execute_result"
    }
   ],
   "source": [
    "task.connect_configuration(name=\"yaml conf\", \n",
    "                           configuration=\"./data/config.yaml\")"
   ]
  },
  {
   "cell_type": "code",
   "execution_count": 11,
   "metadata": {},
   "outputs": [],
   "source": [
    "nested_conf = {'value': 13.37, \n",
    "               'dict': {'sub_value': 'string'},  \n",
    "               'list_of_ints': [1, 2, 3, 4],}\n",
    "model_config_dict = task.connect_configuration(name=\"nested_conf\", \n",
    "                                               configuration=nested_conf)"
   ]
  },
  {
   "cell_type": "markdown",
   "metadata": {},
   "source": [
    "For better reuse later when cloning tasks, it is better to avoid config objects, or at least flatten them and use connect() to track them."
   ]
  },
  {
   "cell_type": "markdown",
   "metadata": {},
   "source": [
    "## Training and saving model"
   ]
  },
  {
   "cell_type": "code",
   "execution_count": 12,
   "metadata": {},
   "outputs": [],
   "source": [
    "iris = datasets.load_iris()\n",
    "X = iris.data\n",
    "y = iris.target\n",
    "\n",
    "X_train, X_test, y_train, y_test = train_test_split(X, y, test_size=0.2, random_state=42)"
   ]
  },
  {
   "cell_type": "code",
   "execution_count": 13,
   "metadata": {},
   "outputs": [
    {
     "data": {
      "text/plain": [
       "LogisticRegression(solver='liblinear')"
      ]
     },
     "execution_count": 13,
     "metadata": {},
     "output_type": "execute_result"
    }
   ],
   "source": [
    "model = LogisticRegression(solver='liblinear', multi_class='auto')  # sklearn LogisticRegression class\n",
    "model.fit(X_train, y_train)"
   ]
  },
  {
   "cell_type": "code",
   "execution_count": 14,
   "metadata": {},
   "outputs": [
    {
     "name": "stdout",
     "output_type": "stream",
     "text": [
      "2023-04-05 11:07:17,863 - clearml.storage - INFO - Starting upload: C:\\Users\\ANTONI~1\\AppData\\Local\\Temp\\.clearml.upload_model_nmo819r7.tmp => https://files.clear.ml/ClearmlStudySessions/tasks_tutorial/first basic task.bd64535b95074572b74ff792cd23687f/models/model.pkl\n"
     ]
    },
    {
     "data": {
      "text/plain": [
       "['model.pkl']"
      ]
     },
     "execution_count": 14,
     "metadata": {},
     "output_type": "execute_result"
    }
   ],
   "source": [
    "joblib.dump(model, 'model.pkl', compress=True)"
   ]
  },
  {
   "cell_type": "markdown",
   "metadata": {},
   "source": [
    "## Model evaluation"
   ]
  },
  {
   "cell_type": "code",
   "execution_count": 15,
   "metadata": {},
   "outputs": [
    {
     "name": "stdout",
     "output_type": "stream",
     "text": [
      "2023-04-05 11:07:18,582 - clearml.Task - INFO - Completed model upload to https://files.clear.ml/ClearmlStudySessions/tasks_tutorial/first%20basic%20task.bd64535b95074572b74ff792cd23687f/models/model.pkl\n"
     ]
    }
   ],
   "source": [
    "loaded_model = joblib.load('model.pkl')\n",
    "result = loaded_model.score(X_test, y_test)"
   ]
  },
  {
   "cell_type": "code",
   "execution_count": 16,
   "metadata": {},
   "outputs": [
    {
     "data": {
      "text/plain": [
       "1.0"
      ]
     },
     "execution_count": 16,
     "metadata": {},
     "output_type": "execute_result"
    }
   ],
   "source": [
    "result"
   ]
  },
  {
   "cell_type": "markdown",
   "metadata": {},
   "source": [
    "## Manual Reporting"
   ]
  },
  {
   "cell_type": "markdown",
   "metadata": {},
   "source": [
    "### Manual logging of score to show it in the \"Scalars\" tab of the Webui"
   ]
  },
  {
   "cell_type": "code",
   "execution_count": 17,
   "metadata": {},
   "outputs": [],
   "source": [
    "task.get_logger().report_single_value(name=\"Score\", value=result)"
   ]
  },
  {
   "cell_type": "markdown",
   "metadata": {},
   "source": [
    "### Automatic logging of matplotlib plots"
   ]
  },
  {
   "cell_type": "code",
   "execution_count": 18,
   "metadata": {},
   "outputs": [
    {
     "data": {
      "image/png": "[encoded data removed]",
      "text/plain": [
       "<Figure size 288x216 with 1 Axes>"
      ]
     },
     "metadata": {},
     "output_type": "display_data"
    }
   ],
   "source": [
    "x_min, x_max = X[:, 0].min() - .5, X[:, 0].max() + .5\n",
    "y_min, y_max = X[:, 1].min() - .5, X[:, 1].max() + .5\n",
    "h = .02  # step size in the mesh\n",
    "xx, yy = np.meshgrid(np.arange(x_min, x_max, h), np.arange(y_min, y_max, h))\n",
    "plt.figure(1, figsize=(4, 3))\n",
    "\n",
    "plt.scatter(X[:, 0], X[:, 1], c=y, edgecolors='k', cmap=plt.cm.Paired)\n",
    "plt.xlabel('Sepal length')\n",
    "plt.ylabel('Sepal width')\n",
    "\n",
    "plt.xlim(xx.min(), xx.max())\n",
    "plt.ylim(yy.min(), yy.max())\n",
    "plt.xticks(())\n",
    "plt.yticks(())\n",
    "\n",
    "plt.show()"
   ]
  },
  {
   "cell_type": "markdown",
   "metadata": {},
   "source": [
    "### Manual logging of images and media (they appear in the \"Debug samples\" tab of the WebUI)"
   ]
  },
  {
   "cell_type": "markdown",
   "metadata": {},
   "source": [
    "#### report_media can be used for images, audio and videos (local_path, stream, or url are accepted)"
   ]
  },
  {
   "cell_type": "code",
   "execution_count": 19,
   "metadata": {},
   "outputs": [],
   "source": [
    "task.get_logger().report_media(\n",
    "    'video', 'big bunny', iteration=1,\n",
    "    url='https://test-videos.co.uk/vids/bigbuckbunny/mp4/h264/720/Big_Buck_Bunny_720_10s_1MB.mp4'\n",
    ")"
   ]
  },
  {
   "cell_type": "code",
   "execution_count": 20,
   "metadata": {},
   "outputs": [],
   "source": [
    "task.get_logger().report_media(\n",
    "    'audio', 'pink panther', iteration=1,\n",
    "    url='https://www2.cs.uic.edu/~i101/SoundFiles/PinkPanther30.wav'\n",
    ")"
   ]
  },
  {
   "cell_type": "code",
   "execution_count": 21,
   "metadata": {},
   "outputs": [],
   "source": [
    "task.get_logger().report_media(\n",
    "    'images', \n",
    "    'sample1', \n",
    "    iteration=1,\n",
    "    local_path=os.path.join('data', 'sample1.jpg')\n",
    ")"
   ]
  },
  {
   "cell_type": "code",
   "execution_count": 22,
   "metadata": {},
   "outputs": [],
   "source": [
    "task.get_logger().report_image(\n",
    "    'images', \n",
    "    'sample2', \n",
    "    iteration=1, \n",
    "    local_path=os.path.join('data', 'sample2.jpg')\n",
    ")"
   ]
  },
  {
   "cell_type": "markdown",
   "metadata": {},
   "source": [
    "#### report_images is specifically for images (local_path, url or image data)"
   ]
  },
  {
   "cell_type": "code",
   "execution_count": 23,
   "metadata": {},
   "outputs": [],
   "source": [
    "task.get_logger().report_image(\n",
    "    'images', \n",
    "    'sample3', \n",
    "    iteration=1, \n",
    "    image=Image.open(os.path.join('data', 'sample3.jpg'))\n",
    ")"
   ]
  },
  {
   "cell_type": "markdown",
   "metadata": {},
   "source": [
    "### report_table to refort dataframes or tables (use csv, url or table_plot param for df or table as list of rows)"
   ]
  },
  {
   "cell_type": "code",
   "execution_count": 24,
   "metadata": {},
   "outputs": [],
   "source": [
    "df = pd.read_csv(\"./data/train.csv\")"
   ]
  },
  {
   "cell_type": "code",
   "execution_count": 25,
   "metadata": {},
   "outputs": [
    {
     "data": {
      "text/html": [
       "<div>\n",
       "<style scoped>\n",
       "    .dataframe tbody tr th:only-of-type {\n",
       "        vertical-align: middle;\n",
       "    }\n",
       "\n",
       "    .dataframe tbody tr th {\n",
       "        vertical-align: top;\n",
       "    }\n",
       "\n",
       "    .dataframe thead th {\n",
       "        text-align: right;\n",
       "    }\n",
       "</style>\n",
       "<table border=\"1\" class=\"dataframe\">\n",
       "  <thead>\n",
       "    <tr style=\"text-align: right;\">\n",
       "      <th></th>\n",
       "      <th>PassengerId</th>\n",
       "      <th>Survived</th>\n",
       "      <th>Pclass</th>\n",
       "      <th>Name</th>\n",
       "      <th>Sex</th>\n",
       "      <th>Age</th>\n",
       "      <th>SibSp</th>\n",
       "      <th>Parch</th>\n",
       "      <th>Ticket</th>\n",
       "      <th>Fare</th>\n",
       "      <th>Cabin</th>\n",
       "      <th>Embarked</th>\n",
       "    </tr>\n",
       "  </thead>\n",
       "  <tbody>\n",
       "    <tr>\n",
       "      <th>0</th>\n",
       "      <td>1</td>\n",
       "      <td>0</td>\n",
       "      <td>3</td>\n",
       "      <td>Braund, Mr. Owen Harris</td>\n",
       "      <td>male</td>\n",
       "      <td>22.0</td>\n",
       "      <td>1</td>\n",
       "      <td>0</td>\n",
       "      <td>A/5 21171</td>\n",
       "      <td>7.2500</td>\n",
       "      <td>NaN</td>\n",
       "      <td>S</td>\n",
       "    </tr>\n",
       "    <tr>\n",
       "      <th>1</th>\n",
       "      <td>2</td>\n",
       "      <td>1</td>\n",
       "      <td>1</td>\n",
       "      <td>Cumings, Mrs. John Bradley (Florence Briggs Th...</td>\n",
       "      <td>female</td>\n",
       "      <td>38.0</td>\n",
       "      <td>1</td>\n",
       "      <td>0</td>\n",
       "      <td>PC 17599</td>\n",
       "      <td>71.2833</td>\n",
       "      <td>C85</td>\n",
       "      <td>C</td>\n",
       "    </tr>\n",
       "    <tr>\n",
       "      <th>2</th>\n",
       "      <td>3</td>\n",
       "      <td>1</td>\n",
       "      <td>3</td>\n",
       "      <td>Heikkinen, Miss. Laina</td>\n",
       "      <td>female</td>\n",
       "      <td>26.0</td>\n",
       "      <td>0</td>\n",
       "      <td>0</td>\n",
       "      <td>STON/O2. 3101282</td>\n",
       "      <td>7.9250</td>\n",
       "      <td>NaN</td>\n",
       "      <td>S</td>\n",
       "    </tr>\n",
       "    <tr>\n",
       "      <th>3</th>\n",
       "      <td>4</td>\n",
       "      <td>1</td>\n",
       "      <td>1</td>\n",
       "      <td>Futrelle, Mrs. Jacques Heath (Lily May Peel)</td>\n",
       "      <td>female</td>\n",
       "      <td>35.0</td>\n",
       "      <td>1</td>\n",
       "      <td>0</td>\n",
       "      <td>113803</td>\n",
       "      <td>53.1000</td>\n",
       "      <td>C123</td>\n",
       "      <td>S</td>\n",
       "    </tr>\n",
       "    <tr>\n",
       "      <th>4</th>\n",
       "      <td>5</td>\n",
       "      <td>0</td>\n",
       "      <td>3</td>\n",
       "      <td>Allen, Mr. William Henry</td>\n",
       "      <td>male</td>\n",
       "      <td>35.0</td>\n",
       "      <td>0</td>\n",
       "      <td>0</td>\n",
       "      <td>373450</td>\n",
       "      <td>8.0500</td>\n",
       "      <td>NaN</td>\n",
       "      <td>S</td>\n",
       "    </tr>\n",
       "  </tbody>\n",
       "</table>\n",
       "</div>"
      ],
      "text/plain": [
       "   PassengerId  Survived  Pclass  \\\n",
       "0            1         0       3   \n",
       "1            2         1       1   \n",
       "2            3         1       3   \n",
       "3            4         1       1   \n",
       "4            5         0       3   \n",
       "\n",
       "                                                Name     Sex   Age  SibSp  \\\n",
       "0                            Braund, Mr. Owen Harris    male  22.0      1   \n",
       "1  Cumings, Mrs. John Bradley (Florence Briggs Th...  female  38.0      1   \n",
       "2                             Heikkinen, Miss. Laina  female  26.0      0   \n",
       "3       Futrelle, Mrs. Jacques Heath (Lily May Peel)  female  35.0      1   \n",
       "4                           Allen, Mr. William Henry    male  35.0      0   \n",
       "\n",
       "   Parch            Ticket     Fare Cabin Embarked  \n",
       "0      0         A/5 21171   7.2500   NaN        S  \n",
       "1      0          PC 17599  71.2833   C85        C  \n",
       "2      0  STON/O2. 3101282   7.9250   NaN        S  \n",
       "3      0            113803  53.1000  C123        S  \n",
       "4      0            373450   8.0500   NaN        S  "
      ]
     },
     "execution_count": 25,
     "metadata": {},
     "output_type": "execute_result"
    }
   ],
   "source": [
    "df.head()"
   ]
  },
  {
   "cell_type": "code",
   "execution_count": 26,
   "metadata": {},
   "outputs": [],
   "source": [
    "task.get_logger().report_table(title='table example',\n",
    "                               series='pandas DataFrame',\n",
    "                               iteration=0,\n",
    "                               table_plot=df)"
   ]
  },
  {
   "cell_type": "code",
   "execution_count": 27,
   "metadata": {},
   "outputs": [],
   "source": [
    "task.get_logger().report_table(title='table example',\n",
    "                               series='list of rows',\n",
    "                               iteration=0,\n",
    "                               table_plot=[[\"a\", \"b\", \"c\"], [1,2,3], [4,5,6], [7,8,9]])"
   ]
  },
  {
   "cell_type": "markdown",
   "metadata": {},
   "source": [
    "## Artifacts"
   ]
  },
  {
   "cell_type": "markdown",
   "metadata": {},
   "source": [
    "Artifacts are the output files created by a task. ClearML uploads and logs these products, so they can later be easily accessed, modified, and used.\n",
    "Artifacts can be used to store processed data (best use clearml dataset for that though), or other metadata for your experiment such as performance metrics."
   ]
  },
  {
   "cell_type": "code",
   "execution_count": 66,
   "metadata": {},
   "outputs": [],
   "source": [
    "processed_df = df.head()"
   ]
  },
  {
   "cell_type": "code",
   "execution_count": 67,
   "metadata": {},
   "outputs": [
    {
     "data": {
      "text/html": [
       "<div>\n",
       "<style scoped>\n",
       "    .dataframe tbody tr th:only-of-type {\n",
       "        vertical-align: middle;\n",
       "    }\n",
       "\n",
       "    .dataframe tbody tr th {\n",
       "        vertical-align: top;\n",
       "    }\n",
       "\n",
       "    .dataframe thead th {\n",
       "        text-align: right;\n",
       "    }\n",
       "</style>\n",
       "<table border=\"1\" class=\"dataframe\">\n",
       "  <thead>\n",
       "    <tr style=\"text-align: right;\">\n",
       "      <th></th>\n",
       "      <th>PassengerId</th>\n",
       "      <th>Survived</th>\n",
       "      <th>Pclass</th>\n",
       "      <th>Name</th>\n",
       "      <th>Sex</th>\n",
       "      <th>Age</th>\n",
       "      <th>SibSp</th>\n",
       "      <th>Parch</th>\n",
       "      <th>Ticket</th>\n",
       "      <th>Fare</th>\n",
       "      <th>Cabin</th>\n",
       "      <th>Embarked</th>\n",
       "    </tr>\n",
       "  </thead>\n",
       "  <tbody>\n",
       "    <tr>\n",
       "      <th>0</th>\n",
       "      <td>1</td>\n",
       "      <td>0</td>\n",
       "      <td>3</td>\n",
       "      <td>Braund, Mr. Owen Harris</td>\n",
       "      <td>male</td>\n",
       "      <td>22.0</td>\n",
       "      <td>1</td>\n",
       "      <td>0</td>\n",
       "      <td>A/5 21171</td>\n",
       "      <td>7.2500</td>\n",
       "      <td>NaN</td>\n",
       "      <td>S</td>\n",
       "    </tr>\n",
       "    <tr>\n",
       "      <th>1</th>\n",
       "      <td>2</td>\n",
       "      <td>1</td>\n",
       "      <td>1</td>\n",
       "      <td>Cumings, Mrs. John Bradley (Florence Briggs Th...</td>\n",
       "      <td>female</td>\n",
       "      <td>38.0</td>\n",
       "      <td>1</td>\n",
       "      <td>0</td>\n",
       "      <td>PC 17599</td>\n",
       "      <td>71.2833</td>\n",
       "      <td>C85</td>\n",
       "      <td>C</td>\n",
       "    </tr>\n",
       "    <tr>\n",
       "      <th>2</th>\n",
       "      <td>3</td>\n",
       "      <td>1</td>\n",
       "      <td>3</td>\n",
       "      <td>Heikkinen, Miss. Laina</td>\n",
       "      <td>female</td>\n",
       "      <td>26.0</td>\n",
       "      <td>0</td>\n",
       "      <td>0</td>\n",
       "      <td>STON/O2. 3101282</td>\n",
       "      <td>7.9250</td>\n",
       "      <td>NaN</td>\n",
       "      <td>S</td>\n",
       "    </tr>\n",
       "    <tr>\n",
       "      <th>3</th>\n",
       "      <td>4</td>\n",
       "      <td>1</td>\n",
       "      <td>1</td>\n",
       "      <td>Futrelle, Mrs. Jacques Heath (Lily May Peel)</td>\n",
       "      <td>female</td>\n",
       "      <td>35.0</td>\n",
       "      <td>1</td>\n",
       "      <td>0</td>\n",
       "      <td>113803</td>\n",
       "      <td>53.1000</td>\n",
       "      <td>C123</td>\n",
       "      <td>S</td>\n",
       "    </tr>\n",
       "    <tr>\n",
       "      <th>4</th>\n",
       "      <td>5</td>\n",
       "      <td>0</td>\n",
       "      <td>3</td>\n",
       "      <td>Allen, Mr. William Henry</td>\n",
       "      <td>male</td>\n",
       "      <td>35.0</td>\n",
       "      <td>0</td>\n",
       "      <td>0</td>\n",
       "      <td>373450</td>\n",
       "      <td>8.0500</td>\n",
       "      <td>NaN</td>\n",
       "      <td>S</td>\n",
       "    </tr>\n",
       "  </tbody>\n",
       "</table>\n",
       "</div>"
      ],
      "text/plain": [
       "   PassengerId  Survived  Pclass  \\\n",
       "0            1         0       3   \n",
       "1            2         1       1   \n",
       "2            3         1       3   \n",
       "3            4         1       1   \n",
       "4            5         0       3   \n",
       "\n",
       "                                                Name     Sex   Age  SibSp  \\\n",
       "0                            Braund, Mr. Owen Harris    male  22.0      1   \n",
       "1  Cumings, Mrs. John Bradley (Florence Briggs Th...  female  38.0      1   \n",
       "2                             Heikkinen, Miss. Laina  female  26.0      0   \n",
       "3       Futrelle, Mrs. Jacques Heath (Lily May Peel)  female  35.0      1   \n",
       "4                           Allen, Mr. William Henry    male  35.0      0   \n",
       "\n",
       "   Parch            Ticket     Fare Cabin Embarked  \n",
       "0      0         A/5 21171   7.2500   NaN        S  \n",
       "1      0          PC 17599  71.2833   C85        C  \n",
       "2      0  STON/O2. 3101282   7.9250   NaN        S  \n",
       "3      0            113803  53.1000  C123        S  \n",
       "4      0            373450   8.0500   NaN        S  "
      ]
     },
     "execution_count": 67,
     "metadata": {},
     "output_type": "execute_result"
    }
   ],
   "source": [
    "processed_df"
   ]
  },
  {
   "cell_type": "markdown",
   "metadata": {},
   "source": [
    "### Uploading artifacts"
   ]
  },
  {
   "cell_type": "code",
   "execution_count": 68,
   "metadata": {},
   "outputs": [
    {
     "data": {
      "text/plain": [
       "True"
      ]
     },
     "execution_count": 68,
     "metadata": {},
     "output_type": "execute_result"
    }
   ],
   "source": [
    "task.upload_artifact(name=\"processed_df\", artifact_object=processed_df)"
   ]
  },
  {
   "cell_type": "code",
   "execution_count": 69,
   "metadata": {},
   "outputs": [
    {
     "data": {
      "text/plain": [
       "True"
      ]
     },
     "execution_count": 69,
     "metadata": {},
     "output_type": "execute_result"
    }
   ],
   "source": [
    "task.upload_artifact(name=\"json_file\", artifact_object=\"./data/sample_json.json\")"
   ]
  },
  {
   "cell_type": "code",
   "execution_count": 70,
   "metadata": {},
   "outputs": [
    {
     "data": {
      "text/plain": [
       "True"
      ]
     },
     "execution_count": 70,
     "metadata": {},
     "output_type": "execute_result"
    }
   ],
   "source": [
    "performance = {\"train_loss\" : 0.01, \"train_acc\" : 0.95, \"val_loss\" : 0.04, \"val_acc\" : 0.91}\n",
    "task.upload_artifact(name=\"training_metrics\", artifact_object=performance)"
   ]
  },
  {
   "cell_type": "code",
   "execution_count": 71,
   "metadata": {},
   "outputs": [
    {
     "data": {
      "text/plain": [
       "True"
      ]
     },
     "execution_count": 71,
     "metadata": {},
     "output_type": "execute_result"
    }
   ],
   "source": [
    "task.upload_artifact(name=\"all_data\", artifact_object=\"./data\")"
   ]
  },
  {
   "cell_type": "markdown",
   "metadata": {},
   "source": [
    "### Using artifacts"
   ]
  },
  {
   "cell_type": "code",
   "execution_count": 72,
   "metadata": {},
   "outputs": [
    {
     "data": {
      "text/plain": [
       "{'all_data': {'name': 'all_data', 'size': 1234264, 'type': 'archive', 'mode': <ArtifactModeEnum.output: 'output'>, 'url': 'https://files.clear.ml/ClearmlStudySessions/tasks_tutorial/first%20basic%20task.61494cc529f34dfcbbd66e07556f85ed/artifacts/all_data/data.zip', 'hash': '32eac612d33f648f466345bc637597c600303bf416404ea913948a25e968d70c', 'timestamp': datetime.datetime(2023, 3, 23, 10, 19, 26), 'metadata': {}, 'preview': 'Archive content data/*:\\nsample1.jpg - 806.89 KB\\nsample2.jpg - 562.88 KB\\nsample3.jpg - 247.3 KB\\nsample_json.json - 131 bytes\\ntrain.csv - 61.19 KB\\n'},\n",
       " 'json_file': {'name': 'json_file', 'size': 131, 'type': 'custom', 'mode': <ArtifactModeEnum.output: 'output'>, 'url': 'https://files.clear.ml/ClearmlStudySessions/tasks_tutorial/first%20basic%20task.61494cc529f34dfcbbd66e07556f85ed/artifacts/json_file/sample_json.json', 'hash': '5c717ef7f88a959f744774b9abe43bfe8a90ad1316692c79a848f00c73f5ddf7', 'timestamp': datetime.datetime(2023, 3, 23, 10, 19, 23), 'metadata': {}, 'preview': 'sample_json.json - 131 bytes\\n'},\n",
       " 'processed_df': {'name': 'processed_df', 'size': 377, 'type': 'pandas', 'mode': <ArtifactModeEnum.output: 'output'>, 'url': 'https://files.clear.ml/ClearmlStudySessions/tasks_tutorial/first%20basic%20task.61494cc529f34dfcbbd66e07556f85ed/artifacts/processed_df/processed_df.csv.gz', 'hash': 'ad6f6b6ecf28020fa2061c5b67b0e772e09eb6e852b0e909df5b0548eba2b152', 'timestamp': datetime.datetime(2023, 3, 23, 10, 19, 22), 'metadata': {}, 'preview': '   PassengerId  Survived  Pclass  \\\\\\n0            1         0       3   \\n1            2         1       1   \\n2            3         1       3   \\n3            4         1       1   \\n4            5         0       3   \\n\\n                                                Name     Sex   Age  SibSp  \\\\\\n0                            Braund, Mr. Owen Harris    male  22.0      1   \\n1  Cumings, Mrs. John Bradley (Florence Briggs Th...  female  38.0      1   \\n2                             Heikkinen, Miss. Laina  female  26.0      0   \\n3       Futrelle, Mrs. Jacques Heath (Lily May Peel)  female  35.0      1   \\n4                           Allen, Mr. William Henry    male  35.0      0   \\n\\n   Parch            Ticket     Fare Cabin Embarked  \\n0      0         A/5 21171   7.2500   NaN        S  \\n1      0          PC 17599  71.2833   C85        C  \\n2      0  STON/O2. 3101282   7.9250   NaN        S  \\n3      0            113803  53.1000  C123        S  \\n4      0            373450   8.0500   NaN        S  '},\n",
       " 'training_metrics': {'name': 'training_metrics', 'size': 92, 'type': 'dict', 'mode': <ArtifactModeEnum.output: 'output'>, 'url': 'https://files.clear.ml/ClearmlStudySessions/tasks_tutorial/first%20basic%20task.61494cc529f34dfcbbd66e07556f85ed/artifacts/training_metrics/training_metrics.json', 'hash': '8a51d42504594d3e1f52d895a6b86f3e5f14a02ad28d50d9a492a907e73219c4', 'timestamp': datetime.datetime(2023, 3, 23, 10, 19, 25), 'metadata': {}, 'preview': '{\\n    \"train_acc\": 0.95,\\n    \"train_loss\": 0.01,\\n    \"val_acc\": 0.91,\\n    \"val_loss\": 0.04\\n}'}}"
      ]
     },
     "execution_count": 72,
     "metadata": {},
     "output_type": "execute_result"
    }
   ],
   "source": [
    "task.artifacts"
   ]
  },
  {
   "cell_type": "markdown",
   "metadata": {},
   "source": [
    "Notice in the url that the dataframe file was compressed to a .csv.gz file!\n",
    "When downloading it, you will have to unzip it first.\n",
    "If you upload a folder as an artifact, the folder will also be zipped when uploaded, but unzipped when getting local copy."
   ]
  },
  {
   "cell_type": "code",
   "execution_count": 73,
   "metadata": {},
   "outputs": [
    {
     "data": {
      "text/plain": [
       "{'name': 'processed_df', 'size': 377, 'type': 'pandas', 'mode': <ArtifactModeEnum.output: 'output'>, 'url': 'https://files.clear.ml/ClearmlStudySessions/tasks_tutorial/first%20basic%20task.61494cc529f34dfcbbd66e07556f85ed/artifacts/processed_df/processed_df.csv.gz', 'hash': 'ad6f6b6ecf28020fa2061c5b67b0e772e09eb6e852b0e909df5b0548eba2b152', 'timestamp': datetime.datetime(2023, 3, 23, 10, 19, 22), 'metadata': {}, 'preview': '   PassengerId  Survived  Pclass  \\\\\\n0            1         0       3   \\n1            2         1       1   \\n2            3         1       3   \\n3            4         1       1   \\n4            5         0       3   \\n\\n                                                Name     Sex   Age  SibSp  \\\\\\n0                            Braund, Mr. Owen Harris    male  22.0      1   \\n1  Cumings, Mrs. John Bradley (Florence Briggs Th...  female  38.0      1   \\n2                             Heikkinen, Miss. Laina  female  26.0      0   \\n3       Futrelle, Mrs. Jacques Heath (Lily May Peel)  female  35.0      1   \\n4                           Allen, Mr. William Henry    male  35.0      0   \\n\\n   Parch            Ticket     Fare Cabin Embarked  \\n0      0         A/5 21171   7.2500   NaN        S  \\n1      0          PC 17599  71.2833   C85        C  \\n2      0  STON/O2. 3101282   7.9250   NaN        S  \\n3      0            113803  53.1000  C123        S  \\n4      0            373450   8.0500   NaN        S  '}"
      ]
     },
     "execution_count": 73,
     "metadata": {},
     "output_type": "execute_result"
    }
   ],
   "source": [
    "task.artifacts[\"processed_df\"]"
   ]
  },
  {
   "cell_type": "code",
   "execution_count": 74,
   "metadata": {},
   "outputs": [
    {
     "data": {
      "text/plain": [
       "clearml.binding.artifacts.Artifact"
      ]
     },
     "execution_count": 74,
     "metadata": {},
     "output_type": "execute_result"
    }
   ],
   "source": [
    "type(task.artifacts[\"processed_df\"])"
   ]
  },
  {
   "cell_type": "markdown",
   "metadata": {},
   "source": [
    "get_local_copy() will download a local copy of the artifact and return the path to it"
   ]
  },
  {
   "cell_type": "code",
   "execution_count": 75,
   "metadata": {},
   "outputs": [
    {
     "name": "stdout",
     "output_type": "stream",
     "text": [
      "/Users/ghassen_benhadjlarbi/.clearml/cache/storage_manager/global/29834df748dbcd08c97b44942b93369e.processed_df.csv.gz\n"
     ]
    }
   ],
   "source": [
    "processed_df_artifact_local_copy = task.artifacts[\"processed_df\"].get_local_copy()\n",
    "print(processed_df_artifact_local_copy)"
   ]
  },
  {
   "cell_type": "markdown",
   "metadata": {},
   "source": [
    "get() will download and directly deserialize the artifact"
   ]
  },
  {
   "cell_type": "code",
   "execution_count": 76,
   "metadata": {},
   "outputs": [],
   "source": [
    "processed_df_artifact = task.artifacts[\"processed_df\"].get()"
   ]
  },
  {
   "cell_type": "code",
   "execution_count": 77,
   "metadata": {},
   "outputs": [
    {
     "data": {
      "text/plain": [
       "pandas.core.frame.DataFrame"
      ]
     },
     "execution_count": 77,
     "metadata": {},
     "output_type": "execute_result"
    }
   ],
   "source": [
    "type(processed_df_artifact)"
   ]
  },
  {
   "cell_type": "code",
   "execution_count": 78,
   "metadata": {},
   "outputs": [
    {
     "data": {
      "text/html": [
       "<div>\n",
       "<style scoped>\n",
       "    .dataframe tbody tr th:only-of-type {\n",
       "        vertical-align: middle;\n",
       "    }\n",
       "\n",
       "    .dataframe tbody tr th {\n",
       "        vertical-align: top;\n",
       "    }\n",
       "\n",
       "    .dataframe thead th {\n",
       "        text-align: right;\n",
       "    }\n",
       "</style>\n",
       "<table border=\"1\" class=\"dataframe\">\n",
       "  <thead>\n",
       "    <tr style=\"text-align: right;\">\n",
       "      <th></th>\n",
       "      <th>PassengerId</th>\n",
       "      <th>Survived</th>\n",
       "      <th>Pclass</th>\n",
       "      <th>Name</th>\n",
       "      <th>Sex</th>\n",
       "      <th>Age</th>\n",
       "      <th>SibSp</th>\n",
       "      <th>Parch</th>\n",
       "      <th>Ticket</th>\n",
       "      <th>Fare</th>\n",
       "      <th>Cabin</th>\n",
       "      <th>Embarked</th>\n",
       "    </tr>\n",
       "  </thead>\n",
       "  <tbody>\n",
       "    <tr>\n",
       "      <th>0</th>\n",
       "      <td>1</td>\n",
       "      <td>0</td>\n",
       "      <td>3</td>\n",
       "      <td>Braund, Mr. Owen Harris</td>\n",
       "      <td>male</td>\n",
       "      <td>22.0</td>\n",
       "      <td>1</td>\n",
       "      <td>0</td>\n",
       "      <td>A/5 21171</td>\n",
       "      <td>7.2500</td>\n",
       "      <td>NaN</td>\n",
       "      <td>S</td>\n",
       "    </tr>\n",
       "    <tr>\n",
       "      <th>1</th>\n",
       "      <td>2</td>\n",
       "      <td>1</td>\n",
       "      <td>1</td>\n",
       "      <td>Cumings, Mrs. John Bradley (Florence Briggs Th...</td>\n",
       "      <td>female</td>\n",
       "      <td>38.0</td>\n",
       "      <td>1</td>\n",
       "      <td>0</td>\n",
       "      <td>PC 17599</td>\n",
       "      <td>71.2833</td>\n",
       "      <td>C85</td>\n",
       "      <td>C</td>\n",
       "    </tr>\n",
       "    <tr>\n",
       "      <th>2</th>\n",
       "      <td>3</td>\n",
       "      <td>1</td>\n",
       "      <td>3</td>\n",
       "      <td>Heikkinen, Miss. Laina</td>\n",
       "      <td>female</td>\n",
       "      <td>26.0</td>\n",
       "      <td>0</td>\n",
       "      <td>0</td>\n",
       "      <td>STON/O2. 3101282</td>\n",
       "      <td>7.9250</td>\n",
       "      <td>NaN</td>\n",
       "      <td>S</td>\n",
       "    </tr>\n",
       "    <tr>\n",
       "      <th>3</th>\n",
       "      <td>4</td>\n",
       "      <td>1</td>\n",
       "      <td>1</td>\n",
       "      <td>Futrelle, Mrs. Jacques Heath (Lily May Peel)</td>\n",
       "      <td>female</td>\n",
       "      <td>35.0</td>\n",
       "      <td>1</td>\n",
       "      <td>0</td>\n",
       "      <td>113803</td>\n",
       "      <td>53.1000</td>\n",
       "      <td>C123</td>\n",
       "      <td>S</td>\n",
       "    </tr>\n",
       "    <tr>\n",
       "      <th>4</th>\n",
       "      <td>5</td>\n",
       "      <td>0</td>\n",
       "      <td>3</td>\n",
       "      <td>Allen, Mr. William Henry</td>\n",
       "      <td>male</td>\n",
       "      <td>35.0</td>\n",
       "      <td>0</td>\n",
       "      <td>0</td>\n",
       "      <td>373450</td>\n",
       "      <td>8.0500</td>\n",
       "      <td>NaN</td>\n",
       "      <td>S</td>\n",
       "    </tr>\n",
       "  </tbody>\n",
       "</table>\n",
       "</div>"
      ],
      "text/plain": [
       "   PassengerId  Survived  Pclass  \\\n",
       "0            1         0       3   \n",
       "1            2         1       1   \n",
       "2            3         1       3   \n",
       "3            4         1       1   \n",
       "4            5         0       3   \n",
       "\n",
       "                                                Name     Sex   Age  SibSp  \\\n",
       "0                            Braund, Mr. Owen Harris    male  22.0      1   \n",
       "1  Cumings, Mrs. John Bradley (Florence Briggs Th...  female  38.0      1   \n",
       "2                             Heikkinen, Miss. Laina  female  26.0      0   \n",
       "3       Futrelle, Mrs. Jacques Heath (Lily May Peel)  female  35.0      1   \n",
       "4                           Allen, Mr. William Henry    male  35.0      0   \n",
       "\n",
       "   Parch            Ticket     Fare Cabin Embarked  \n",
       "0      0         A/5 21171   7.2500   NaN        S  \n",
       "1      0          PC 17599  71.2833   C85        C  \n",
       "2      0  STON/O2. 3101282   7.9250   NaN        S  \n",
       "3      0            113803  53.1000  C123        S  \n",
       "4      0            373450   8.0500   NaN        S  "
      ]
     },
     "execution_count": 78,
     "metadata": {},
     "output_type": "execute_result"
    }
   ],
   "source": [
    "processed_df_artifact"
   ]
  },
  {
   "cell_type": "code",
   "execution_count": 79,
   "metadata": {},
   "outputs": [],
   "source": [
    "training_metrics_path = task.artifacts[\"training_metrics\"].get_local_copy()"
   ]
  },
  {
   "cell_type": "code",
   "execution_count": 80,
   "metadata": {},
   "outputs": [
    {
     "data": {
      "text/plain": [
       "'/Users/ghassen_benhadjlarbi/.clearml/cache/storage_manager/global/3ca826c02677b90782790cae8b614156.training_metrics.json'"
      ]
     },
     "execution_count": 80,
     "metadata": {},
     "output_type": "execute_result"
    }
   ],
   "source": [
    "training_metrics_path"
   ]
  },
  {
   "cell_type": "code",
   "execution_count": 81,
   "metadata": {},
   "outputs": [
    {
     "name": "stdout",
     "output_type": "stream",
     "text": [
      "{\n",
      "    \"train_acc\": 0.95,\n",
      "    \"train_loss\": 0.01,\n",
      "    \"val_acc\": 0.91,\n",
      "    \"val_loss\": 0.04\n",
      "}\n"
     ]
    }
   ],
   "source": [
    "with open(training_metrics_path) as artifact_path:\n",
    "    training_metrics = artifact_path.read()\n",
    "print(training_metrics)"
   ]
  },
  {
   "cell_type": "code",
   "execution_count": 82,
   "metadata": {},
   "outputs": [
    {
     "name": "stdout",
     "output_type": "stream",
     "text": [
      "/Users/ghassen_benhadjlarbi/.clearml/cache/storage_manager/global/b4acd334f9a45a2456aeb77e629dc36f.data_artifacts_archive_all_data\n"
     ]
    }
   ],
   "source": [
    "all_data_path = task.artifacts[\"all_data\"].get_local_copy()\n",
    "print(all_data_path)"
   ]
  },
  {
   "cell_type": "code",
   "execution_count": 83,
   "metadata": {},
   "outputs": [
    {
     "data": {
      "text/plain": [
       "['sample1.jpg', 'sample3.jpg', 'sample_json.json', 'sample2.jpg', 'train.csv']"
      ]
     },
     "execution_count": 83,
     "metadata": {},
     "output_type": "execute_result"
    }
   ],
   "source": [
    "os.listdir(all_data_path)"
   ]
  },
  {
   "cell_type": "markdown",
   "metadata": {},
   "source": [
    "Using get() for a folder will just yield a pathlib.Path object to where the folder was downloaded"
   ]
  },
  {
   "cell_type": "code",
   "execution_count": 84,
   "metadata": {},
   "outputs": [],
   "source": [
    "all_data = task.artifacts[\"all_data\"].get()"
   ]
  },
  {
   "cell_type": "code",
   "execution_count": 85,
   "metadata": {},
   "outputs": [
    {
     "data": {
      "text/plain": [
       "PosixPath('/Users/ghassen_benhadjlarbi/.clearml/cache/storage_manager/global/b4acd334f9a45a2456aeb77e629dc36f.data_artifacts_archive_all_data')"
      ]
     },
     "execution_count": 85,
     "metadata": {},
     "output_type": "execute_result"
    }
   ],
   "source": [
    "all_data"
   ]
  },
  {
   "cell_type": "markdown",
   "metadata": {},
   "source": [
    "# Manually close task"
   ]
  },
  {
   "cell_type": "code",
   "execution_count": 96,
   "metadata": {},
   "outputs": [],
   "source": [
    "# In notebooks, use task.close() to actually complete the task\n",
    "task.close()"
   ]
  },
  {
   "cell_type": "code",
   "execution_count": null,
   "metadata": {},
   "outputs": [],
   "source": []
  }
 ],
 "metadata": {
  "kernelspec": {
   "display_name": "Python 3 (ipykernel)",
   "language": "python",
   "name": "python3"
  },
  "language_info": {
   "codemirror_mode": {
    "name": "ipython",
    "version": 3
   },
   "file_extension": ".py",
   "mimetype": "text/x-python",
   "name": "python",
   "nbconvert_exporter": "python",
   "pygments_lexer": "ipython3",
   "version": "3.7.10"
  }
 },
 "nbformat": 4,
 "nbformat_minor": 2
}

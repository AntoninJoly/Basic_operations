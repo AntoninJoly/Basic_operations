{
 "cells": [
  {
   "cell_type": "code",
   "execution_count": 38,
   "id": "4cbf8e47",
   "metadata": {},
   "outputs": [
    {
     "name": "stdout",
     "output_type": "stream",
     "text": [
      "H.\n",
      "Thusculdno change anythcpt\n"
     ]
    }
   ],
   "source": [
    "import difflib\n",
    "import sys\n",
    "\n",
    "file1 = \"\"\"THis is a test for testing differences.\n",
    "Thus we could not change anything in the script\"\"\"\n",
    "file2 = \"\"\"This is a test for testing differences between two strings.\n",
    "It appears that the differences in the two files is very big\"\"\"\n",
    "\n",
    "# delta = difflib.unified_diff(file_1, file_2, 'file1', 'file2')\n",
    "# sys.stdout.writelines(delta)\n",
    "\n",
    "diff = difflib.ndiff(file1, file2)\n",
    "delta = ''.join(x[2:] for x in diff if x.startswith('- '))\n",
    "print(delta)"
   ]
  },
  {
   "cell_type": "code",
   "execution_count": 39,
   "id": "3ef1ed45",
   "metadata": {},
   "outputs": [
    {
     "name": "stdout",
     "output_type": "stream",
     "text": [
      "T\u001b[38;5;16;48;5;2mh\u001b[0mis is a test for testing differences \u001b[38;5;16;48;5;2mbet\u001b[0mwe\u001b[38;5;16;48;5;2men\u001b[0m \u001b[38;5;16;48;5;2mtw\u001b[0mo \u001b[38;5;16;48;5;2ms\u001b[0mt\u001b[38;5;16;48;5;2mr\u001b[0ming\u001b[38;5;16;48;5;2ms.\n",
      "It appears that the differences\u001b[0m in the \u001b[38;5;16;48;5;2mtwo file\u001b[0ms\u001b[38;5;16;48;5;2m is ve\u001b[0mr\u001b[38;5;16;48;5;2my b\u001b[0mi\u001b[38;5;16;48;5;2mg\u001b[0m\n"
     ]
    }
   ],
   "source": [
    "import difflib\n",
    "# import wasabi\n",
    "from wasabi import color\n",
    "\n",
    "def diff_strings(a, b):\n",
    "    output = []\n",
    "    matcher = difflib.SequenceMatcher(None, a, b)\n",
    "    for opcode, a0, a1, b0, b1 in matcher.get_opcodes():\n",
    "        if opcode == \"equal\":\n",
    "            output.append(a[a0:a1])\n",
    "        elif opcode == \"insert\":\n",
    "            output.append(color(b[b0:b1], fg=16, bg=\"green\"))\n",
    "#         elif opcode == \"delete\":\n",
    "#             output.append(color(a[a0:a1], fg=16, bg=\"red\"))\n",
    "        elif opcode == \"replace\":\n",
    "            output.append(color(b[b0:b1], fg=16, bg=\"green\"))\n",
    "#             output.append(color(a[a0:a1], fg=16, bg=\"red\"))\n",
    "    return \"\".join(output)\n",
    "    \n",
    "print(diff_strings(file1, file2))"
   ]
  },
  {
   "cell_type": "code",
   "execution_count": 29,
   "id": "cae8a0b0",
   "metadata": {},
   "outputs": [
    {
     "name": "stderr",
     "output_type": "stream",
     "text": [
      "T\u001b[42m\u001b[30mh\u001b[0m\u001b[42m\u001b[0m\u001b[41m\u001b[30mH\u001b[0m\u001b[41m\u001b[0mis is a test for \u001b[41m\u001b[30mtesting \u001b[0m\u001b[41m\u001b[0mdifferences\u001b[42m\u001b[30m' test\u001b[0m\u001b[42m\u001b[0m."
     ]
    },
    {
     "name": "stdout",
     "output_type": "stream",
     "text": [
      "T\u001b[38;5;16;48;5;2mh\u001b[0m\u001b[38;5;16;48;5;1mH\u001b[0mis is a test for \u001b[38;5;16;48;5;1mtesting \u001b[0mdifferences\u001b[38;5;16;48;5;2m' test\u001b[0m.\n"
     ]
    }
   ],
   "source": [
    "import difflib\n",
    "\n",
    "def diff_strings(a: str, b: str, *, use_loguru_colors: bool = False) -> str:\n",
    "    output = []\n",
    "    matcher = difflib.SequenceMatcher(None, a, b)\n",
    "    if use_loguru_colors:\n",
    "        green = '<GREEN><black>'\n",
    "        red = '<RED><black>'\n",
    "        endgreen = '</black></GREEN>'\n",
    "        endred = '</black></RED>'\n",
    "    else:\n",
    "        green = '\\x1b[38;5;16;48;5;2m'\n",
    "        red = '\\x1b[38;5;16;48;5;1m'\n",
    "        endgreen = '\\x1b[0m'\n",
    "        endred = '\\x1b[0m'\n",
    "\n",
    "    for opcode, a0, a1, b0, b1 in matcher.get_opcodes():\n",
    "        if opcode == 'equal':\n",
    "            output.append(a[a0:a1])\n",
    "        elif opcode == 'insert':\n",
    "            output.append(f'{green}{b[b0:b1]}{endgreen}')\n",
    "        elif opcode == 'delete':\n",
    "            output.append(f'{red}{a[a0:a1]}{endred}')\n",
    "        elif opcode == 'replace':\n",
    "            output.append(f'{green}{b[b0:b1]}{endgreen}')\n",
    "            output.append(f'{red}{a[a0:a1]}{endred}')\n",
    "    return ''.join(output)\n",
    "\n",
    "\n",
    "file1 = \"\"\"THis is a test for testing differences.\"\"\"\n",
    "file2 = \"\"\"This is a test for differences' test.\"\"\"\n",
    "\n",
    "print(diff_strings(file1, file2))\n",
    "from loguru import logger\n",
    "logger.opt(raw=True, colors=True).info(diff_strings(file1, file2, use_loguru_colors=True))"
   ]
  },
  {
   "cell_type": "code",
   "execution_count": null,
   "id": "c001ae16",
   "metadata": {},
   "outputs": [],
   "source": []
  }
 ],
 "metadata": {
  "kernelspec": {
   "display_name": "python3.7",
   "language": "python",
   "name": "python3"
  },
  "language_info": {
   "codemirror_mode": {
    "name": "ipython",
    "version": 3
   },
   "file_extension": ".py",
   "mimetype": "text/x-python",
   "name": "python",
   "nbconvert_exporter": "python",
   "pygments_lexer": "ipython3",
   "version": "3.7.10"
  }
 },
 "nbformat": 4,
 "nbformat_minor": 5
}

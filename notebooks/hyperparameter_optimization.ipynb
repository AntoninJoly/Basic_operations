{
 "cells": [
  {
   "cell_type": "code",
   "execution_count": 1,
   "metadata": {},
   "outputs": [],
   "source": [
    "import numpy as np\n",
    "import xgboost as xgb\n",
    "import os\n",
    "import pickle\n",
    "\n",
    "from sklearn.multioutput import MultiOutputRegressor\n",
    "from sklearn.model_selection import GridSearchCV\n",
    "from hyperopt import STATUS_OK, Trials, fmin, hp, tpe"
   ]
  },
  {
   "cell_type": "markdown",
   "metadata": {},
   "source": [
    "# Grid search single output regression"
   ]
  },
  {
   "cell_type": "code",
   "execution_count": null,
   "metadata": {},
   "outputs": [],
   "source": [
    "def params_name_format(params, str_rem):\n",
    "    out_dict = {}\n",
    "    for k, v in params.items():\n",
    "        new_key = k.replace(str_rem, '') if str_rem in k else k\n",
    "        out_dict[new_key] = v\n",
    "    return out_dict \n",
    "\n",
    "param_grid = {'estimator__max_depth':[i for i in range(9,12)],\n",
    "              'estimator__min_child_weight':[i for i in range(5,8)],\n",
    "              'estimator__learning_rate':[.3, .2, .1, .05, .01, .005],\n",
    "              'estimator__subsample':[i/10. for i in range(7,11)],\n",
    "              'estimator__colsample_bytree':[i/10 for i in range(7,11)],\n",
    "              'estimator__objective':['reg:squarederror'],\n",
    "              'estimator__n_estimators':[1000],\n",
    "              'estimator__eval_metric':['mae']}"
   ]
  },
  {
   "cell_type": "code",
   "execution_count": null,
   "metadata": {},
   "outputs": [],
   "source": [
    "gs_xgb = GridSearchCV(xgb.XGBRegressor(),\n",
    "                      param_grid=param_grid,\n",
    "                      cv=2,\n",
    "                      scoring='neg_mean_squared_error',\n",
    "                      verbose=0)\n",
    "gs_xgb.fit(X_train,\n",
    "           y_train,\n",
    "           early_stopping_rounds = 5,\n",
    "           eval_metric = ['mae'],\n",
    "           eval_set = [(X_train, y_train), (X_val, y_val)],\n",
    "           verbose = False)\n",
    "params = params_name_format(gs_xgb.best_params_, str_rem='estimator__')\n",
    "print(params)"
   ]
  },
  {
   "cell_type": "code",
   "execution_count": null,
   "metadata": {},
   "outputs": [],
   "source": [
    "xgb_model = xgb.XGBRegressor(**params).fit(X_train,\n",
    "                                           y_train,\n",
    "                                           early_stopping_rounds = 5,\n",
    "                                           eval_metric = ['mae'],\n",
    "                                           eval_set = [(X_train, y_train), (X_val, y_val)],\n",
    "                                           verbose = False)\n",
    "pickle.dump(xgb_model, open('xgb_reg_single_finetuned.pkl', \"wb\"))"
   ]
  },
  {
   "cell_type": "markdown",
   "metadata": {},
   "source": [
    "# Grid search multiple output regression"
   ]
  },
  {
   "cell_type": "code",
   "execution_count": null,
   "metadata": {},
   "outputs": [],
   "source": [
    "def params_name_format(params, str_rem):\n",
    "    out_dict = {}\n",
    "    for k, v in params.items():\n",
    "        new_key = k.replace(str_rem, '') if str_rem in k else k\n",
    "        out_dict[new_key] = v\n",
    "    return out_dict \n",
    "\n",
    "param_grid = {'estimator__max_depth':[i for i in range(9,12)],\n",
    "              'estimator__min_child_weight':[i for i in range(5,8)],\n",
    "              'estimator__learning_rate':[.3, .2, .1, .05, .01, .005],\n",
    "              'estimator__subsample':[i/10. for i in range(7,11)],\n",
    "              'estimator__colsample_bytree':[i/10 for i in range(7,11)],\n",
    "              'estimator__objective':['reg:squarederror'],\n",
    "              'estimator__n_estimators':[1000],\n",
    "              'estimator__eval_metric':['mae']}"
   ]
  },
  {
   "cell_type": "code",
   "execution_count": null,
   "metadata": {},
   "outputs": [],
   "source": [
    "gs_xgb = GridSearchCV(MultiOutputRegressor(xgb.XGBRegressor()),\n",
    "                      param_grid=param_grid,\n",
    "                      cv=2,\n",
    "                      scoring='neg_mean_squared_error',\n",
    "                      verbose=0)\n",
    "gs_xgb.fit(X_train,\n",
    "           y_train,\n",
    "           early_stopping_rounds = 5,\n",
    "           eval_metric = ['mae'],\n",
    "           eval_set = [(X_train, y_train), (X_val, y_val)],\n",
    "           verbose = False)\n",
    "params = params_name_format(gs_xgb.best_params_, str_rem='estimator__')\n",
    "print(params)"
   ]
  },
  {
   "cell_type": "code",
   "execution_count": null,
   "metadata": {},
   "outputs": [],
   "source": [
    "xgb_model = MultiOutputRegressor(xgb.XGBRegressor(**params)).fit(X_train,\n",
    "                                                                 y_train,\n",
    "                                                                 early_stopping_rounds = 5,\n",
    "                                                                 eval_metric = ['mae'],\n",
    "                                                                 eval_set = [(X_train, y_train), (X_val, y_val)],\n",
    "                                                                 verbose = False)\n",
    "pickle.dump(xgb_model, open('xgb_reg_multiple_finetuned.pkl', \"wb\"))"
   ]
  },
  {
   "cell_type": "markdown",
   "metadata": {},
   "source": [
    "# Bayesian optimization single output regression"
   ]
  },
  {
   "cell_type": "code",
   "execution_count": null,
   "metadata": {},
   "outputs": [],
   "source": [
    ",l."
   ]
  },
  {
   "cell_type": "markdown",
   "metadata": {},
   "source": [
    "# Bayesian optimization multiple output regression"
   ]
  },
  {
   "cell_type": "code",
   "execution_count": null,
   "metadata": {},
   "outputs": [],
   "source": []
  },
  {
   "cell_type": "code",
   "execution_count": null,
   "metadata": {},
   "outputs": [],
   "source": []
  },
  {
   "cell_type": "code",
   "execution_count": null,
   "metadata": {},
   "outputs": [],
   "source": []
  }
 ],
 "metadata": {
  "kernelspec": {
   "display_name": "Python 3",
   "language": "python",
   "name": "python3"
  },
  "language_info": {
   "codemirror_mode": {
    "name": "ipython",
    "version": 3
   },
   "file_extension": ".py",
   "mimetype": "text/x-python",
   "name": "python",
   "nbconvert_exporter": "python",
   "pygments_lexer": "ipython3",
   "version": "3.7.4"
  }
 },
 "nbformat": 4,
 "nbformat_minor": 2
}

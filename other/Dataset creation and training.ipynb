{
 "cells": [
  {
   "cell_type": "code",
   "execution_count": 12,
   "metadata": {
    "tags": []
   },
   "outputs": [],
   "source": [
    "try:\n",
    "    import joblib\n",
    "except ImportError:\n",
    "    from sklearn.externals import joblib\n",
    "\n",
    "import os\n",
    "import json\n",
    "from sklearn.linear_model import LogisticRegression\n",
    "from sklearn.model_selection import train_test_split\n",
    "\n",
    "import numpy as np\n",
    "import matplotlib.pyplot as plt\n",
    "import pandas as pd\n",
    "\n",
    "from clearml import Task, TaskTypes, Model, OutputModel, Dataset"
   ]
  },
  {
   "cell_type": "code",
   "execution_count": 14,
   "metadata": {
    "tags": []
   },
   "outputs": [
    {
     "name": "stdout",
     "output_type": "stream",
     "text": [
      "ClearML results page: https://app.clear.ml/projects/6c28296ea86b42b0a9d9f6d62486a28d/experiments/f9a258eada0c458596cad533f2a1a51c/output/log\n",
      "ClearML dataset page: https://app.clear.ml/datasets/simple/6c28296ea86b42b0a9d9f6d62486a28d/experiments/f9a258eada0c458596cad533f2a1a51c\n",
      "Pending uploads, starting dataset upload to https://files.clear.ml\n",
      "Uploading dataset changes (1 files compressed to 21.57 KiB) to https://files.clear.ml\n",
      "File compression and upload completed: total size 21.57 KiB, 1 chunk(s) stored (average size 21.57 KiB)\n",
      "Updating statistics and genealogy\n"
     ]
    },
    {
     "data": {
      "text/plain": [
       "True"
      ]
     },
     "execution_count": 14,
     "metadata": {},
     "output_type": "execute_result"
    }
   ],
   "source": [
    "dataset = Dataset.create(dataset_name=\"Titanic dataset\",\n",
    "                         dataset_project=\"Titanic test\",\n",
    "                         dataset_tags=[\"initial\", \"titanic\", \"train\"],\n",
    "                         dataset_version=\"1.0.0\",\n",
    "                         description=\"Initial titanic dataset for demo\",\n",
    "                         parent_datasets = None,\n",
    "                         use_current_task=False,\n",
    "                         output_uri=None)\n",
    "dataset.add_files(path=\"./data/train.csv\")\n",
    "dataset.finalize(verbose=True, auto_upload=True)"
   ]
  },
  {
   "cell_type": "code",
   "execution_count": 16,
   "metadata": {
    "tags": []
   },
   "outputs": [],
   "source": [
    "train = Task.init(project_name=\"pipeline/train_pipeline\",\n",
    "                  task_name=\"train task\",\n",
    "                  task_type=TaskTypes.training,\n",
    "                  tags=[\"sklearn\", \"logistic\", \"titanic\", \"baseline\"],\n",
    "                  output_uri=True)"
   ]
  },
  {
   "cell_type": "code",
   "execution_count": 33,
   "metadata": {
    "tags": []
   },
   "outputs": [
    {
     "data": {
      "text/plain": [
       "{'model': 'Logistic_Regression_base',\n",
       " 'l1_ratio': 0.1,\n",
       " 'penalty': 'elasticnet',\n",
       " 'random_state': 0,\n",
       " 'solver': 'saga'}"
      ]
     },
     "execution_count": 33,
     "metadata": {},
     "output_type": "execute_result"
    }
   ],
   "source": [
    "# train.connect_configuration(name=\"yaml conf\", configuration=\"./data/config.yaml\")\n",
    "params = {\"model\" : \"Logistic_Regression_base\",\n",
    "          \"l1_ratio\": 0.25,\n",
    "          \"penalty\" : \"elasticnet\",\n",
    "          \"random_state\" : 0,\n",
    "          \"solver\":\"saga\"}\n",
    "train.connect(mutable=params, name=\"Params\")"
   ]
  },
  {
   "cell_type": "markdown",
   "metadata": {},
   "source": [
    "## Training and saving model"
   ]
  },
  {
   "cell_type": "code",
   "execution_count": 34,
   "metadata": {
    "tags": []
   },
   "outputs": [
    {
     "name": "stderr",
     "output_type": "stream",
     "text": [
      "C:\\Users\\Antonin_Joly\\miniconda3\\lib\\site-packages\\sklearn\\linear_model\\_sag.py:330: ConvergenceWarning:\n",
      "\n",
      "The max_iter was reached which means the coef_ did not converge\n",
      "\n"
     ]
    },
    {
     "data": {
      "text/plain": [
       "LogisticRegression(l1_ratio=0.1, penalty='elasticnet', random_state=0,\n",
       "                   solver='saga')"
      ]
     },
     "execution_count": 34,
     "metadata": {},
     "output_type": "execute_result"
    }
   ],
   "source": [
    "p = train.get_parameters()\n",
    "model = LogisticRegression(penalty = p['Params/penalty'], l1_ratio = float(p['Params/l1_ratio']), solver=p['Params/solver'], random_state = int(p['Params/random_state']))  # sklearn LogisticRegression class\n",
    "model.fit(X_train, y_train)\n",
    "result = model.score(X_test, y_test)"
   ]
  },
  {
   "cell_type": "code",
   "execution_count": 38,
   "metadata": {
    "tags": []
   },
   "outputs": [
    {
     "name": "stdout",
     "output_type": "stream",
     "text": [
      "ClearML Monitor: Reporting detected, reverting back to iteration based reporting\n"
     ]
    }
   ],
   "source": [
    "train.get_logger().report_single_value(name=\"Score\", value=result)"
   ]
  },
  {
   "cell_type": "code",
   "execution_count": 40,
   "metadata": {
    "tags": []
   },
   "outputs": [
    {
     "data": {
      "image/png": "[encoded data removed]",
      "text/plain": [
       "<Figure size 288x216 with 1 Axes>"
      ]
     },
     "metadata": {
      "needs_background": "light"
     },
     "output_type": "display_data"
    }
   ],
   "source": [
    "fig = plt.figure(1, figsize=(4, 3))\n",
    "plt.plot(range(15),range(15))\n",
    "plt.show()\n",
    "train.get_logger().report_matplotlib_figure(title=\"Manual matplotlib report\", series=\"Just a plot\", iteration=0, figure=fig)"
   ]
  },
  {
   "cell_type": "code",
   "execution_count": 41,
   "metadata": {
    "tags": []
   },
   "outputs": [
    {
     "data": {
      "text/plain": [
       "'https://files.clear.ml/pipeline/train_pipeline/train task.bd32f0ba12bc46dea7e0c82e109d08b2/models/model.pkl'"
      ]
     },
     "execution_count": 41,
     "metadata": {},
     "output_type": "execute_result"
    }
   ],
   "source": [
    "joblib.dump(model, 'model.pkl', compress=True)\n",
    "train.update_output_model(model_path=\"./model.pkl\",\n",
    "                          tags=[\"scikit\", \"baseline\", \"from_task\"],\n",
    "                          name=\"model_from_task\",\n",
    "                          comment=\"this is the model manually saved using the task object.\",\n",
    "                          model_name=\"model_from_task\",\n",
    "                          auto_delete_file=False)"
   ]
  },
  {
   "cell_type": "code",
   "execution_count": 42,
   "metadata": {
    "tags": []
   },
   "outputs": [],
   "source": [
    "df = pd.read_csv(\"./data/train.csv\")\n",
    "train.get_logger().report_table(title='table example',\n",
    "                               series='pandas DataFrame',\n",
    "                               iteration=0,\n",
    "                               table_plot=df)"
   ]
  },
  {
   "cell_type": "code",
   "execution_count": 43,
   "metadata": {
    "tags": []
   },
   "outputs": [],
   "source": [
    "train.close()"
   ]
  },
  {
   "cell_type": "code",
   "execution_count": null,
   "metadata": {},
   "outputs": [],
   "source": []
  }
 ],
 "metadata": {
  "kernelspec": {
   "display_name": "python3.7",
   "language": "python",
   "name": "python3"
  },
  "language_info": {
   "codemirror_mode": {
    "name": "ipython",
    "version": 3
   },
   "file_extension": ".py",
   "mimetype": "text/x-python",
   "name": "python",
   "nbconvert_exporter": "python",
   "pygments_lexer": "ipython3",
   "version": "3.7.10"
  }
 },
 "nbformat": 4,
 "nbformat_minor": 4
}

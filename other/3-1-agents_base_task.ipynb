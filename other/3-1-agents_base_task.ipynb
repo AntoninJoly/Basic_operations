{
 "cells": [
  {
   "cell_type": "code",
   "execution_count": 1,
   "metadata": {},
   "outputs": [],
   "source": [
    "from clearml import Task, TaskTypes"
   ]
  },
  {
   "cell_type": "code",
   "execution_count": 2,
   "metadata": {},
   "outputs": [
    {
     "name": "stdout",
     "output_type": "stream",
     "text": [
      "ClearML Task: created new task id=1b17da9671624d8db0e35381babb2da1\n",
      "2023-05-31 10:35:26,464 - clearml.Task - INFO - Storing jupyter notebook directly as code\n",
      "ClearML results page: https://app.clear.ml/projects/a992bfbf810d4313be0cc4b2d69a8c1d/experiments/1b17da9671624d8db0e35381babb2da1/output/log\n"
     ]
    }
   ],
   "source": [
    "task = Task.init(project_name=\"ClearmlStudySessions/agents\",\n",
    "                 task_name=\"base task\", \n",
    "                 task_type=TaskTypes.data_processing)"
   ]
  },
  {
   "cell_type": "code",
   "execution_count": 3,
   "metadata": {},
   "outputs": [
    {
     "name": "stdout",
     "output_type": "stream",
     "text": [
      "1b17da9671624d8db0e35381babb2da1\n"
     ]
    }
   ],
   "source": [
    "print(task.id)"
   ]
  },
  {
   "cell_type": "code",
   "execution_count": 4,
   "metadata": {},
   "outputs": [
    {
     "name": "stdout",
     "output_type": "stream",
     "text": [
      "ClearML Monitor: GPU monitoring failed getting GPU reading, switching off GPU monitoring\n"
     ]
    },
    {
     "data": {
      "text/plain": [
       "{'base_model': 'MobileNetV3',\n",
       " 'batch_size': 256,\n",
       " 'lr': 0.0001,\n",
       " 'image_size': 224}"
      ]
     },
     "execution_count": 4,
     "metadata": {},
     "output_type": "execute_result"
    }
   ],
   "source": [
    "conf = {\n",
    "    \"base_model\" : \"MobileNetV3\",\n",
    "    \"batch_size\" : 256,\n",
    "    \"lr\" : 1e-4,\n",
    "    \"image_size\" : 224\n",
    "}\n",
    "task.connect(conf)"
   ]
  },
  {
   "cell_type": "code",
   "execution_count": 5,
   "metadata": {},
   "outputs": [
    {
     "name": "stdout",
     "output_type": "stream",
     "text": [
      "key : base_model -> value MobileNetV3\n",
      "key : batch_size -> value 256\n",
      "key : lr -> value 0.0001\n",
      "key : image_size -> value 224\n"
     ]
    }
   ],
   "source": [
    "for k,v in conf.items():\n",
    "    print(f\"key : {k} -> value {v}\")"
   ]
  },
  {
   "cell_type": "code",
   "execution_count": 6,
   "metadata": {},
   "outputs": [
    {
     "name": "stdout",
     "output_type": "stream",
     "text": [
      "2023-05-31 10:35:31,772 - clearml.Task - INFO - Waiting for repository detection and full package requirement analysis\n",
      "2023-05-31 10:35:34,326 - clearml.Task - INFO - Finished repository detection and package analysis\n"
     ]
    }
   ],
   "source": [
    "task.close()"
   ]
  }
 ],
 "metadata": {
  "kernelspec": {
   "display_name": "python3.7",
   "language": "python",
   "name": "python3"
  },
  "language_info": {
   "codemirror_mode": {
    "name": "ipython",
    "version": 3
   },
   "file_extension": ".py",
   "mimetype": "text/x-python",
   "name": "python",
   "nbconvert_exporter": "python",
   "pygments_lexer": "ipython3",
   "version": "3.7.10"
  }
 },
 "nbformat": 4,
 "nbformat_minor": 4
}

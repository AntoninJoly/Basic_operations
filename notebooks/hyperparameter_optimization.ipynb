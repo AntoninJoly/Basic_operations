{
 "cells": [
  {
   "cell_type": "code",
   "execution_count": 55,
   "metadata": {},
   "outputs": [],
   "source": [
    "import os\n",
    "import numpy as np\n",
    "import matplotlib.pyplot as plt\n",
    "import itertools\n",
    "import xgboost as xgb\n",
    "\n",
    "from sklearn.datasets import make_multilabel_classification, make_regression, make_classification\n",
    "from sklearn.model_selection import train_test_split\n",
    "from sklearn.metrics import mean_absolute_error, classification_report, f1_score, confusion_matrix, multilabel_confusion_matrix\n",
    "from sklearn.multioutput import MultiOutputRegressor, MultiOutputClassifier\n",
    "\n",
    "from sklearn.utils.validation import _check_fit_params\n",
    "from sklearn.base import is_classifier\n",
    "from sklearn.utils.fixes import delayed\n",
    "from joblib import Parallel\n",
    "from sklearn.multioutput import _fit_estimator, check_classification_targets\n",
    "\n",
    "from sklearn.model_selection import GridSearchCV\n",
    "from hyperopt.pyll.base import scope \n",
    "from hyperopt import STATUS_OK, Trials, fmin, hp, tpe\n",
    "# import talos as ta"
   ]
  },
  {
   "cell_type": "markdown",
   "metadata": {},
   "source": [
    "# Machine learning\n",
    "## TPE search single output regression"
   ]
  },
  {
   "cell_type": "code",
   "execution_count": 22,
   "metadata": {},
   "outputs": [],
   "source": [
    "def plot_cm_matrix(cm, target_names, title='Confusion matrix', cmap=None, normalize=True):\n",
    "    \n",
    "    accuracy = np.trace(cm) / float(np.sum(cm))\n",
    "    misclass = 1 - accuracy\n",
    "    if cmap is None:\n",
    "        cmap = plt.get_cmap('Blues')\n",
    "    \n",
    "#     plt.figure(figsize=(8, 6))\n",
    "    plt.imshow(cm, interpolation='nearest', cmap=cmap)\n",
    "    plt.title(title)\n",
    "    plt.colorbar()\n",
    "    \n",
    "    if target_names is not None:\n",
    "        tick_marks = np.arange(len(target_names))\n",
    "        plt.xticks(tick_marks, target_names, rotation=45)\n",
    "        plt.yticks(tick_marks, target_names)\n",
    "        \n",
    "    if normalize:\n",
    "        cm = cm.astype('float') / cm.sum(axis=1)[:, np.newaxis]\n",
    "    thresh = cm.max() / 1.5 if normalize else cm.max() / 2\n",
    "    for i, j in itertools.product(range(cm.shape[0]), range(cm.shape[1])):\n",
    "        if normalize:\n",
    "            plt.text(j, i, \"{:0.4f}\".format(cm[i, j]),\n",
    "                     horizontalalignment=\"center\",\n",
    "                     color=\"white\" if cm[i, j] > thresh else \"black\")\n",
    "        else:\n",
    "            plt.text(j, i, \"{:,}\".format(cm[i, j]),\n",
    "                     horizontalalignment=\"center\",\n",
    "                     color=\"white\" if cm[i, j] > thresh else \"black\")\n",
    "    plt.tight_layout()\n",
    "    plt.ylabel('True label')\n",
    "    plt.xlabel('Predicted label\\naccuracy={:0.4f}; misclass={:0.4f}'.format(accuracy, misclass))\n",
    "#     plt.show()\n",
    "\n",
    "def format_params(space, best):\n",
    "    best['objective'] = obj.get(best['objective'])\n",
    "    best['max_depth'] += 1\n",
    "    best['min_child_weight'] += 1\n",
    "    for k,v in space.items():\n",
    "        if k not in best.keys():\n",
    "            best[k] = v\n",
    "    return best\n",
    "\n",
    "class CustomMultiOutputRegressor(MultiOutputRegressor):\n",
    "    def fit(self, X, y, sample_weight=None, **fit_params):\n",
    "        if not hasattr(self.estimator, \"fit\"):\n",
    "            raise ValueError(\"The base estimator should implement a fit method\")\n",
    "        X, y = self._validate_data(X, y, force_all_finite=False, multi_output=True, accept_sparse=True)\n",
    "        if is_classifier(self):\n",
    "            check_classification_targets(y)\n",
    "        if y.ndim == 1:\n",
    "            raise ValueError(\"y must have at least two dimensions for multi-output regression but has only one.\")\n",
    "        if (sample_weight is not None and not has_fit_parameter(self.estimator, 'sample_weight')):\n",
    "            raise ValueError(\"Underlying estimator does not support sample weights.\")\n",
    "        \n",
    "        fit_params_validated = _check_fit_params(X, fit_params)\n",
    "        [(X_train, Y_train), (X_test, Y_test)] = fit_params_validated.pop('eval_set')\n",
    "        \n",
    "        self.estimators_ = Parallel(n_jobs=self.n_jobs)(delayed(_fit_estimator)(self.estimator,\n",
    "                                                                                X,\n",
    "                                                                                y[:, i],\n",
    "                                                                                sample_weight,\n",
    "                                                                                **fit_params_validated,\n",
    "                                                                                eval_set=[(X_train, Y_train[:, i]),\n",
    "                                                                                          (X_test, Y_test[:, i])])\n",
    "                                                        for i in range(y.shape[1]))\n",
    "        return self\n",
    "    \n",
    "class CustomMultiOutputClassifier(MultiOutputClassifier):\n",
    "    def fit(self, X, y, sample_weight=None, **fit_params):\n",
    "        if not hasattr(self.estimator, \"fit\"):\n",
    "            raise ValueError(\"The base estimator should implement a fit method\")\n",
    "        X, y = self._validate_data(X, y, force_all_finite=False, multi_output=True, accept_sparse=True)\n",
    "        if is_classifier(self):\n",
    "            check_classification_targets(y)\n",
    "        if y.ndim == 1:\n",
    "            raise ValueError(\"y must have at least two dimensions for multi-output regression but has only one.\")\n",
    "        if (sample_weight is not None and not has_fit_parameter(self.estimator, 'sample_weight')):\n",
    "            raise ValueError(\"Underlying estimator does not support sample weights.\")\n",
    "        \n",
    "        fit_params_validated = _check_fit_params(X, fit_params)\n",
    "        [(X_train, Y_train), (X_test, Y_test)] = fit_params_validated.pop('eval_set')\n",
    "        \n",
    "        self.estimators_ = Parallel(n_jobs=self.n_jobs)(delayed(_fit_estimator)(self.estimator,\n",
    "                                                                                X,\n",
    "                                                                                y[:, i],\n",
    "                                                                                sample_weight,\n",
    "                                                                                **fit_params_validated,\n",
    "                                                                                eval_set=[(X_train, Y_train[:, i]),\n",
    "                                                                                          (X_test, Y_test[:, i])])\n",
    "                                                        for i in range(y.shape[1]))\n",
    "        return self"
   ]
  },
  {
   "cell_type": "raw",
   "metadata": {},
   "source": [
    "best.trials - a list of dictionaries contains all relevant information\n",
    "best.results - a list of dictionaries collecting the function outputs\n",
    "best.losses() - a list of losses (float for each 'ok' trial)\n",
    "best.statuses() - a list of status strings\n",
    "best.vals - a dictionary of sampled parameters"
   ]
  },
  {
   "cell_type": "markdown",
   "metadata": {},
   "source": [
    "### Regression"
   ]
  },
  {
   "cell_type": "code",
   "execution_count": 23,
   "metadata": {},
   "outputs": [
    {
     "name": "stdout",
     "output_type": "stream",
     "text": [
      "(562, 50) (563, 50) (375, 50) (562,) (563,) (375,)\n"
     ]
    }
   ],
   "source": [
    "data, label = make_regression(n_samples=1500, n_features=50, n_targets=1, random_state=0)\n",
    "\n",
    "X, X_test, y, y_test = train_test_split(data, label, test_size=0.25, random_state=0)\n",
    "X_train, X_val, y_train, y_val = train_test_split(X, y, test_size=0.5, random_state=0)\n",
    "\n",
    "print(X_train.shape, X_val.shape, X_test.shape, y_train.shape, y_val.shape, y_test.shape)"
   ]
  },
  {
   "cell_type": "code",
   "execution_count": 24,
   "metadata": {},
   "outputs": [],
   "source": [
    "obj = {0:'reg:squarederror', 1:'reg:pseudohubererror'}\n",
    "\n",
    "fit_params = {'X': X_train,\n",
    "              'y': y_train,\n",
    "              'early_stopping_rounds': 5,\n",
    "              'eval_metric': ['mae'],\n",
    "              'eval_set': [(X_train, y_train), (X_val, y_val)],\n",
    "              'verbose':False}\n",
    "\n",
    "space = {'eta': hp.quniform('eta', 0.025, 0.5, 0.025),\n",
    "         'max_depth':  scope.int(hp.choice('max_depth', np.arange(1, 15))),\n",
    "         'min_child_weight': scope.int(hp.choice('min_child_weight', np.arange(1, 15))),\n",
    "         'subsample': hp.quniform('subsample', 0.5, 1, 0.05),\n",
    "         'gamma': hp.quniform('gamma', 0.5, 1, 0.05),\n",
    "         'colsample_bytree': hp.quniform('colsample_bytree', 0.5, 1, 0.05),\n",
    "         'objective': hp.choice('objective', list(obj.values())),\n",
    "         'n_estimators': 1000,\n",
    "         'seed': 0}"
   ]
  },
  {
   "cell_type": "code",
   "execution_count": 25,
   "metadata": {},
   "outputs": [
    {
     "name": "stdout",
     "output_type": "stream",
     "text": [
      "100%|██████████████████████████████████████████████| 250/250 [00:57<00:00,  4.35trial/s, best loss: 18.253240589256176]\n",
      "\n",
      " {'colsample_bytree': 0.9, 'eta': 0.05, 'gamma': 0.6000000000000001, 'max_depth': 1, 'min_child_weight': 3, 'objective': 'reg:squarederror', 'subsample': 0.5, 'n_estimators': 1000, 'seed': 0}\n"
     ]
    }
   ],
   "source": [
    "def score_regression(params):\n",
    "    reg = xgb.XGBRegressor(**params).fit(**fit_params)\n",
    "    return {'loss': mean_absolute_error(reg.predict(X_test), y_test), 'status': STATUS_OK, 'model': reg}\n",
    "\n",
    "def optimize_regression(trials, space, tries):\n",
    "    return fmin(fn=score_regression, space=space, algo=tpe.suggest, max_evals=tries, trials=trials)\n",
    "\n",
    "trials = Trials()\n",
    "best = optimize_regression(trials, space, 250)\n",
    "params = format_params(space, best)\n",
    "model = trials.results[np.argmin([r['loss'] for r in trials.results])]['model']\n",
    "\n",
    "print('\\n', params)"
   ]
  },
  {
   "cell_type": "code",
   "execution_count": 26,
   "metadata": {},
   "outputs": [
    {
     "name": "stdout",
     "output_type": "stream",
     "text": [
      "Base model MAE: 63.01160754118678\n",
      "Tuned model MAE: 18.253240589256176\n"
     ]
    }
   ],
   "source": [
    "reg_base = xgb.XGBRegressor().fit(**fit_params)\n",
    "\n",
    "print(f'Base model MAE: {mean_absolute_error(reg_base.predict(X_test), y_test)}')\n",
    "print(f'Tuned model MAE: {mean_absolute_error(model.predict(X_test), y_test)}')"
   ]
  },
  {
   "cell_type": "markdown",
   "metadata": {},
   "source": [
    "### Mutiple output regression"
   ]
  },
  {
   "cell_type": "code",
   "execution_count": 27,
   "metadata": {},
   "outputs": [
    {
     "name": "stdout",
     "output_type": "stream",
     "text": [
      "(562, 50) (563, 50) (375, 50) (562, 10) (563, 10) (375, 10)\n"
     ]
    }
   ],
   "source": [
    "data, label = make_regression(n_samples=1500, n_features=50, n_targets=10, random_state=0)\n",
    "\n",
    "X, X_test, y, y_test = train_test_split(data, label, test_size=0.25, random_state=0)\n",
    "X_train, X_val, y_train, y_val = train_test_split(X, y, test_size=0.5, random_state=0)\n",
    "\n",
    "print(X_train.shape, X_val.shape, X_test.shape, y_train.shape, y_val.shape, y_test.shape)"
   ]
  },
  {
   "cell_type": "code",
   "execution_count": 28,
   "metadata": {},
   "outputs": [],
   "source": [
    "obj = {0:'reg:squarederror', 1:'reg:pseudohubererror'}\n",
    "\n",
    "fit_params = {'X': X_train,\n",
    "              'y': y_train,\n",
    "              'early_stopping_rounds': 5,\n",
    "              'eval_metric': ['mae'],\n",
    "              'eval_set': [(X_train, y_train), (X_val, y_val)],\n",
    "              'verbose':False}\n",
    "\n",
    "space = {'eta': hp.quniform('eta', 0.025, 0.5, 0.025),\n",
    "         'max_depth':  scope.int(hp.choice('max_depth', np.arange(1, 15))),\n",
    "         'min_child_weight': scope.int(hp.choice('min_child_weight', np.arange(1, 15))),\n",
    "         'subsample': hp.quniform('subsample', 0.5, 1, 0.05),\n",
    "         'gamma': hp.quniform('gamma', 0.5, 1, 0.05),\n",
    "         'colsample_bytree': hp.quniform('colsample_bytree', 0.5, 1, 0.05),\n",
    "         'objective': hp.choice('objective', list(obj.values())),\n",
    "         'n_estimators': 1000,\n",
    "         'seed': 0}"
   ]
  },
  {
   "cell_type": "code",
   "execution_count": 29,
   "metadata": {},
   "outputs": [
    {
     "name": "stdout",
     "output_type": "stream",
     "text": [
      "100%|█████████████████████████████████████████████████| 50/50 [01:01<00:00,  1.23s/trial, best loss: 24.55559847381939]\n",
      "\n",
      " {'colsample_bytree': 0.5, 'eta': 0.15000000000000002, 'gamma': 1.0, 'max_depth': 1, 'min_child_weight': 1, 'objective': 'reg:squarederror', 'subsample': 0.6000000000000001, 'n_estimators': 1000, 'seed': 0}\n"
     ]
    }
   ],
   "source": [
    "def score_multiple_regression(params):\n",
    "    reg = CustomMultiOutputRegressor(xgb.XGBRegressor(**params)).fit(**fit_params)\n",
    "    return {'loss': np.sum(mean_absolute_error(reg.predict(X_test), y_test)), 'status': STATUS_OK, 'model': reg}\n",
    "\n",
    "def optimize_multiple_regression(trials, space, tries):\n",
    "    return fmin(fn=score_multiple_regression, space=space, algo=tpe.suggest, max_evals=tries, trials=trials)\n",
    "\n",
    "trials = Trials()\n",
    "best = optimize_multiple_regression(trials, space, 250)\n",
    "params = format_params(space, best)\n",
    "model = trials.results[np.argmin([r['loss'] for r in trials.results])]['model']\n",
    "\n",
    "print('\\n', params)"
   ]
  },
  {
   "cell_type": "code",
   "execution_count": 30,
   "metadata": {},
   "outputs": [
    {
     "name": "stdout",
     "output_type": "stream",
     "text": [
      "Base model MAE: 73.62714768642083\n",
      "Tuned model MAE: 24.55559847381939\n"
     ]
    }
   ],
   "source": [
    "reg_multi = CustomMultiOutputRegressor(xgb.XGBRegressor()).fit(**fit_params)\n",
    "\n",
    "print(f'Base model MAE: {np.sum(mean_absolute_error(reg_multi.predict(X_test), y_test))}')\n",
    "print(f'Tuned model MAE: {np.sum(mean_absolute_error(model.predict(X_test), y_test))}')"
   ]
  },
  {
   "cell_type": "markdown",
   "metadata": {},
   "source": [
    "### Classification"
   ]
  },
  {
   "cell_type": "code",
   "execution_count": 31,
   "metadata": {},
   "outputs": [
    {
     "name": "stdout",
     "output_type": "stream",
     "text": [
      "(562, 50) (563, 50) (375, 50) (562,) (563,) (375,)\n"
     ]
    }
   ],
   "source": [
    "num_classes = 3\n",
    "data, label = make_classification(n_samples=1500, n_features=50, n_classes=num_classes, n_clusters_per_class=1, random_state=0)\n",
    "\n",
    "X, X_test, y, y_test = train_test_split(data, label, test_size=0.25, random_state=0)\n",
    "X_train, X_val, y_train, y_val = train_test_split(X, y, test_size=0.5, random_state=0)\n",
    "\n",
    "print(X_train.shape, X_val.shape, X_test.shape, y_train.shape, y_val.shape, y_test.shape)"
   ]
  },
  {
   "cell_type": "code",
   "execution_count": 32,
   "metadata": {},
   "outputs": [],
   "source": [
    "obj = {0:'multi:softprob', 1:'multi:softmax'}\n",
    "\n",
    "fit_params = {'X': X_train,\n",
    "              'y': y_train,\n",
    "              'early_stopping_rounds': 5,\n",
    "              'eval_metric': ['merror','mlogloss'],\n",
    "              'eval_set': [(X_train, y_train), (X_val, y_val)],\n",
    "              'verbose':False}\n",
    "\n",
    "space = {'eta': hp.quniform('eta', 0.025, 0.5, 0.025),\n",
    "         'max_depth':  hp.choice('max_depth', np.arange(1, 15, dtype=int)),\n",
    "         'min_child_weight': hp.choice('min_child_weight', np.arange(1, 15, dtype=int)),\n",
    "         'subsample': hp.quniform('subsample', 0.5, 1, 0.05),\n",
    "         'gamma': hp.quniform('gamma', 0.5, 1, 0.05),\n",
    "         'colsample_bytree': hp.quniform('colsample_bytree', 0.5, 1, 0.05),\n",
    "         'objective': hp.choice('objective', list(obj.values())),\n",
    "         'n_estimators': 1000,\n",
    "         'num_class': num_classes,\n",
    "         'use_label_encoder': False,\n",
    "         'seed': 0}"
   ]
  },
  {
   "cell_type": "code",
   "execution_count": 33,
   "metadata": {},
   "outputs": [
    {
     "name": "stdout",
     "output_type": "stream",
     "text": [
      "100%|█████████████████████████████████████████████| 250/250 [00:23<00:00, 10.55trial/s, best loss: -0.8367931322559272]\n",
      "\n",
      " {'colsample_bytree': 0.8, 'eta': 0.225, 'gamma': 0.8, 'max_depth': 2, 'min_child_weight': 2, 'objective': 'multi:softmax', 'subsample': 0.8, 'n_estimators': 1000, 'num_class': 3, 'use_label_encoder': False, 'seed': 0}\n"
     ]
    }
   ],
   "source": [
    "def score_classification(params):\n",
    "    cls = xgb.XGBClassifier(**params).fit(**fit_params)\n",
    "    return {'loss': -f1_score(cls.predict(X_test), y_test, average='weighted'), 'status': STATUS_OK, 'model': cls}\n",
    "\n",
    "def optimize_classification(trials, space, tries):\n",
    "    return fmin(fn=score_classification, space=space, algo=tpe.suggest, max_evals=tries, trials=trials)\n",
    "\n",
    "trials = Trials()\n",
    "best = optimize_classification(trials, space, 250)\n",
    "params = format_params(space, best)\n",
    "model = trials.results[np.argmin([r['loss'] for r in trials.results])]['model']\n",
    "\n",
    "print('\\n', params)"
   ]
  },
  {
   "cell_type": "code",
   "execution_count": 34,
   "metadata": {},
   "outputs": [
    {
     "name": "stdout",
     "output_type": "stream",
     "text": [
      "Base model F1-score: 0.8173570440623367\n",
      "Tuned model F1-score: 0.8367931322559272\n"
     ]
    }
   ],
   "source": [
    "cls_base = xgb.XGBClassifier(use_label_encoder=False).fit(**fit_params)\n",
    "\n",
    "f1_base = f1_score(cls_base.predict(X_test), y_test, average='weighted')\n",
    "f1_tuned = f1_score(model.predict(X_test), y_test, average='weighted')\n",
    "print(f'Base model F1-score: {f1_base}')\n",
    "print(f'Tuned model F1-score: {f1_tuned}')"
   ]
  },
  {
   "cell_type": "code",
   "execution_count": null,
   "metadata": {},
   "outputs": [],
   "source": [
    "plt.subplot(1,2,1)\n",
    "print(classification_report())\n",
    "plt.subplot(1,2,2)\n",
    "print(classification_report())"
   ]
  },
  {
   "cell_type": "code",
   "execution_count": 35,
   "metadata": {},
   "outputs": [
    {
     "data": {
      "image/png": "[encoded data removed]",
      "text/plain": [
       "<Figure size 1152x432 with 3 Axes>"
      ]
     },
     "metadata": {
      "needs_background": "light"
     },
     "output_type": "display_data"
    }
   ],
   "source": [
    "plt.figure(figsize=(16,6))\n",
    "plt.subplot(1,2,1)\n",
    "cm = confusion_matrix(cls_base.predict(X_test), y_test)\n",
    "plot_cm_matrix(cm, np.unique(y_test),'Confusion matrix - base model')\n",
    "plt.subplot(1,2,2)\n",
    "cm = confusion_matrix(model.predict(X_test), y_test)\n",
    "plot_cm_matrix(cm, np.unique(y_test),'Confusion matrix - tuned model')\n",
    "plt.show()"
   ]
  },
  {
   "cell_type": "markdown",
   "metadata": {},
   "source": [
    "### Multiple classification"
   ]
  },
  {
   "cell_type": "code",
   "execution_count": 45,
   "metadata": {},
   "outputs": [
    {
     "name": "stdout",
     "output_type": "stream",
     "text": [
      "(5625, 50) (5625, 50) (3750, 50) (5625, 10) (5625, 10) (3750, 10)\n"
     ]
    }
   ],
   "source": [
    "data, label = make_multilabel_classification(n_samples=15000, n_features=50, n_classes=10, n_labels=1, random_state=0)\n",
    "\n",
    "X, X_test, y, y_test = train_test_split(data, label, test_size=0.25, random_state=0)\n",
    "X_train, X_val, y_train, y_val = train_test_split(X, y, test_size=0.5, random_state=0)\n",
    "\n",
    "print(X_train.shape, X_val.shape, X_test.shape, y_train.shape, y_val.shape, y_test.shape)"
   ]
  },
  {
   "cell_type": "code",
   "execution_count": 46,
   "metadata": {},
   "outputs": [],
   "source": [
    "obj = {0:'multi:softprob', 1:'multi:softmax'}\n",
    "\n",
    "fit_params = {'X': X_train,\n",
    "              'y': y_train,\n",
    "              'early_stopping_rounds': 5,\n",
    "              'eval_metric': ['merror','mlogloss'],\n",
    "              'eval_set': [(X_train, y_train), (X_val, y_val)],\n",
    "              'verbose':False}\n",
    "\n",
    "space = {'eta': hp.quniform('eta', 0.025, 0.5, 0.025),\n",
    "         'max_depth':  hp.choice('max_depth', np.arange(1, 15, dtype=int)),\n",
    "         'min_child_weight': hp.choice('min_child_weight', np.arange(1, 15, dtype=int)),\n",
    "         'subsample': hp.quniform('subsample', 0.5, 1, 0.05),\n",
    "         'gamma': hp.quniform('gamma', 0.5, 1, 0.05),\n",
    "         'colsample_bytree': hp.quniform('colsample_bytree', 0.5, 1, 0.05),\n",
    "         'objective': hp.choice('objective', list(obj.values())),\n",
    "         'n_estimators': 1000,\n",
    "         'num_class': num_classes,\n",
    "         'use_label_encoder': False,\n",
    "         'seed': 0}"
   ]
  },
  {
   "cell_type": "code",
   "execution_count": 47,
   "metadata": {},
   "outputs": [
    {
     "name": "stdout",
     "output_type": "stream",
     "text": [
      "100%|████████████████████████████████████████████████| 50/50 [08:32<00:00, 10.25s/trial, best loss: -6.260328731340394]\n",
      "\n",
      " {'colsample_bytree': 0.8, 'eta': 0.125, 'gamma': 0.55, 'max_depth': 3, 'min_child_weight': 14, 'objective': 'multi:softmax', 'subsample': 0.55, 'n_estimators': 1000, 'num_class': 3, 'use_label_encoder': False, 'seed': 0}\n"
     ]
    }
   ],
   "source": [
    "def score_multiple_classification(params):\n",
    "    reg = CustomMultiOutputClassifier(xgb.XGBClassifier(**params)).fit(**fit_params)\n",
    "    f1 = [f1_score(reg.predict(X_test)[:,idx],y_test[:,idx]) for idx in range(y_test.shape[-1])]\n",
    "    return {'loss': -np.sum(f1), 'status': STATUS_OK, 'model': reg}\n",
    "\n",
    "def optimize_multiple_classification(trials, space, tries):\n",
    "    return fmin(fn=score_multiple_classification, space=space, algo=tpe.suggest, max_evals=tries, trials=trials)\n",
    "\n",
    "trials = Trials()\n",
    "best = optimize_multiple_classification(trials, space, 250)\n",
    "params = format_params(space, best)\n",
    "model = trials.results[np.argmin([r['loss'] for r in trials.results])]['model']\n",
    "\n",
    "print('\\n', params)"
   ]
  },
  {
   "cell_type": "code",
   "execution_count": 53,
   "metadata": {},
   "outputs": [
    {
     "name": "stdout",
     "output_type": "stream",
     "text": [
      "Base model mean F1-score: 0.5603529221360578\n",
      "Tuned model mean F1-score: 0.6260328731340394\n"
     ]
    }
   ],
   "source": [
    "cls_multi = CustomMultiOutputClassifier(xgb.XGBClassifier(num_class=2,\n",
    "                                                          objective='multi:softmax',\n",
    "                                                          use_label_encoder=False)).fit(**fit_params)\n",
    "\n",
    "f1_base = [f1_score(cls_multi.predict(X_test)[:,idx],y_test[:,idx]) for idx in range(y_test.shape[-1])]\n",
    "f1_tuned = [f1_score(model.predict(X_test)[:,idx],y_test[:,idx]) for idx in range(y_test.shape[-1])]\n",
    "\n",
    "print(f'Base model mean F1-score: {np.mean(f1_base)}')\n",
    "print(f'Tuned model mean F1-score: {np.mean(f1_tuned)}')"
   ]
  },
  {
   "cell_type": "markdown",
   "metadata": {},
   "source": [
    "# Deep learning\n",
    "###  CNN classifier"
   ]
  },
  {
   "cell_type": "code",
   "execution_count": 95,
   "metadata": {},
   "outputs": [
    {
     "name": "stdout",
     "output_type": "stream",
     "text": [
      "(31500, 28, 28, 1) (31500, 28, 28, 1) (7000, 28, 28, 1) (31500, 10) (31500, 10) (7000, 10)\n"
     ]
    }
   ],
   "source": [
    "from tensorflow.keras.datasets import fashion_mnist\n",
    "from tensorflow.keras import Input, Model, Sequential\n",
    "from tensorflow.keras.layers import *\n",
    "from tensorflow.keras.utils import to_categorical\n",
    "from tensorflow.keras import backend as K\n",
    "from tensorflow.keras.callbacks import ModelCheckpoint, EarlyStopping, ReduceLROnPlateau\n",
    "\n",
    "(X_train, y_train), (X_val, y_val) = fashion_mnist.load_data()\n",
    "data, label = np.concatenate((X_train, X_val),axis=0), np.concatenate((y_train, y_val),axis=0)\n",
    "\n",
    "X, X_test, y, y_test = train_test_split(data, label, test_size=0.1, stratify=label, random_state=0)\n",
    "X_train, X_val, y_train, y_val = train_test_split(X, y, test_size=0.5, stratify=y, random_state=0)\n",
    "\n",
    "X_train, X_val, X_test = X_train.reshape(-1,28,28,1) / 255, X_val.reshape(-1,28,28,1) / 255, X_test.reshape(-1,28,28,1) / 255\n",
    "y_train, y_val, y_test = to_categorical(y_train), to_categorical(y_val), to_categorical(y_test)\n",
    "\n",
    "print(X_train.shape, X_val.shape, X_test.shape, y_train.shape, y_val.shape, y_test.shape)"
   ]
  },
  {
   "cell_type": "code",
   "execution_count": 97,
   "metadata": {},
   "outputs": [],
   "source": [
    "def cnn_classification_model(params):\n",
    "    \n",
    "    model = Sequential()\n",
    "    kernel_size = (params['kernel_size'], params['kernel_size'])\n",
    "    model.add(Conv2D(32, kernel_size, input_shape=(28, 28, 1), activation=params['activation']))\n",
    "    model.add(MaxPooling2D())\n",
    "    model.add(BatchNormalization())\n",
    "    model.add(Dropout(params['dropout']))\n",
    "    \n",
    "    model.add(Conv2D(32, kernel_size, activation=params['activation']))\n",
    "    model.add(MaxPooling2D())\n",
    "    model.add(BatchNormalization())\n",
    "    model.add(Dropout(params['dropout']))\n",
    "\n",
    "    model.add(Flatten())\n",
    "    model.add(Dense(10, activation='softmax'))\n",
    "    \n",
    "    model.compile(loss='categorical_crossentropy', optimizer='Adam', metrics=['accuracy'])\n",
    "    \n",
    "    early_stop = EarlyStopping(monitor='val_loss', mode='min', patience=params['patience_stop'])\n",
    "    reduce_lr = ReduceLROnPlateau(monitor='val_loss', mode='min', factor=params['reduce_lr'], patience=params['patience_lr'])\n",
    "    callbacks_list = [early_stop, reduce_lr]\n",
    "    \n",
    "    model.fit(X_train,\n",
    "              y_train,\n",
    "              epochs=15,\n",
    "              batch_size = params['batch_size'],\n",
    "              verbose = 0,\n",
    "              callbacks=callbacks_list,\n",
    "              validation_data = (X_val, y_val))\n",
    "    score, acc = model.evaluate(X_test, y_test, verbose=0)\n",
    "    \n",
    "    return {'loss': -acc, 'status': STATUS_OK, 'model': model}\n",
    "\n",
    "def optimize_dl_classification(trials, space, tries):\n",
    "    return fmin(fn=cnn_classification_model, space=space, algo=tpe.suggest, max_evals=tries, trials=trials)"
   ]
  },
  {
   "cell_type": "code",
   "execution_count": 98,
   "metadata": {},
   "outputs": [],
   "source": [
    "act = {0:'relu', 1:'elu'}\n",
    "\n",
    "space = {'batch_size': scope.int(hp.choice('batch_size',[8, 16, 32])),\n",
    "         'dropout': hp.quniform('dropout',0.025, 0.5, 0.025),\n",
    "         'kernel_size': scope.int(hp.choice('kernel_size',[3,5,7])),\n",
    "         'activation': hp.choice('activation', list(act.values())),\n",
    "         'patience_stop':scope.int(hp.choice('patience_stop',[2,3,4])),\n",
    "         'reduce_lr':hp.quniform('reduce_lr',0.05, 0.25, 0.05),\n",
    "         'patience_lr':scope.int(hp.choice('patience_lr',[2,3,4]))}"
   ]
  },
  {
   "cell_type": "code",
   "execution_count": null,
   "metadata": {},
   "outputs": [
    {
     "name": "stdout",
     "output_type": "stream",
     "text": [
      "\r",
      "  0%|                                                                           | 0/10 [00:00<?, ?trial/s, best loss=?]"
     ]
    }
   ],
   "source": [
    "trials = Trials()\n",
    "best = optimize_dl_classification(trials, space, 10)\n",
    "params = format_params(space, best)\n",
    "model = trials.results[np.argmin([r['loss'] for r in trials.results])]['model']\n",
    "\n",
    "print('\\n', params)"
   ]
  },
  {
   "cell_type": "code",
   "execution_count": null,
   "metadata": {},
   "outputs": [],
   "source": []
  }
 ],
 "metadata": {
  "kernelspec": {
   "display_name": "Python 3 (ipykernel)",
   "language": "python",
   "name": "python3"
  },
  "language_info": {
   "codemirror_mode": {
    "name": "ipython",
    "version": 3
   },
   "file_extension": ".py",
   "mimetype": "text/x-python",
   "name": "python",
   "nbconvert_exporter": "python",
   "pygments_lexer": "ipython3",
   "version": "3.7.10"
  }
 },
 "nbformat": 4,
 "nbformat_minor": 2
}

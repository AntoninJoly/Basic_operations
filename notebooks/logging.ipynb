{
 "cells": [
  {
   "cell_type": "code",
   "execution_count": null,
   "id": "2057ad95",
   "metadata": {},
   "outputs": [],
   "source": [
    "import logging\n",
    "from typing import List, Tuple, Dict, Union, Iterable\n",
    "import os\n",
    "import sys\n",
    "\n",
    "class logPython:\n",
    "    def __init__(self, a: int = 1, b: int = 10):\n",
    "        logging.basicConfig(filename=\"event.log\",\n",
    "                            filemode='a',\n",
    "                            format='[%(asctime)s] {%(filename)s:%(lineno)d} %(levelname)s - %(message)s',\n",
    "                            datefmt='%H:%M:%S',\n",
    "                            level = logging.DEBUG)\n",
    "        self.logger = logging.getLogger()\n",
    "        self.a, self.b = a, b\n",
    "    \n",
    "    def get_arguments(self) -> Iterable[Union[int, int]]:\n",
    "        try:\n",
    "            if type(int(self.a)) != int:\n",
    "                raise ValueError(f'Variable {self.a} is not an integer')\n",
    "            elif type(int(self.b)) != int:\n",
    "                raise ValueError(f'Variable {self.b} is not an integer')\n",
    "            else:\n",
    "                self.logger.info(f'a = {self.a}, b = {self.b}')\n",
    "            return self.a, self.b\n",
    "        except Exception as e:\n",
    "            self.logger.error(f'func=logPython.get_arguments, msg={e}\\n########')\n",
    "            raise e\n",
    "\n",
    "    def func_test(self, a: int, b: int) -> int:\n",
    "        stage = 'api.add_number'\n",
    "        try:\n",
    "            return a+b\n",
    "        except Exception as e:\n",
    "            self.logger.error(f'func=logPython.func_test, a={a}, b={b}, stage={stage}, msg={e}\\n########')\n",
    "            raise e\n",
    "\n",
    "    def call_func(self) -> int:\n",
    "        try:\n",
    "            a, b = self.get_arguments()\n",
    "            return self.func_test(a,b)\n",
    "        \n",
    "        except Exception as e:\n",
    "            self.logger.error(f'func=logPython.call_func, msg={e}\\n########')\n",
    "            raise e\n",
    "\n",
    "test = logPython(1.6, 7)\n",
    "res = test.call_func()\n",
    "res"
   ]
  }
 ],
 "metadata": {
  "kernelspec": {
   "display_name": "Python 3 (ipykernel)",
   "language": "python",
   "name": "python3"
  },
  "language_info": {
   "codemirror_mode": {
    "name": "ipython",
    "version": 3
   },
   "file_extension": ".py",
   "mimetype": "text/x-python",
   "name": "python",
   "nbconvert_exporter": "python",
   "pygments_lexer": "ipython3",
   "version": "3.7.10"
  }
 },
 "nbformat": 4,
 "nbformat_minor": 5
}

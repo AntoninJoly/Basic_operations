{
 "cells": [
  {
   "cell_type": "code",
   "execution_count": 43,
   "metadata": {
    "tags": []
   },
   "outputs": [],
   "source": [
    "import warnings\n",
    "warnings.filterwarnings(\"ignore\")\n",
    "import numpy as np\n",
    "import pandas as pd\n",
    "pd.set_option(\"display.max_rows\", None)\n",
    "pd.set_option('display.max_columns', None)\n",
    "from collections import OrderedDict, Counter\n",
    "from itertools import product\n",
    "import matplotlib.pyplot as plt\n",
    "import plotly.graph_objects as go\n",
    "from plotly.subplots import make_subplots\n",
    "import seaborn as sns\n",
    "sns.set(font_scale=1)\n",
    "sns.set_style(\"white\")\n",
    "sns.set_style(\"ticks\")\n",
    "import os\n",
    "import sys\n",
    "sys.path.insert(0, '../../src')\n",
    "from utils import ProcessData\n",
    "from starlette.config import Config\n",
    "\n",
    "import unicodedata\n",
    "from tqdm import tqdm\n",
    "import re\n",
    "import io\n",
    "import msoffcrypto\n",
    "\n",
    "from googletrans import Translator\n",
    "\n",
    "translator = Translator()\n",
    "config = Config(\"../../../../../.env\")\n",
    "pw = config(\"HASEKO_DATA_PW\", cast=str)\n",
    "\n",
    "%matplotlib inline"
   ]
  },
  {
   "cell_type": "code",
   "execution_count": 44,
   "metadata": {
    "tags": []
   },
   "outputs": [],
   "source": [
    "def get_boundaries(df, column):\n",
    "    Q1 = df[column].quantile(0.25)\n",
    "    Q3 = df[column].quantile(0.75)\n",
    "    IQR = Q3 - Q1\n",
    "    lower_bound = Q1 - 1.5 * IQR\n",
    "    upper_bound = Q3 + 1.5 * IQR\n",
    "    return lower_bound, upper_bound\n",
    "\n",
    "def remove_outliers(df, column):\n",
    "    lower_bound, upper_bound = get_boundaries(df, column)\n",
    "    return df[(df[column] >= lower_bound) & (df[column] <= upper_bound)]"
   ]
  },
  {
   "cell_type": "markdown",
   "metadata": {},
   "source": [
    "# New training data"
   ]
  },
  {
   "cell_type": "code",
   "execution_count": 45,
   "metadata": {
    "tags": []
   },
   "outputs": [],
   "source": [
    "area = {'1100': 'Saitama',\n",
    "        '1200': 'Chiba',\n",
    "        '1301': 'Central Tokyo',\n",
    "        '1302': 'Western Tokyo',\n",
    "        '1303': 'Eastern Tokyo',\n",
    "        '1304': 'Tokyo city',\n",
    "        '1400': 'Kanagawa'}\n",
    "\n",
    "new_dict = ['年齢\\nage','合算後年収.1\\nAnnual income after the sum .1','合算後年収\\nAnnual income after the sum', '家族数\\nFamily number',\n",
    "            '家族F\\nFamily F','物件価格(千円)\\nProperty price (1,000 yen)', '面積\\narea','LP名\\nLP name',\n",
    "            '最新住所\\nLatest address']"
   ]
  },
  {
   "cell_type": "code",
   "execution_count": 46,
   "metadata": {
    "tags": []
   },
   "outputs": [
    {
     "name": "stdout",
     "output_type": "stream",
     "text": [
      "(3740, 9)\n"
     ]
    },
    {
     "data": {
      "text/html": [
       "<div>\n",
       "<style scoped>\n",
       "    .dataframe tbody tr th:only-of-type {\n",
       "        vertical-align: middle;\n",
       "    }\n",
       "\n",
       "    .dataframe tbody tr th {\n",
       "        vertical-align: top;\n",
       "    }\n",
       "\n",
       "    .dataframe thead th {\n",
       "        text-align: right;\n",
       "    }\n",
       "</style>\n",
       "<table border=\"1\" class=\"dataframe\">\n",
       "  <thead>\n",
       "    <tr style=\"text-align: right;\">\n",
       "      <th></th>\n",
       "      <th>年齢\\nage</th>\n",
       "      <th>合算後年収.1\\nAnnual income after the sum .1</th>\n",
       "      <th>合算後年収\\nAnnual income after the sum</th>\n",
       "      <th>家族数\\nFamily number</th>\n",
       "      <th>家族F\\nFamily F</th>\n",
       "      <th>物件価格(千円)\\nProperty price (1,000 yen)</th>\n",
       "      <th>面積\\narea</th>\n",
       "      <th>LP名\\nLP name</th>\n",
       "      <th>最新住所\\nLatest address</th>\n",
       "    </tr>\n",
       "  </thead>\n",
       "  <tbody>\n",
       "    <tr>\n",
       "      <th>2</th>\n",
       "      <td>36</td>\n",
       "      <td>8</td>\n",
       "      <td>～800万円</td>\n",
       "      <td>2</td>\n",
       "      <td>DINKS</td>\n",
       "      <td>3298.0</td>\n",
       "      <td>35.73</td>\n",
       "      <td>今回追加したデータ</td>\n",
       "      <td>さいたま市浦和区　上木崎　１－９－１７　シティインデックス　与野駅前</td>\n",
       "    </tr>\n",
       "    <tr>\n",
       "      <th>3</th>\n",
       "      <td>48</td>\n",
       "      <td>4</td>\n",
       "      <td>～400万円</td>\n",
       "      <td>1</td>\n",
       "      <td>独身</td>\n",
       "      <td>3378.0</td>\n",
       "      <td>35.73</td>\n",
       "      <td>今回追加したデータ</td>\n",
       "      <td>さいたま市浦和区　上木崎　１－９－１７　シティインデックス　与野駅前</td>\n",
       "    </tr>\n",
       "    <tr>\n",
       "      <th>4</th>\n",
       "      <td>42</td>\n",
       "      <td>4</td>\n",
       "      <td>～500万円</td>\n",
       "      <td>1</td>\n",
       "      <td>独身</td>\n",
       "      <td>3598.0</td>\n",
       "      <td>35.73</td>\n",
       "      <td>今回追加したデータ</td>\n",
       "      <td>さいたま市浦和区　上木崎　１－９－１７　シティインデックス　与野駅前</td>\n",
       "    </tr>\n",
       "    <tr>\n",
       "      <th>5</th>\n",
       "      <td>29</td>\n",
       "      <td>4</td>\n",
       "      <td>～500万円</td>\n",
       "      <td>3</td>\n",
       "      <td>独身</td>\n",
       "      <td>2588.0</td>\n",
       "      <td>30.72</td>\n",
       "      <td>今回追加したデータ</td>\n",
       "      <td>さいたま市浦和区　上木崎　１－９－１７　シティインデックス　与野駅前</td>\n",
       "    </tr>\n",
       "    <tr>\n",
       "      <th>6</th>\n",
       "      <td>51</td>\n",
       "      <td>4</td>\n",
       "      <td>～400万円</td>\n",
       "      <td>1</td>\n",
       "      <td>独身</td>\n",
       "      <td>3448.0</td>\n",
       "      <td>35.73</td>\n",
       "      <td>今回追加したデータ</td>\n",
       "      <td>さいたま市浦和区　上木崎　１－９－１７　シティインデックス　与野駅前</td>\n",
       "    </tr>\n",
       "  </tbody>\n",
       "</table>\n",
       "</div>"
      ],
      "text/plain": [
       "   年齢\\nage  合算後年収.1\\nAnnual income after the sum .1  \\\n",
       "2       36                                        8   \n",
       "3       48                                        4   \n",
       "4       42                                        4   \n",
       "5       29                                        4   \n",
       "6       51                                        4   \n",
       "\n",
       "  合算後年収\\nAnnual income after the sum  家族数\\nFamily number 家族F\\nFamily F  \\\n",
       "2                             ～800万円                   2         DINKS   \n",
       "3                             ～400万円                   1            独身   \n",
       "4                             ～500万円                   1            独身   \n",
       "5                             ～500万円                   3            独身   \n",
       "6                             ～400万円                   1            独身   \n",
       "\n",
       "   物件価格(千円)\\nProperty price (1,000 yen)  面積\\narea LP名\\nLP name  \\\n",
       "2                                3298.0     35.73    今回追加したデータ   \n",
       "3                                3378.0     35.73    今回追加したデータ   \n",
       "4                                3598.0     35.73    今回追加したデータ   \n",
       "5                                2588.0     30.72    今回追加したデータ   \n",
       "6                                3448.0     35.73    今回追加したデータ   \n",
       "\n",
       "                 最新住所\\nLatest address  \n",
       "2  さいたま市浦和区　上木崎　１－９－１７　シティインデックス　与野駅前  \n",
       "3  さいたま市浦和区　上木崎　１－９－１７　シティインデックス　与野駅前  \n",
       "4  さいたま市浦和区　上木崎　１－９－１７　シティインデックス　与野駅前  \n",
       "5  さいたま市浦和区　上木崎　１－９－１７　シティインデックス　与野駅前  \n",
       "6  さいたま市浦和区　上木崎　１－９－１７　シティインデックス　与野駅前  "
      ]
     },
     "execution_count": 46,
     "metadata": {},
     "output_type": "execute_result"
    }
   ],
   "source": [
    "data_dir = '../../haseko_v1_data_analysis/data/コピーデータ240215_4回目.xls'\n",
    "unlocked_file = io.BytesIO()\n",
    "\n",
    "excel_file = msoffcrypto.OfficeFile(open(data_dir, \"rb\"))\n",
    "excel_file.load_key(password = pw)\n",
    "excel_file.decrypt(unlocked_file)\n",
    "df = pd.read_excel(unlocked_file)\n",
    "\n",
    "df.columns = [unicodedata.normalize('NFKC', s) for s in df.columns]\n",
    "df.columns = [s+'\\n'+str(translator.translate(s, dest='en').text) for s in df.columns]\n",
    "df['物件価格(千円)\\nProperty price (1,000 yen)'] /= 10\n",
    "\n",
    "# Select relevant columns\n",
    "df = df[new_dict]\n",
    "# Remove outlier\n",
    "df = remove_outliers(df, '面積\\narea')\n",
    "# Remove possible pair loan\n",
    "col = ['家族数\\nFamily number','家族F\\nFamily F','物件価格(千円)\\nProperty price (1,000 yen)','面積\\narea','LP名\\nLP name','最新住所\\nLatest address']\n",
    "dup = df[df.duplicated(subset=col, keep=False)]\n",
    "df = df.loc[[i for i in df.index if i not in dup.index],:]\n",
    "\n",
    "print(df.shape)\n",
    "df.head()"
   ]
  },
  {
   "cell_type": "code",
   "execution_count": 47,
   "metadata": {
    "tags": []
   },
   "outputs": [
    {
     "data": {
      "text/html": [
       "<div>\n",
       "<style scoped>\n",
       "    .dataframe tbody tr th:only-of-type {\n",
       "        vertical-align: middle;\n",
       "    }\n",
       "\n",
       "    .dataframe tbody tr th {\n",
       "        vertical-align: top;\n",
       "    }\n",
       "\n",
       "    .dataframe thead th {\n",
       "        text-align: right;\n",
       "    }\n",
       "</style>\n",
       "<table border=\"1\" class=\"dataframe\">\n",
       "  <thead>\n",
       "    <tr style=\"text-align: right;\">\n",
       "      <th></th>\n",
       "      <th>年齢\\nage</th>\n",
       "      <th>合算後年収.1\\nAnnual income after the sum .1</th>\n",
       "      <th>合算後年収\\nAnnual income after the sum</th>\n",
       "      <th>家族数\\nFamily number</th>\n",
       "      <th>家族F\\nFamily F</th>\n",
       "      <th>物件価格(千円)\\nProperty price (1,000 yen)</th>\n",
       "      <th>面積\\narea</th>\n",
       "      <th>LP名\\nLP name</th>\n",
       "      <th>最新住所\\nLatest address</th>\n",
       "    </tr>\n",
       "  </thead>\n",
       "  <tbody>\n",
       "    <tr>\n",
       "      <th>0</th>\n",
       "      <td>35</td>\n",
       "      <td>10</td>\n",
       "      <td>～1000万円</td>\n",
       "      <td>3</td>\n",
       "      <td>ファミリー</td>\n",
       "      <td>4800.0</td>\n",
       "      <td>65.01</td>\n",
       "      <td>マンション中心のLPの案件</td>\n",
       "      <td>さいたま市浦和区　上木崎　１－２－２４　クラッシィハウス浦和上木崎</td>\n",
       "    </tr>\n",
       "    <tr>\n",
       "      <th>1</th>\n",
       "      <td>34</td>\n",
       "      <td>10</td>\n",
       "      <td>～1000万円</td>\n",
       "      <td>3</td>\n",
       "      <td>ファミリー</td>\n",
       "      <td>4800.0</td>\n",
       "      <td>65.01</td>\n",
       "      <td>マンション中心のLPの案件</td>\n",
       "      <td>さいたま市浦和区　上木崎　１－２－２４　クラッシィハウス浦和上木崎</td>\n",
       "    </tr>\n",
       "    <tr>\n",
       "      <th>10</th>\n",
       "      <td>35</td>\n",
       "      <td>9</td>\n",
       "      <td>～1000万円</td>\n",
       "      <td>2</td>\n",
       "      <td>DINKS</td>\n",
       "      <td>7032.0</td>\n",
       "      <td>64.45</td>\n",
       "      <td>マンション中心のLPの案件</td>\n",
       "      <td>さいたま市浦和区　仲町　１－９－１０ Brillia浦和仲町</td>\n",
       "    </tr>\n",
       "    <tr>\n",
       "      <th>11</th>\n",
       "      <td>32</td>\n",
       "      <td>9</td>\n",
       "      <td>～1000万円</td>\n",
       "      <td>2</td>\n",
       "      <td>DINKS</td>\n",
       "      <td>7032.0</td>\n",
       "      <td>64.45</td>\n",
       "      <td>マンション中心のLPの案件</td>\n",
       "      <td>さいたま市浦和区　仲町　１－９－１０ Brillia浦和仲町</td>\n",
       "    </tr>\n",
       "    <tr>\n",
       "      <th>22</th>\n",
       "      <td>31</td>\n",
       "      <td>7</td>\n",
       "      <td>～700万円</td>\n",
       "      <td>2</td>\n",
       "      <td>DINKS</td>\n",
       "      <td>4058.0</td>\n",
       "      <td>65.94</td>\n",
       "      <td>今回追加したデータ</td>\n",
       "      <td>稲城市　大丸　２２１６－１　ミオカステーロ南多摩</td>\n",
       "    </tr>\n",
       "  </tbody>\n",
       "</table>\n",
       "</div>"
      ],
      "text/plain": [
       "    年齢\\nage  合算後年収.1\\nAnnual income after the sum .1  \\\n",
       "0        35                                       10   \n",
       "1        34                                       10   \n",
       "10       35                                        9   \n",
       "11       32                                        9   \n",
       "22       31                                        7   \n",
       "\n",
       "   合算後年収\\nAnnual income after the sum  家族数\\nFamily number 家族F\\nFamily F  \\\n",
       "0                             ～1000万円                   3         ファミリー   \n",
       "1                             ～1000万円                   3         ファミリー   \n",
       "10                            ～1000万円                   2         DINKS   \n",
       "11                            ～1000万円                   2         DINKS   \n",
       "22                             ～700万円                   2         DINKS   \n",
       "\n",
       "    物件価格(千円)\\nProperty price (1,000 yen)  面積\\narea   LP名\\nLP name  \\\n",
       "0                                 4800.0     65.01  マンション中心のLPの案件   \n",
       "1                                 4800.0     65.01  マンション中心のLPの案件   \n",
       "10                                7032.0     64.45  マンション中心のLPの案件   \n",
       "11                                7032.0     64.45  マンション中心のLPの案件   \n",
       "22                                4058.0     65.94      今回追加したデータ   \n",
       "\n",
       "                 最新住所\\nLatest address  \n",
       "0   さいたま市浦和区　上木崎　１－２－２４　クラッシィハウス浦和上木崎  \n",
       "1   さいたま市浦和区　上木崎　１－２－２４　クラッシィハウス浦和上木崎  \n",
       "10     さいたま市浦和区　仲町　１－９－１０ Brillia浦和仲町  \n",
       "11     さいたま市浦和区　仲町　１－９－１０ Brillia浦和仲町  \n",
       "22           稲城市　大丸　２２１６－１　ミオカステーロ南多摩  "
      ]
     },
     "execution_count": 47,
     "metadata": {},
     "output_type": "execute_result"
    }
   ],
   "source": [
    "dup.head()"
   ]
  },
  {
   "cell_type": "markdown",
   "metadata": {},
   "source": [
    "# Previous training data"
   ]
  },
  {
   "cell_type": "code",
   "execution_count": 58,
   "metadata": {},
   "outputs": [],
   "source": [
    "pws_dict = {'age':'年齢\\nage',\n",
    "            'income':'合算後年収.1\\nAnnual income after the sum .1',\n",
    "            # 'income bin':'合算後年収\\nAnnual income after the sum',\n",
    "            'family_members':'家族数\\nFamily number',\n",
    "            'mf_family_type_str':'家族F\\nFamily F',\n",
    "            'price':'物件価格(千円)\\nProperty price (1,000 yen)',\n",
    "            'width':'面積\\narea',\n",
    "            'name':'LP名\\nLP name',\n",
    "            'pref_code':'pref_code',\n",
    "            'pref_name':'pref_name',\n",
    "            'city_code':'city_code',\n",
    "            'city_name':'city_name',\n",
    "            'area_code':'area_code',\n",
    "            'area_name':'area_name',\n",
    "            'search_area_code':'search_area_code',\n",
    "            'search_area_name':'search_area_name',\n",
    "            'lon':'lon',\n",
    "            'lat':'lat'}\n",
    "\n",
    "col = ['年齢\\nage','家族F\\nFamily F','物件価格(千円)\\nProperty price (1,000 yen)']\n",
    "match_family_type = {'DINKS':'パートナー','ファミリー':'パートナーと子供','自分ひとり':'独身'}"
   ]
  },
  {
   "cell_type": "code",
   "execution_count": 59,
   "metadata": {
    "tags": []
   },
   "outputs": [
    {
     "name": "stdout",
     "output_type": "stream",
     "text": [
      "(5487, 17)\n"
     ]
    },
    {
     "data": {
      "text/html": [
       "<div>\n",
       "<style scoped>\n",
       "    .dataframe tbody tr th:only-of-type {\n",
       "        vertical-align: middle;\n",
       "    }\n",
       "\n",
       "    .dataframe tbody tr th {\n",
       "        vertical-align: top;\n",
       "    }\n",
       "\n",
       "    .dataframe thead th {\n",
       "        text-align: right;\n",
       "    }\n",
       "</style>\n",
       "<table border=\"1\" class=\"dataframe\">\n",
       "  <thead>\n",
       "    <tr style=\"text-align: right;\">\n",
       "      <th></th>\n",
       "      <th>年齢\\nage</th>\n",
       "      <th>合算後年収.1\\nAnnual income after the sum .1</th>\n",
       "      <th>家族数\\nFamily number</th>\n",
       "      <th>家族F\\nFamily F</th>\n",
       "      <th>物件価格(千円)\\nProperty price (1,000 yen)</th>\n",
       "      <th>面積\\narea</th>\n",
       "      <th>LP名\\nLP name</th>\n",
       "      <th>pref_code</th>\n",
       "      <th>pref_name</th>\n",
       "      <th>city_code</th>\n",
       "      <th>city_name</th>\n",
       "      <th>area_code</th>\n",
       "      <th>area_name</th>\n",
       "      <th>search_area_code</th>\n",
       "      <th>search_area_name</th>\n",
       "      <th>lon</th>\n",
       "      <th>lat</th>\n",
       "    </tr>\n",
       "  </thead>\n",
       "  <tbody>\n",
       "    <tr>\n",
       "      <th>0</th>\n",
       "      <td>53.0</td>\n",
       "      <td>15.0</td>\n",
       "      <td>5</td>\n",
       "      <td>パートナーと子供</td>\n",
       "      <td>5589.91</td>\n",
       "      <td>70.56</td>\n",
       "      <td>ザ・ガーデンズ東京王子</td>\n",
       "      <td>13</td>\n",
       "      <td>東京都</td>\n",
       "      <td>13117</td>\n",
       "      <td>北区</td>\n",
       "      <td>1303</td>\n",
       "      <td>東京東部</td>\n",
       "      <td>1303</td>\n",
       "      <td>東京23区東エリア</td>\n",
       "      <td>139.726858</td>\n",
       "      <td>35.763803</td>\n",
       "    </tr>\n",
       "  </tbody>\n",
       "</table>\n",
       "</div>"
      ],
      "text/plain": [
       "   年齢\\nage  合算後年収.1\\nAnnual income after the sum .1  家族数\\nFamily number  \\\n",
       "0     53.0                                     15.0                   5   \n",
       "\n",
       "  家族F\\nFamily F  物件価格(千円)\\nProperty price (1,000 yen)  面積\\narea LP名\\nLP name  \\\n",
       "0      パートナーと子供                               5589.91     70.56  ザ・ガーデンズ東京王子   \n",
       "\n",
       "   pref_code pref_name  city_code city_name  area_code area_name  \\\n",
       "0         13       東京都      13117        北区       1303      東京東部   \n",
       "\n",
       "   search_area_code search_area_name         lon        lat  \n",
       "0              1303        東京23区東エリア  139.726858  35.763803  "
      ]
     },
     "execution_count": 59,
     "metadata": {},
     "output_type": "execute_result"
    }
   ],
   "source": [
    "base_params = '../../src/params'\n",
    "base_data = '../../haseko_v0/data/mansionfit_2020-12-02.csv'\n",
    "\n",
    "data = ProcessData()\n",
    "params_ml, _, area_data = data.load_json_file(base_params)\n",
    "pws_previous, _, _ = data.create_user_buildings_df(base_data, area_data)\n",
    "pws_previous = pws_previous.dropna(axis=0)\n",
    "pws_previous['family_members'] = pws_previous['family_members'].astype(int)\n",
    "pws_previous['income'] /= 1000000\n",
    "pws_previous['price'] /= 10000\n",
    "pws_previous = pws_previous[pws_dict.keys()]\n",
    "pws_previous.columns = pws_dict.values()\n",
    "pws_previous['家族F\\nFamily F'] = [match_family_type[i] if i in match_family_type.keys() else i for i in pws_previous['家族F\\nFamily F']]\n",
    "print(pws_previous.shape)\n",
    "# col = ['家族数\\nFamily number','家族F\\nFamily F','物件価格(千円)\\nProperty price (1,000 yen)','面積\\narea','LP名\\nLP name','pref_code','pref_name','city_code','city_name','area_code','area_name','search_area_code','search_area_name','lon','lat']\n",
    "# pws_previous = pws_previous.drop_duplicates(subset=col, keep=False, inplace=False)\n",
    "\n",
    "# print(pws_previous.shape)\n",
    "pws_previous.head(1)"
   ]
  },
  {
   "cell_type": "code",
   "execution_count": 60,
   "metadata": {
    "tags": []
   },
   "outputs": [
    {
     "name": "stdout",
     "output_type": "stream",
     "text": [
      "(10473, 17)\n"
     ]
    },
    {
     "data": {
      "text/html": [
       "<div>\n",
       "<style scoped>\n",
       "    .dataframe tbody tr th:only-of-type {\n",
       "        vertical-align: middle;\n",
       "    }\n",
       "\n",
       "    .dataframe tbody tr th {\n",
       "        vertical-align: top;\n",
       "    }\n",
       "\n",
       "    .dataframe thead th {\n",
       "        text-align: right;\n",
       "    }\n",
       "</style>\n",
       "<table border=\"1\" class=\"dataframe\">\n",
       "  <thead>\n",
       "    <tr style=\"text-align: right;\">\n",
       "      <th></th>\n",
       "      <th>年齢\\nage</th>\n",
       "      <th>合算後年収.1\\nAnnual income after the sum .1</th>\n",
       "      <th>家族数\\nFamily number</th>\n",
       "      <th>家族F\\nFamily F</th>\n",
       "      <th>物件価格(千円)\\nProperty price (1,000 yen)</th>\n",
       "      <th>面積\\narea</th>\n",
       "      <th>LP名\\nLP name</th>\n",
       "      <th>pref_code</th>\n",
       "      <th>pref_name</th>\n",
       "      <th>city_code</th>\n",
       "      <th>city_name</th>\n",
       "      <th>area_code</th>\n",
       "      <th>area_name</th>\n",
       "      <th>search_area_code</th>\n",
       "      <th>search_area_name</th>\n",
       "      <th>lon</th>\n",
       "      <th>lat</th>\n",
       "    </tr>\n",
       "  </thead>\n",
       "  <tbody>\n",
       "    <tr>\n",
       "      <th>0</th>\n",
       "      <td>53.0</td>\n",
       "      <td>15.0</td>\n",
       "      <td>5</td>\n",
       "      <td>パートナーと子供</td>\n",
       "      <td>5589.91</td>\n",
       "      <td>70.56</td>\n",
       "      <td>ザ・ガーデンズ東京王子</td>\n",
       "      <td>13</td>\n",
       "      <td>東京都</td>\n",
       "      <td>13117</td>\n",
       "      <td>北区</td>\n",
       "      <td>1303</td>\n",
       "      <td>東京東部</td>\n",
       "      <td>1303</td>\n",
       "      <td>東京23区東エリア</td>\n",
       "      <td>139.726858</td>\n",
       "      <td>35.763803</td>\n",
       "    </tr>\n",
       "  </tbody>\n",
       "</table>\n",
       "</div>"
      ],
      "text/plain": [
       "   年齢\\nage  合算後年収.1\\nAnnual income after the sum .1  家族数\\nFamily number  \\\n",
       "0     53.0                                     15.0                   5   \n",
       "\n",
       "  家族F\\nFamily F  物件価格(千円)\\nProperty price (1,000 yen)  面積\\narea LP名\\nLP name  \\\n",
       "0      パートナーと子供                               5589.91     70.56  ザ・ガーデンズ東京王子   \n",
       "\n",
       "   pref_code pref_name  city_code city_name  area_code area_name  \\\n",
       "0         13       東京都      13117        北区       1303      東京東部   \n",
       "\n",
       "   search_area_code search_area_name         lon        lat  \n",
       "0              1303        東京23区東エリア  139.726858  35.763803  "
      ]
     },
     "execution_count": 60,
     "metadata": {},
     "output_type": "execute_result"
    }
   ],
   "source": [
    "base_params = '../../src/params'\n",
    "base_data = '../../haseko_v0/data/mansionfit_20240312_013333.csv'\n",
    "\n",
    "data = ProcessData()\n",
    "params_ml, _, area_data = data.load_json_file(base_params)\n",
    "pws_new, _, _ = data.create_user_buildings_df(base_data, area_data)\n",
    "pws_new = pws_new.dropna(axis=0)\n",
    "pws_new['family_members'] = pws_new['family_members'].astype(int)\n",
    "pws_new['income'] /= 1000000\n",
    "pws_new['price'] /= 10000\n",
    "pws_new = pws_new[pws_dict.keys()]\n",
    "pws_new.columns = pws_dict.values()\n",
    "\n",
    "print(pws_new.shape)\n",
    "# col = ['家族数\\nFamily number','家族F\\nFamily F','物件価格(千円)\\nProperty price (1,000 yen)','面積\\narea','LP名\\nLP name','pref_code','pref_name','city_code','city_name','area_code','area_name','search_area_code','search_area_name','lon','lat']\n",
    "# pws_new = pws_new.drop_duplicates(subset=col, keep=False, inplace=False)\n",
    "\n",
    "# print(pws_new.shape)\n",
    "pws_new.head(1)"
   ]
  },
  {
   "cell_type": "code",
   "execution_count": 61,
   "metadata": {
    "tags": []
   },
   "outputs": [
    {
     "name": "stdout",
     "output_type": "stream",
     "text": [
      "5089\n"
     ]
    }
   ],
   "source": [
    "duplicates = pd.merge(pws_new, pws_previous, how='inner')\n",
    "print(len(duplicates))"
   ]
  },
  {
   "cell_type": "code",
   "execution_count": 62,
   "metadata": {
    "tags": []
   },
   "outputs": [
    {
     "name": "stdout",
     "output_type": "stream",
     "text": [
      "20\n"
     ]
    }
   ],
   "source": [
    "duplicates = pd.merge(df[col], pws_previous[col], how='inner')\n",
    "print(len(duplicates))"
   ]
  },
  {
   "cell_type": "code",
   "execution_count": 63,
   "metadata": {
    "tags": []
   },
   "outputs": [
    {
     "name": "stdout",
     "output_type": "stream",
     "text": [
      "20\n"
     ]
    }
   ],
   "source": [
    "duplicates = pd.merge(df[col], pws_previous[col], how='inner')\n",
    "print(len(duplicates))"
   ]
  },
  {
   "cell_type": "markdown",
   "metadata": {},
   "source": [
    "# Data aggregation"
   ]
  },
  {
   "cell_type": "code",
   "execution_count": 41,
   "metadata": {
    "tags": []
   },
   "outputs": [
    {
     "name": "stdout",
     "output_type": "stream",
     "text": [
      "(14207, 22)\n"
     ]
    },
    {
     "data": {
      "text/html": [
       "<div>\n",
       "<style scoped>\n",
       "    .dataframe tbody tr th:only-of-type {\n",
       "        vertical-align: middle;\n",
       "    }\n",
       "\n",
       "    .dataframe tbody tr th {\n",
       "        vertical-align: top;\n",
       "    }\n",
       "\n",
       "    .dataframe thead th {\n",
       "        text-align: right;\n",
       "    }\n",
       "</style>\n",
       "<table border=\"1\" class=\"dataframe\">\n",
       "  <thead>\n",
       "    <tr style=\"text-align: right;\">\n",
       "      <th></th>\n",
       "      <th>年齢\\nage</th>\n",
       "      <th>合算後年収.1\\nAnnual income after the sum .1</th>\n",
       "      <th>合算後年収\\nAnnual income after the sum</th>\n",
       "      <th>家族数\\nFamily number</th>\n",
       "      <th>家族F\\nFamily F</th>\n",
       "      <th>物件価格(万円)\\nProperty price (10,000 yen)</th>\n",
       "      <th>面積\\narea</th>\n",
       "      <th>LP名\\nLP name</th>\n",
       "      <th>最新住所\\nLatest address</th>\n",
       "      <th>pref_code</th>\n",
       "      <th>pref_name</th>\n",
       "      <th>city_code</th>\n",
       "      <th>city_name</th>\n",
       "      <th>area_code</th>\n",
       "      <th>area_name</th>\n",
       "      <th>search_area_code</th>\n",
       "      <th>search_area_name</th>\n",
       "      <th>lon</th>\n",
       "      <th>lat</th>\n",
       "      <th>salary@65</th>\n",
       "      <th>kids_expenses</th>\n",
       "      <th>estimated_savings</th>\n",
       "    </tr>\n",
       "  </thead>\n",
       "  <tbody>\n",
       "    <tr>\n",
       "      <th>0</th>\n",
       "      <td>36.0</td>\n",
       "      <td>8.0</td>\n",
       "      <td>～800万円</td>\n",
       "      <td>2</td>\n",
       "      <td>パートナー</td>\n",
       "      <td>3298.0</td>\n",
       "      <td>35.73</td>\n",
       "      <td>今回追加したデータ</td>\n",
       "      <td>さいたま市浦和区　上木崎　１－９－１７　シティインデックス　与野駅前</td>\n",
       "      <td>NaN</td>\n",
       "      <td>NaN</td>\n",
       "      <td>NaN</td>\n",
       "      <td>NaN</td>\n",
       "      <td>NaN</td>\n",
       "      <td>NaN</td>\n",
       "      <td>NaN</td>\n",
       "      <td>NaN</td>\n",
       "      <td>NaN</td>\n",
       "      <td>NaN</td>\n",
       "      <td>4.64</td>\n",
       "      <td>0</td>\n",
       "      <td>2.64</td>\n",
       "    </tr>\n",
       "  </tbody>\n",
       "</table>\n",
       "</div>"
      ],
      "text/plain": [
       "   年齢\\nage  合算後年収.1\\nAnnual income after the sum .1  \\\n",
       "0     36.0                                      8.0   \n",
       "\n",
       "  合算後年収\\nAnnual income after the sum  家族数\\nFamily number 家族F\\nFamily F  \\\n",
       "0                             ～800万円                   2         パートナー   \n",
       "\n",
       "   物件価格(万円)\\nProperty price (10,000 yen)  面積\\narea LP名\\nLP name  \\\n",
       "0                                 3298.0     35.73    今回追加したデータ   \n",
       "\n",
       "                 最新住所\\nLatest address  pref_code pref_name  city_code  \\\n",
       "0  さいたま市浦和区　上木崎　１－９－１７　シティインデックス　与野駅前        NaN       NaN        NaN   \n",
       "\n",
       "  city_name  area_code area_name  search_area_code search_area_name  lon  lat  \\\n",
       "0       NaN        NaN       NaN               NaN              NaN  NaN  NaN   \n",
       "\n",
       "   salary@65  kids_expenses  estimated_savings  \n",
       "0       4.64              0               2.64  "
      ]
     },
     "execution_count": 41,
     "metadata": {},
     "output_type": "execute_result"
    }
   ],
   "source": [
    "data = pd.concat([df, pws_new],axis=0).rename(columns={'物件価格(千円)\\nProperty price (1,000 yen)':'物件価格(万円)\\nProperty price (10,000 yen)'})\n",
    "data['家族F\\nFamily F'] = [match_family_type[i] if i in match_family_type.keys() else i for i in data['家族F\\nFamily F']]\n",
    "data['salary@65'] = [max(0, (65 - age) * salary * 0.02) for age, salary in zip(data['年齢\\nage'], data['合算後年収.1\\nAnnual income after the sum .1'])]\n",
    "data['kids_expenses'] = [max(0, (i-2)*100000*12) for i in data['家族数\\nFamily number']]\n",
    "data['estimated_savings'] = [max(0, (age - 25) * salary * 0.06) if status == '独身' else (age - 25) * salary * 0.03 if status == 'パートナー' else (age - 25) * salary * 0.01 for status, age, salary in zip(data['家族F\\nFamily F'], data['年齢\\nage'], data['合算後年収.1\\nAnnual income after the sum .1'])]\n",
    "data = data.drop_duplicates(keep=False, inplace=False)\n",
    "data = data.reset_index(drop=True)\n",
    "\n",
    "print(data.shape)\n",
    "data.head(1)"
   ]
  },
  {
   "cell_type": "markdown",
   "metadata": {},
   "source": [
    "# Data visualization"
   ]
  },
  {
   "cell_type": "code",
   "execution_count": 42,
   "metadata": {
    "tags": []
   },
   "outputs": [
    {
     "data": {
      "image/png": "[encoded data removed]",
      "text/plain": [
       "<Figure size 1500x1000 with 16 Axes>"
      ]
     },
     "metadata": {},
     "output_type": "display_data"
    }
   ],
   "source": [
    "sns.set(font_scale=1.0, font=\"MS Gothic\")\n",
    "data.hist(bins=100, figsize=(15, 10))\n",
    "plt.tight_layout()\n",
    "plt.show()"
   ]
  },
  {
   "cell_type": "code",
   "execution_count": null,
   "metadata": {},
   "outputs": [],
   "source": []
  },
  {
   "cell_type": "code",
   "execution_count": null,
   "metadata": {},
   "outputs": [],
   "source": []
  }
 ],
 "metadata": {
  "kernelspec": {
   "display_name": "python3.10",
   "language": "python",
   "name": "python3.10"
  },
  "language_info": {
   "codemirror_mode": {
    "name": "ipython",
    "version": 3
   },
   "file_extension": ".py",
   "mimetype": "text/x-python",
   "name": "python",
   "nbconvert_exporter": "python",
   "pygments_lexer": "ipython3",
   "version": "3.10.13"
  }
 },
 "nbformat": 4,
 "nbformat_minor": 4
}

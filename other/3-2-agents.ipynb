{
 "cells": [
  {
   "cell_type": "markdown",
   "metadata": {},
   "source": [
    "# ClearML agent intro"
   ]
  },
  {
   "cell_type": "markdown",
   "metadata": {},
   "source": [
    "ClearML Agent is a virtual environment and execution manager for machine learning solutions.\n",
    "Its main focus is around:\n",
    "\n",
    "- Reproducing experiments, including their complete environments.\n",
    "- Scaling workflows on multiple target machines."
   ]
  },
  {
   "cell_type": "markdown",
   "metadata": {},
   "source": [
    "![Alt text](data/clearml_agent_flow_diagram-36ad7ef4aad58ab97a70192ef65c66f2.jpg)"
   ]
  },
  {
   "cell_type": "markdown",
   "metadata": {},
   "source": [
    "## Installation\n",
    "To install, run \n",
    "```shell\n",
    "pip install clearml-agent\n",
    "```"
   ]
  },
  {
   "cell_type": "markdown",
   "metadata": {},
   "source": [
    "## Configuration\n",
    "After installation, you need to run \n",
    "```shell\n",
    "clearml-agent init\n",
    "```\n",
    "which will run a wizard to get various credentials (Clearml, git, file server, ...).\n",
    "Alternatively, you can directly edit the clearml.conf file if you have it already."
   ]
  },
  {
   "cell_type": "markdown",
   "metadata": {},
   "source": [
    "## Executing an Agent\n",
    "To execute an agent, listening to a queue, run:\n",
    "```shell\n",
    "clearml-agent daemon --queue <queue_name>\n",
    "```"
   ]
  },
  {
   "cell_type": "markdown",
   "metadata": {},
   "source": [
    "## Executing in Background\n",
    "To execute an agent in the background, run:\n",
    "\n",
    "```shell\n",
    "clearml-agent daemon --queue <execution_queue_to_pull_from> --detached\n",
    "```"
   ]
  },
  {
   "cell_type": "markdown",
   "metadata": {},
   "source": [
    "## Stopping Agents\n",
    "To stop an agent running in the background, run:\n",
    "```shell\n",
    "clearml-agent daemon <arguments> --stop\n",
    "```\n"
   ]
  },
  {
   "cell_type": "markdown",
   "metadata": {},
   "source": [
    "## Allocating Resources\n",
    "To specify GPUs associated with the agent, add the --gpus flag. To execute multiple agents on the same machine (usually assigning GPU for the different agents), run:\n",
    "```shell\n",
    "clearml-agent daemon --detached --queue default --gpus 0\n",
    "clearml-agent daemon --detached --queue default --gpus 1\n",
    "```\n",
    "\n",
    "To allocate more than one GPU, provide a list of allocated GPUs:\n",
    "```shell\n",
    "clearml-agent daemon --gpus 0,1 --queue dual_gpu &\n",
    "```"
   ]
  },
  {
   "cell_type": "markdown",
   "metadata": {},
   "source": [
    "## Queue Prioritization\n",
    "\n",
    "A single agent can listen to multiple queues. The priority is set by their order.\n",
    "```shell\n",
    "clearml-agent daemon --detached --queue high_q low_q --gpus 0\n",
    "```\n",
    "\n",
    "To make sure an agent pulls from all queues equally, add the --order-fairness flag.\n",
    "\n",
    "```shell\n",
    "clearml-agent daemon --detached --queue group_a group_b --order-fairness  --gpus 0\n",
    "```"
   ]
  },
  {
   "cell_type": "markdown",
   "metadata": {},
   "source": [
    "To make sure an agent pulls from all queues equally, add the --order-fairness flag.\n",
    "\n"
   ]
  },
  {
   "cell_type": "markdown",
   "metadata": {},
   "source": [
    "## Docker mode\n",
    "\n",
    "When executing the ClearML Agent in Docker mode, it will:\n",
    "\n",
    "Run the provided Docker container\n",
    "Install ClearML Agent in the container\n",
    "Execute the Task in the container, and monitor the process.\n",
    "ClearML Agent uses the provided default Docker container, which can be overridden from the UI.\n",
    "\n",
    "All ClearML Agent flags (such as --gpus and --foreground) are applicable to Docker mode as well.\n",
    "\n",
    "To execute ClearML Agent in Docker mode, run:\n",
    "\n",
    "```shell\n",
    "clearml-agent daemon --queue <execution_queue_to_pull_from> --docker [optional default docker image to use]\n",
    "```"
   ]
  },
  {
   "cell_type": "markdown",
   "metadata": {},
   "source": [
    "## Services mode\n",
    "\n",
    "ClearML Agent supports a Services Mode where, as soon as a task is launched off of its queue, the agent moves on to the next task without waiting for the previous one to complete. This mode is intended for running resource-sparse tasks that are usually idling, such as periodic cleanup services, HPO task or a pipeline controller.\n",
    "\n",
    "To run a clearml-agent in services mode, run:\n",
    "```shell\n",
    "clearml-agent daemon --services-mode --queue services --docker --cpu-only\n",
    "```\n",
    "To limit the number of simultaneous tasks run in services mode, pass the maximum number immediately after the --services-mode option (e.g. --services-mode 5)"
   ]
  },
  {
   "cell_type": "markdown",
   "metadata": {},
   "source": [
    "# Use case"
   ]
  },
  {
   "cell_type": "code",
   "execution_count": 18,
   "metadata": {},
   "outputs": [],
   "source": [
    "from clearml import Task, TaskTypes"
   ]
  },
  {
   "cell_type": "markdown",
   "metadata": {},
   "source": [
    "## Clone, change and execute task on agents"
   ]
  },
  {
   "cell_type": "markdown",
   "metadata": {},
   "source": [
    "### Get the base task"
   ]
  },
  {
   "cell_type": "code",
   "execution_count": 34,
   "metadata": {},
   "outputs": [],
   "source": [
    "base_task = Task.get_task(project_name=\"ClearmlStudySessions/agents\",\n",
    "                 task_name=\"base task\")"
   ]
  },
  {
   "cell_type": "code",
   "execution_count": 35,
   "metadata": {},
   "outputs": [
    {
     "data": {
      "text/plain": [
       "'1b17da9671624d8db0e35381babb2da1'"
      ]
     },
     "execution_count": 35,
     "metadata": {},
     "output_type": "execute_result"
    }
   ],
   "source": [
    "base_task.id"
   ]
  },
  {
   "cell_type": "markdown",
   "metadata": {},
   "source": [
    "### Check the parameters"
   ]
  },
  {
   "cell_type": "code",
   "execution_count": 36,
   "metadata": {},
   "outputs": [],
   "source": [
    "params = base_task.get_parameters_as_dict()"
   ]
  },
  {
   "cell_type": "code",
   "execution_count": 37,
   "metadata": {},
   "outputs": [
    {
     "data": {
      "text/plain": [
       "{'General': {'base_model': 'MobileNetV3',\n",
       "  'batch_size': '256',\n",
       "  'image_size': '224',\n",
       "  'lr': '0.0001'}}"
      ]
     },
     "execution_count": 37,
     "metadata": {},
     "output_type": "execute_result"
    }
   ],
   "source": [
    "params"
   ]
  },
  {
   "cell_type": "markdown",
   "metadata": {},
   "source": [
    "### Clone the task"
   ]
  },
  {
   "cell_type": "code",
   "execution_count": 38,
   "metadata": {},
   "outputs": [],
   "source": [
    "cloned_task = Task.clone(source_task=base_task,\n",
    "                         name=\"Clone of base task\",)"
   ]
  },
  {
   "cell_type": "code",
   "execution_count": 39,
   "metadata": {},
   "outputs": [],
   "source": [
    "cloned_params = cloned_task.get_parameters_as_dict()"
   ]
  },
  {
   "cell_type": "code",
   "execution_count": 40,
   "metadata": {},
   "outputs": [
    {
     "data": {
      "text/plain": [
       "{'General': {'base_model': 'MobileNetV3',\n",
       "  'batch_size': '256',\n",
       "  'image_size': '224',\n",
       "  'lr': '0.0001'}}"
      ]
     },
     "execution_count": 40,
     "metadata": {},
     "output_type": "execute_result"
    }
   ],
   "source": [
    "cloned_params"
   ]
  },
  {
   "cell_type": "markdown",
   "metadata": {},
   "source": [
    "### Change or add parameters"
   ]
  },
  {
   "cell_type": "code",
   "execution_count": 41,
   "metadata": {},
   "outputs": [],
   "source": [
    "cloned_task.set_parameter(name=\"Extra/test\", value=\"test\")"
   ]
  },
  {
   "cell_type": "code",
   "execution_count": 42,
   "metadata": {},
   "outputs": [],
   "source": [
    "# if you don't put the section first, it will assume the \"General\" section\n",
    "cloned_task.set_parameter(name=\"base_model\", value=\"test\")"
   ]
  },
  {
   "cell_type": "code",
   "execution_count": 43,
   "metadata": {},
   "outputs": [],
   "source": [
    "cloned_task.set_parameters({'base_model': 'MobileNetV2',\n",
    "  'batch_size': 128,\n",
    "  'image_size': 256,\n",
    "  'lr': 1e-6,\n",
    "  'pooling' : 'avg'})"
   ]
  },
  {
   "cell_type": "markdown",
   "metadata": {},
   "source": [
    "### Enqueue the task to be run remotely"
   ]
  },
  {
   "cell_type": "code",
   "execution_count": 44,
   "metadata": {},
   "outputs": [
    {
     "data": {
      "text/plain": [
       "<tasks.EnqueueResponse: {\n",
       "    \"updated\": 1,\n",
       "    \"fields\": {\n",
       "        \"status\": \"queued\",\n",
       "        \"status_reason\": \"\",\n",
       "        \"status_message\": \"\",\n",
       "        \"status_changed\": \"2023-05-31T01:41:39.292002+00:00\",\n",
       "        \"last_update\": \"2023-05-31T01:41:39.292002+00:00\",\n",
       "        \"last_change\": \"2023-05-31T01:41:39.292002+00:00\",\n",
       "        \"last_changed_by\": \"d245343a43f4403489141b8d4663c4ff\",\n",
       "        \"enqueue_status\": \"created\",\n",
       "        \"execution.queue\": \"0d49c3b6f98c403aac20fa7920cac044\"\n",
       "    },\n",
       "    \"queued\": 1\n",
       "}>"
      ]
     },
     "execution_count": 44,
     "metadata": {},
     "output_type": "execute_result"
    }
   ],
   "source": [
    "Task.enqueue(task=cloned_task,\n",
    "             queue_name=\"test\")"
   ]
  },
  {
   "cell_type": "code",
   "execution_count": null,
   "metadata": {},
   "outputs": [],
   "source": []
  }
 ],
 "metadata": {
  "kernelspec": {
   "display_name": "python3.7",
   "language": "python",
   "name": "python3"
  },
  "language_info": {
   "codemirror_mode": {
    "name": "ipython",
    "version": 3
   },
   "file_extension": ".py",
   "mimetype": "text/x-python",
   "name": "python",
   "nbconvert_exporter": "python",
   "pygments_lexer": "ipython3",
   "version": "3.7.10"
  }
 },
 "nbformat": 4,
 "nbformat_minor": 4
}

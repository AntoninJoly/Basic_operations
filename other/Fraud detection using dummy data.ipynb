{
 "cells": [
  {
   "cell_type": "markdown",
   "id": "b729400a",
   "metadata": {},
   "source": [
    "# Fraud detection using dummy data"
   ]
  },
  {
   "cell_type": "code",
   "execution_count": 24,
   "id": "8506fc4f",
   "metadata": {},
   "outputs": [],
   "source": [
    "import warnings\n",
    "warnings.filterwarnings(\"ignore\")\n",
    "import numpy as np\n",
    "import pandas as pd\n",
    "import seaborn as sns\n",
    "import matplotlib.pyplot as plt\n",
    "from sklearn.datasets import make_classification\n",
    "\n",
    "import xgboost\n",
    "from sklearn.model_selection import train_test_split\n",
    "from sklearn.metrics import confusion_matrix, classification_report, accuracy_score\n",
    "from collections import Counter\n",
    "\n",
    "labels = ['no fraud', 'fraud']"
   ]
  },
  {
   "cell_type": "markdown",
   "id": "e72ed444",
   "metadata": {},
   "source": [
    "# Creat dummy data"
   ]
  },
  {
   "cell_type": "code",
   "execution_count": 47,
   "id": "a2ee870c",
   "metadata": {},
   "outputs": [],
   "source": [
    "n = 15\n",
    "X, y = make_classification(n_samples=15000,\n",
    "                           n_features=n,\n",
    "                           n_informative=3,\n",
    "                           n_classes=2,\n",
    "                           weights=[0.5,0.5],\n",
    "                           random_state= 0)"
   ]
  },
  {
   "cell_type": "code",
   "execution_count": 48,
   "id": "25fe4844",
   "metadata": {},
   "outputs": [
    {
     "name": "stdout",
     "output_type": "stream",
     "text": [
      "(15000, 15) (15000,)\n",
      "Counter({1: 7510, 0: 7490})\n"
     ]
    }
   ],
   "source": [
    "print(X.shape, y.shape)\n",
    "print(Counter(y))"
   ]
  },
  {
   "cell_type": "code",
   "execution_count": 49,
   "id": "516140ef",
   "metadata": {},
   "outputs": [],
   "source": [
    "col_features = [f'X{i}' for i in range(n)]\n",
    "df = pd.DataFrame(X, columns=col_features)\n",
    "df['target'] = y"
   ]
  },
  {
   "cell_type": "code",
   "execution_count": 50,
   "id": "ec2588b1",
   "metadata": {},
   "outputs": [
    {
     "data": {
      "text/html": [
       "<div>\n",
       "<style scoped>\n",
       "    .dataframe tbody tr th:only-of-type {\n",
       "        vertical-align: middle;\n",
       "    }\n",
       "\n",
       "    .dataframe tbody tr th {\n",
       "        vertical-align: top;\n",
       "    }\n",
       "\n",
       "    .dataframe thead th {\n",
       "        text-align: right;\n",
       "    }\n",
       "</style>\n",
       "<table border=\"1\" class=\"dataframe\">\n",
       "  <thead>\n",
       "    <tr style=\"text-align: right;\">\n",
       "      <th></th>\n",
       "      <th>X0</th>\n",
       "      <th>X1</th>\n",
       "      <th>X2</th>\n",
       "      <th>X3</th>\n",
       "      <th>X4</th>\n",
       "      <th>X5</th>\n",
       "      <th>X6</th>\n",
       "      <th>X7</th>\n",
       "      <th>X8</th>\n",
       "      <th>X9</th>\n",
       "      <th>X10</th>\n",
       "      <th>X11</th>\n",
       "      <th>X12</th>\n",
       "      <th>X13</th>\n",
       "      <th>X14</th>\n",
       "      <th>target</th>\n",
       "    </tr>\n",
       "  </thead>\n",
       "  <tbody>\n",
       "    <tr>\n",
       "      <th>0</th>\n",
       "      <td>-1.585901</td>\n",
       "      <td>-1.072756</td>\n",
       "      <td>1.478527</td>\n",
       "      <td>-0.005682</td>\n",
       "      <td>-0.043057</td>\n",
       "      <td>-0.250278</td>\n",
       "      <td>-0.691237</td>\n",
       "      <td>0.520402</td>\n",
       "      <td>1.689371</td>\n",
       "      <td>-0.701481</td>\n",
       "      <td>1.259567</td>\n",
       "      <td>0.088220</td>\n",
       "      <td>0.695140</td>\n",
       "      <td>0.081269</td>\n",
       "      <td>-0.276898</td>\n",
       "      <td>1</td>\n",
       "    </tr>\n",
       "    <tr>\n",
       "      <th>1</th>\n",
       "      <td>-1.848890</td>\n",
       "      <td>-1.132823</td>\n",
       "      <td>-1.381304</td>\n",
       "      <td>-0.906043</td>\n",
       "      <td>0.537159</td>\n",
       "      <td>-0.858295</td>\n",
       "      <td>-0.671335</td>\n",
       "      <td>1.265265</td>\n",
       "      <td>1.204472</td>\n",
       "      <td>-1.455077</td>\n",
       "      <td>-0.944853</td>\n",
       "      <td>0.169091</td>\n",
       "      <td>-0.239211</td>\n",
       "      <td>0.292913</td>\n",
       "      <td>-0.309465</td>\n",
       "      <td>1</td>\n",
       "    </tr>\n",
       "    <tr>\n",
       "      <th>2</th>\n",
       "      <td>0.923884</td>\n",
       "      <td>-0.791989</td>\n",
       "      <td>-0.476096</td>\n",
       "      <td>0.904359</td>\n",
       "      <td>-0.378229</td>\n",
       "      <td>1.601919</td>\n",
       "      <td>-1.100789</td>\n",
       "      <td>-2.536191</td>\n",
       "      <td>-0.634102</td>\n",
       "      <td>1.094765</td>\n",
       "      <td>1.022909</td>\n",
       "      <td>-0.587478</td>\n",
       "      <td>1.157923</td>\n",
       "      <td>-1.233275</td>\n",
       "      <td>1.604400</td>\n",
       "      <td>0</td>\n",
       "    </tr>\n",
       "    <tr>\n",
       "      <th>3</th>\n",
       "      <td>0.170861</td>\n",
       "      <td>0.683680</td>\n",
       "      <td>0.616888</td>\n",
       "      <td>-0.455075</td>\n",
       "      <td>-0.038200</td>\n",
       "      <td>-1.763319</td>\n",
       "      <td>0.854041</td>\n",
       "      <td>2.866657</td>\n",
       "      <td>1.877822</td>\n",
       "      <td>0.934138</td>\n",
       "      <td>-0.674222</td>\n",
       "      <td>0.550455</td>\n",
       "      <td>-0.634798</td>\n",
       "      <td>1.242117</td>\n",
       "      <td>-0.878364</td>\n",
       "      <td>0</td>\n",
       "    </tr>\n",
       "    <tr>\n",
       "      <th>4</th>\n",
       "      <td>0.820191</td>\n",
       "      <td>0.759085</td>\n",
       "      <td>-0.098487</td>\n",
       "      <td>-0.392834</td>\n",
       "      <td>0.216537</td>\n",
       "      <td>1.384917</td>\n",
       "      <td>-0.875455</td>\n",
       "      <td>-1.907433</td>\n",
       "      <td>-0.914748</td>\n",
       "      <td>-1.392811</td>\n",
       "      <td>-1.724091</td>\n",
       "      <td>0.012625</td>\n",
       "      <td>0.984491</td>\n",
       "      <td>-0.442015</td>\n",
       "      <td>-0.789244</td>\n",
       "      <td>0</td>\n",
       "    </tr>\n",
       "  </tbody>\n",
       "</table>\n",
       "</div>"
      ],
      "text/plain": [
       "         X0        X1        X2        X3        X4        X5        X6  \\\n",
       "0 -1.585901 -1.072756  1.478527 -0.005682 -0.043057 -0.250278 -0.691237   \n",
       "1 -1.848890 -1.132823 -1.381304 -0.906043  0.537159 -0.858295 -0.671335   \n",
       "2  0.923884 -0.791989 -0.476096  0.904359 -0.378229  1.601919 -1.100789   \n",
       "3  0.170861  0.683680  0.616888 -0.455075 -0.038200 -1.763319  0.854041   \n",
       "4  0.820191  0.759085 -0.098487 -0.392834  0.216537  1.384917 -0.875455   \n",
       "\n",
       "         X7        X8        X9       X10       X11       X12       X13  \\\n",
       "0  0.520402  1.689371 -0.701481  1.259567  0.088220  0.695140  0.081269   \n",
       "1  1.265265  1.204472 -1.455077 -0.944853  0.169091 -0.239211  0.292913   \n",
       "2 -2.536191 -0.634102  1.094765  1.022909 -0.587478  1.157923 -1.233275   \n",
       "3  2.866657  1.877822  0.934138 -0.674222  0.550455 -0.634798  1.242117   \n",
       "4 -1.907433 -0.914748 -1.392811 -1.724091  0.012625  0.984491 -0.442015   \n",
       "\n",
       "        X14  target  \n",
       "0 -0.276898       1  \n",
       "1 -0.309465       1  \n",
       "2  1.604400       0  \n",
       "3 -0.878364       0  \n",
       "4 -0.789244       0  "
      ]
     },
     "execution_count": 50,
     "metadata": {},
     "output_type": "execute_result"
    }
   ],
   "source": [
    "df.head()"
   ]
  },
  {
   "cell_type": "code",
   "execution_count": 51,
   "id": "31f03df8",
   "metadata": {},
   "outputs": [
    {
     "name": "stdout",
     "output_type": "stream",
     "text": [
      "(12000, 15) (12000,) (1500, 15) (1500,) (1500, 15) (1500,)\n"
     ]
    }
   ],
   "source": [
    "X_train, X, y_train, y = train_test_split(df[col_features], df['target'], train_size=0.8, stratify=df['target'])\n",
    "X_val, X_test, y_val, y_test = train_test_split(X, y,train_size=0.5, stratify=y)\n",
    "\n",
    "print(X_train.shape, y_train.shape, X_val.shape, y_val.shape, X_test.shape, y_test.shape)"
   ]
  },
  {
   "cell_type": "code",
   "execution_count": 52,
   "id": "e3d374dc",
   "metadata": {},
   "outputs": [
    {
     "name": "stdout",
     "output_type": "stream",
     "text": [
      "Counter({1: 6008, 0: 5992})\n",
      "Counter({1: 751, 0: 749})\n",
      "Counter({1: 751, 0: 749})\n"
     ]
    }
   ],
   "source": [
    "print(Counter(y_train))\n",
    "print(Counter(y_val))\n",
    "print(Counter(y_test))"
   ]
  },
  {
   "cell_type": "markdown",
   "id": "2963b68d",
   "metadata": {},
   "source": [
    "# Model training"
   ]
  },
  {
   "cell_type": "code",
   "execution_count": 53,
   "id": "f1bd7ebc",
   "metadata": {},
   "outputs": [],
   "source": [
    "arg = {'n_estimators': 1000,\n",
    "       'num_class':2,\n",
    "       'objective':'multi:softprob'}\n",
    "cls = xgboost.XGBClassifier(**arg).fit(X_train,\n",
    "                                       y_train,\n",
    "                                       early_stopping_rounds=5,\n",
    "                                       eval_set=[(X_train, y_train), (X_val, y_val)],\n",
    "                                       eval_metric=['merror','mlogloss'],\n",
    "                                       verbose=0)"
   ]
  },
  {
   "cell_type": "code",
   "execution_count": 54,
   "id": "49628680",
   "metadata": {},
   "outputs": [
    {
     "data": {
      "image/png": "[encoded data removed]",
      "text/plain": [
       "<Figure size 1440x360 with 2 Axes>"
      ]
     },
     "metadata": {
      "needs_background": "light"
     },
     "output_type": "display_data"
    }
   ],
   "source": [
    "# Training metrics\n",
    "results = cls.evals_result()\n",
    "epochs = len(results['validation_0']['mlogloss'])\n",
    "x_axis = range(0, epochs)\n",
    "\n",
    "# Plot log loss\n",
    "fig, (ax1, ax2) = plt.subplots(1, 2, figsize=(20,5))\n",
    "ax1.plot(x_axis, results['validation_0']['mlogloss'], label='Train')\n",
    "ax1.plot(x_axis, results['validation_1']['mlogloss'], label='Val')\n",
    "ax1.legend(fontsize=15)\n",
    "ax1.set_xlabel('epoch', fontsize=15)\n",
    "ax1.set_ylabel('Log Loss', fontsize=15)\n",
    "\n",
    "# Plot classification error\n",
    "ax2.plot(x_axis, [1-x for x in results['validation_0']['merror']], label='Train')\n",
    "ax2.plot(x_axis, [1-x for x in results['validation_1']['merror']], label='Val')\n",
    "ax2.legend(fontsize=15)\n",
    "ax2.set_xlabel('epoch', fontsize=15)\n",
    "ax2.set_ylabel('Accuracy', fontsize=15)\n",
    "\n",
    "plt.tight_layout()"
   ]
  },
  {
   "cell_type": "markdown",
   "id": "c24af9ec",
   "metadata": {},
   "source": [
    "# Evaluation"
   ]
  },
  {
   "cell_type": "code",
   "execution_count": 55,
   "id": "9eb1bcb3",
   "metadata": {},
   "outputs": [],
   "source": [
    "pred = cls.predict(X_test)"
   ]
  },
  {
   "cell_type": "code",
   "execution_count": 56,
   "id": "e0b402d5",
   "metadata": {},
   "outputs": [
    {
     "name": "stdout",
     "output_type": "stream",
     "text": [
      "              precision    recall  f1-score   support\n",
      "\n",
      "    no fraud       0.91      0.97      0.94       749\n",
      "       fraud       0.97      0.91      0.94       751\n",
      "\n",
      "    accuracy                           0.94      1500\n",
      "   macro avg       0.94      0.94      0.94      1500\n",
      "weighted avg       0.94      0.94      0.94      1500\n",
      "\n"
     ]
    }
   ],
   "source": [
    "print(classification_report(y_test, pred, target_names=labels))"
   ]
  },
  {
   "cell_type": "code",
   "execution_count": 57,
   "id": "e9a8b321",
   "metadata": {},
   "outputs": [
    {
     "data": {
      "image/png": "[encoded data removed]",
      "text/plain": [
       "<Figure size 720x576 with 2 Axes>"
      ]
     },
     "metadata": {
      "needs_background": "light"
     },
     "output_type": "display_data"
    }
   ],
   "source": [
    "cm = confusion_matrix(y_test, pred)\n",
    "confusion = pd.DataFrame(cm,columns=labels, index=labels)\n",
    "confusion.index.name='Actual'\n",
    "confusion.columns.name='Predicted'\n",
    "\n",
    "plt.figure(figsize=(10,8))\n",
    "sns.heatmap(confusion, annot=True, cmap='Blues')\n",
    "plt.title(f'Test accuracy = {round(accuracy_score(y_test, pred),3)}')\n",
    "plt.show()"
   ]
  }
 ],
 "metadata": {
  "kernelspec": {
   "display_name": "python3.7",
   "language": "python",
   "name": "python3"
  },
  "language_info": {
   "codemirror_mode": {
    "name": "ipython",
    "version": 3
   },
   "file_extension": ".py",
   "mimetype": "text/x-python",
   "name": "python",
   "nbconvert_exporter": "python",
   "pygments_lexer": "ipython3",
   "version": "3.7.10"
  }
 },
 "nbformat": 4,
 "nbformat_minor": 5
}

{
 "cells": [
  {
   "cell_type": "code",
   "execution_count": 1,
   "id": "f3ee5a79",
   "metadata": {},
   "outputs": [],
   "source": [
    "import numpy as np\n",
    "import tensorflow as tf\n",
    "import os\n",
    "from tqdm import tqdm\n",
    "\n",
    "model_dir = './'\n",
    "model_name = 'aaa'\n",
    "\n",
    "model = tf.keras.models.load_model(os.path.join(model_dir, f'{model_name}.h5'))\n",
    "\n",
    "def representative_dataset():\n",
    "    data = np.load(open('data.npy', 'rb'))\n",
    "    np.random.shuffle(data)\n",
    "    for idx in tqdm(range(2500)):\n",
    "        img = np.expand_dims(data[idx,:,:], axis=0)\n",
    "        yield [img.astype(np.float32)]"
   ]
  },
  {
   "cell_type": "markdown",
   "id": "a49edebd",
   "metadata": {},
   "source": [
    "# Keras to float 32 tflite"
   ]
  },
  {
   "cell_type": "code",
   "execution_count": 2,
   "id": "9d041aac",
   "metadata": {},
   "outputs": [
    {
     "name": "stdout",
     "output_type": "stream",
     "text": [
      "INFO:tensorflow:Assets written to: C:\\Users\\ANTONI~1\\AppData\\Local\\Temp\\tmpu4r9_xho\\assets\n"
     ]
    },
    {
     "data": {
      "text/plain": [
       "95014508"
      ]
     },
     "execution_count": 2,
     "metadata": {},
     "output_type": "execute_result"
    }
   ],
   "source": [
    "converter = tf.lite.TFLiteConverter.from_keras_model(model)\n",
    "tflmodel = converter.convert()\n",
    "open(os.path.join(model_dir, f'{model_name}_float32.tflite'), 'wb').write(tflmodel)"
   ]
  },
  {
   "cell_type": "markdown",
   "id": "93c438c0",
   "metadata": {},
   "source": [
    "# Keras to float 16 tflite"
   ]
  },
  {
   "cell_type": "code",
   "execution_count": 3,
   "id": "d9c7c524",
   "metadata": {},
   "outputs": [
    {
     "name": "stdout",
     "output_type": "stream",
     "text": [
      "INFO:tensorflow:Assets written to: C:\\Users\\ANTONI~1\\AppData\\Local\\Temp\\tmp2s3eib_4\\assets\n"
     ]
    },
    {
     "name": "stderr",
     "output_type": "stream",
     "text": [
      "INFO:tensorflow:Assets written to: C:\\Users\\ANTONI~1\\AppData\\Local\\Temp\\tmp2s3eib_4\\assets\n"
     ]
    },
    {
     "data": {
      "text/plain": [
       "47546664"
      ]
     },
     "execution_count": 3,
     "metadata": {},
     "output_type": "execute_result"
    }
   ],
   "source": [
    "converter = tf.lite.TFLiteConverter.from_keras_model(model)\n",
    "converter.optimizations = [tf.lite.Optimize.DEFAULT]\n",
    "converter.target_spec.supported_types = [tf.float16]\n",
    "tflmodel = converter.convert()\n",
    "\n",
    "open(os.path.join(model_dir, f'{model_name}_float16.tflite'), 'wb').write(tflmodel)"
   ]
  },
  {
   "cell_type": "markdown",
   "id": "28300c67",
   "metadata": {},
   "source": [
    "# Keras to mix float 16 int 8 tflite"
   ]
  },
  {
   "cell_type": "code",
   "execution_count": 8,
   "id": "8ae0b950",
   "metadata": {},
   "outputs": [
    {
     "name": "stdout",
     "output_type": "stream",
     "text": [
      "INFO:tensorflow:Assets written to: C:\\Users\\ANTONI~1\\AppData\\Local\\Temp\\tmpli0iddkl\\assets\n"
     ]
    },
    {
     "name": "stderr",
     "output_type": "stream",
     "text": [
      "INFO:tensorflow:Assets written to: C:\\Users\\ANTONI~1\\AppData\\Local\\Temp\\tmpli0iddkl\\assets\n",
      "100%|██████████████████████████████████████████████████████████████████████████████| 2500/2500 [28:48<00:00,  1.45it/s]\n",
      "100%|██████████████████████████████████████████████████████████████████████████████| 2500/2500 [28:56<00:00,  1.44it/s]\n"
     ]
    },
    {
     "data": {
      "text/plain": [
       "24827296"
      ]
     },
     "execution_count": 8,
     "metadata": {},
     "output_type": "execute_result"
    }
   ],
   "source": [
    "converter = tf.lite.TFLiteConverter.from_keras_model(model)\n",
    "converter.representative_dataset = representative_dataset\n",
    "converter.optimizations = [tf.lite.Optimize.DEFAULT]\n",
    "converter.target_spec.supported_ops = [tf.lite.OpsSet.EXPERIMENTAL_TFLITE_BUILTINS_ACTIVATIONS_INT16_WEIGHTS_INT8]\n",
    "tflmodel = converter.convert()\n",
    "\n",
    "open(os.path.join(model_dir, f'{model_name}_float16_int8.tflite'), 'wb').write(tflmodel)"
   ]
  },
  {
   "cell_type": "markdown",
   "id": "10b2acf4",
   "metadata": {},
   "source": [
    "# Keras to float fallback tflite"
   ]
  },
  {
   "cell_type": "code",
   "execution_count": 7,
   "id": "11b146f8",
   "metadata": {},
   "outputs": [
    {
     "name": "stdout",
     "output_type": "stream",
     "text": [
      "INFO:tensorflow:Assets written to: C:\\Users\\ANTONI~1\\AppData\\Local\\Temp\\tmplp7itb02\\assets\n"
     ]
    },
    {
     "name": "stderr",
     "output_type": "stream",
     "text": [
      "INFO:tensorflow:Assets written to: C:\\Users\\ANTONI~1\\AppData\\Local\\Temp\\tmplp7itb02\\assets\n",
      "100%|██████████████████████████████████████████████████████████████████████████████| 2500/2500 [29:09<00:00,  1.43it/s]\n"
     ]
    },
    {
     "data": {
      "text/plain": [
       "24505896"
      ]
     },
     "execution_count": 7,
     "metadata": {},
     "output_type": "execute_result"
    }
   ],
   "source": [
    "converter = tf.lite.TFLiteConverter.from_keras_model(model)\n",
    "converter.representative_dataset = representative_dataset\n",
    "converter.optimizations = [tf.lite.Optimize.DEFAULT]\n",
    "tflmodel = converter.convert()\n",
    "\n",
    "open(os.path.join(model_dir, f'{model_name}_float_fallback.tflite'), 'wb').write(tflmodel)"
   ]
  },
  {
   "cell_type": "markdown",
   "id": "6127d8b4",
   "metadata": {},
   "source": [
    "# Keras to dynamic range tflite"
   ]
  },
  {
   "cell_type": "code",
   "execution_count": 3,
   "id": "1198a0fa",
   "metadata": {},
   "outputs": [
    {
     "name": "stdout",
     "output_type": "stream",
     "text": [
      "INFO:tensorflow:Assets written to: C:\\Users\\ANTONI~1\\AppData\\Local\\Temp\\tmprm71up14\\assets\n"
     ]
    },
    {
     "name": "stderr",
     "output_type": "stream",
     "text": [
      "INFO:tensorflow:Assets written to: C:\\Users\\ANTONI~1\\AppData\\Local\\Temp\\tmprm71up14\\assets\n"
     ]
    },
    {
     "data": {
      "text/plain": [
       "24396552"
      ]
     },
     "execution_count": 3,
     "metadata": {},
     "output_type": "execute_result"
    }
   ],
   "source": [
    "converter = tf.lite.TFLiteConverter.from_keras_model(model)\n",
    "converter.optimizations = [tf.lite.Optimize.DEFAULT]\n",
    "tflmodel = converter.convert()\n",
    "\n",
    "open(os.path.join(model_dir, f'{model_name}_dynamic_range.tflite'), 'wb').write(tflmodel)"
   ]
  },
  {
   "cell_type": "markdown",
   "id": "9c17b015",
   "metadata": {},
   "source": [
    "# Keras to int8 tflite"
   ]
  },
  {
   "cell_type": "code",
   "execution_count": 6,
   "id": "b471c263",
   "metadata": {},
   "outputs": [
    {
     "name": "stdout",
     "output_type": "stream",
     "text": [
      "INFO:tensorflow:Assets written to: C:\\Users\\ANTONI~1\\AppData\\Local\\Temp\\tmpv9wxehfe\\assets\n"
     ]
    },
    {
     "name": "stderr",
     "output_type": "stream",
     "text": [
      "INFO:tensorflow:Assets written to: C:\\Users\\ANTONI~1\\AppData\\Local\\Temp\\tmpv9wxehfe\\assets\n",
      "100%|██████████████████████████████████████████████████████████████████████████████| 2500/2500 [28:51<00:00,  1.44it/s]\n"
     ]
    },
    {
     "data": {
      "text/plain": [
       "24505568"
      ]
     },
     "execution_count": 6,
     "metadata": {},
     "output_type": "execute_result"
    }
   ],
   "source": [
    "converter = tf.lite.TFLiteConverter.from_keras_model(model)\n",
    "converter.representative_dataset = representative_dataset\n",
    "converter.optimizations = [tf.lite.Optimize.DEFAULT]\n",
    "converter.target_spec.supported_ops = [tf.lite.OpsSet.TFLITE_BUILTINS_INT8]\n",
    "converter.inference_input_type = tf.int8  # or tf.uint8\n",
    "converter.inference_output_type = tf.int8  # or tf.uint8\n",
    "tflmodel = converter.convert()\n",
    "\n",
    "open(os.path.join(model_dir, f'{model_name}_int8.tflite'), 'wb').write(tflmodel)"
   ]
  }
 ],
 "metadata": {
  "kernelspec": {
   "display_name": "Python 3 (ipykernel)",
   "language": "python",
   "name": "python3"
  },
  "language_info": {
   "codemirror_mode": {
    "name": "ipython",
    "version": 3
   },
   "file_extension": ".py",
   "mimetype": "text/x-python",
   "name": "python",
   "nbconvert_exporter": "python",
   "pygments_lexer": "ipython3",
   "version": "3.7.10"
  }
 },
 "nbformat": 4,
 "nbformat_minor": 5
}

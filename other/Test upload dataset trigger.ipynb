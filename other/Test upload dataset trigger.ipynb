{
 "cells": [
  {
   "cell_type": "code",
   "execution_count": 44,
   "metadata": {
    "tags": []
   },
   "outputs": [],
   "source": [
    "try:\n",
    "    import joblib\n",
    "except ImportError:\n",
    "    from sklearn.externals import joblib\n",
    "\n",
    "import os\n",
    "import json\n",
    "from sklearn.linear_model import LogisticRegression\n",
    "from sklearn.model_selection import train_test_split\n",
    "\n",
    "import numpy as np\n",
    "import matplotlib.pyplot as plt\n",
    "import pandas as pd\n",
    "\n",
    "from clearml import Dataset"
   ]
  },
  {
   "cell_type": "code",
   "execution_count": 46,
   "metadata": {
    "tags": []
   },
   "outputs": [
    {
     "name": "stdout",
     "output_type": "stream",
     "text": [
      "ClearML results page: https://app.clear.ml/projects/e1117a9d504e43e18c46484d764e4deb/experiments/1689377d34db41bdacf841d811037410/output/log\n",
      "ClearML dataset page: https://app.clear.ml/datasets/simple/e1117a9d504e43e18c46484d764e4deb/experiments/1689377d34db41bdacf841d811037410\n",
      "Pending uploads, starting dataset upload to https://files.clear.ml\n",
      "Uploading dataset changes (1 files compressed to 21.57 KiB) to https://files.clear.ml\n",
      "File compression and upload completed: total size 21.57 KiB, 1 chunk(s) stored (average size 21.57 KiB)\n",
      "Updating statistics and genealogy\n"
     ]
    },
    {
     "data": {
      "text/plain": [
       "True"
      ]
     },
     "execution_count": 46,
     "metadata": {},
     "output_type": "execute_result"
    }
   ],
   "source": [
    "dataset = Dataset.create(dataset_name=\"Titanic dataset same\",\n",
    "                         dataset_project=\"Titanic test\",\n",
    "                         dataset_tags=[\"initial\", \"titanic\", \"train\", \"for_trigger\"],\n",
    "                         dataset_version=\"1.0.0\",\n",
    "                         description=\"Initial titanic dataset for demo\",\n",
    "                         parent_datasets = None,\n",
    "                         use_current_task=False,\n",
    "                         output_uri=None)\n",
    "dataset.add_files(path=\"./data/train.csv\")\n",
    "dataset.finalize(verbose=True, auto_upload=True)"
   ]
  },
  {
   "cell_type": "code",
   "execution_count": null,
   "metadata": {},
   "outputs": [],
   "source": []
  }
 ],
 "metadata": {
  "kernelspec": {
   "display_name": "python3.7",
   "language": "python",
   "name": "python3"
  },
  "language_info": {
   "codemirror_mode": {
    "name": "ipython",
    "version": 3
   },
   "file_extension": ".py",
   "mimetype": "text/x-python",
   "name": "python",
   "nbconvert_exporter": "python",
   "pygments_lexer": "ipython3",
   "version": "3.7.10"
  }
 },
 "nbformat": 4,
 "nbformat_minor": 4
}

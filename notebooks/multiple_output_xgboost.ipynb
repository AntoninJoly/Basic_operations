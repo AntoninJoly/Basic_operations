{
 "cells": [
  {
   "cell_type": "code",
   "execution_count": 1,
   "metadata": {},
   "outputs": [],
   "source": [
    "import numpy as np\n",
    "import os\n",
    "import pandas as pd\n",
    "import xgboost as xgb\n",
    "import matplotlib.pyplot as plt\n",
    "import warnings\n",
    "warnings.filterwarnings('always')\n",
    "\n",
    "from sklearn.metrics import mean_absolute_error, classification_report\n",
    "from sklearn.model_selection import train_test_split\n",
    "from sklearn.multioutput import MultiOutputRegressor, MultiOutputClassifier\n",
    "from sklearn.datasets import make_multilabel_classification, make_regression\n",
    "\n",
    "from sklearn.utils.validation import _check_fit_params\n",
    "from sklearn.base import is_classifier\n",
    "from sklearn.utils.fixes import delayed\n",
    "from joblib import Parallel\n",
    "from sklearn.multioutput import _fit_estimator, check_classification_targets"
   ]
  },
  {
   "cell_type": "code",
   "execution_count": 2,
   "metadata": {},
   "outputs": [],
   "source": [
    "class CustomMultiOutputRegressor(MultiOutputRegressor):\n",
    "    def fit(self, X, y, sample_weight=None, **fit_params):\n",
    "        if not hasattr(self.estimator, \"fit\"):\n",
    "            raise ValueError(\"The base estimator should implement a fit method\")\n",
    "        X, y = self._validate_data(X, y, force_all_finite=False, multi_output=True, accept_sparse=True)\n",
    "        if is_classifier(self):\n",
    "            check_classification_targets(y)\n",
    "        if y.ndim == 1:\n",
    "            raise ValueError(\"y must have at least two dimensions for multi-output regression but has only one.\")\n",
    "        if (sample_weight is not None and not has_fit_parameter(self.estimator, 'sample_weight')):\n",
    "            raise ValueError(\"Underlying estimator does not support sample weights.\")\n",
    "        \n",
    "        fit_params_validated = _check_fit_params(X, fit_params)\n",
    "        [(X_train, Y_train), (X_test, Y_test)] = fit_params_validated.pop('eval_set')\n",
    "        \n",
    "        self.estimators_ = Parallel(n_jobs=self.n_jobs)(delayed(_fit_estimator)(self.estimator,\n",
    "                                                                                X,\n",
    "                                                                                y[:, i],\n",
    "                                                                                sample_weight,\n",
    "                                                                                **fit_params_validated,\n",
    "                                                                                eval_set=[(X_train, Y_train[:, i]),\n",
    "                                                                                          (X_test, Y_test[:, i])])\n",
    "                                                        for i in range(y.shape[1]))\n",
    "        return self"
   ]
  },
  {
   "cell_type": "markdown",
   "metadata": {},
   "source": [
    "# Regression model"
   ]
  },
  {
   "cell_type": "code",
   "execution_count": 3,
   "metadata": {},
   "outputs": [
    {
     "name": "stdout",
     "output_type": "stream",
     "text": [
      "(5625, 50) (5625, 50) (3750, 50) (5625, 10) (5625, 10) (3750, 10)\n"
     ]
    }
   ],
   "source": [
    "data, label = make_regression(n_samples=15000, n_features=50, n_targets=10, random_state=0)\n",
    "\n",
    "X, X_test, y, y_test = train_test_split(data, label, test_size=0.25, random_state=0)\n",
    "X_train, X_val, y_train, y_val = train_test_split(X, y, test_size=0.5, random_state=0)\n",
    "\n",
    "print(X_train.shape, X_val.shape, X_test.shape, y_train.shape, y_val.shape, y_test.shape)"
   ]
  },
  {
   "cell_type": "code",
   "execution_count": 4,
   "metadata": {},
   "outputs": [],
   "source": [
    "params = {'eta': 0.3, \n",
    "          'max_depth': 5,  \n",
    "          'objective': 'reg:squarederror',  \n",
    "          'learning_rate':0.01,\n",
    "          'n_estimators': 1000}\n",
    "\n",
    "reg = CustomMultiOutputRegressor(xgb.XGBRegressor(**params)).fit(X_train,\n",
    "                                                                 y_train,\n",
    "                                                                 early_stopping_rounds = 5,\n",
    "                                                                 eval_metric = ['rmse'],\n",
    "                                                                 eval_set = [(X_train, y_train), (X_val, y_val)],\n",
    "                                                                 verbose = False)"
   ]
  },
  {
   "cell_type": "markdown",
   "metadata": {},
   "source": [
    "# Classification model"
   ]
  },
  {
   "cell_type": "code",
   "execution_count": 5,
   "metadata": {},
   "outputs": [],
   "source": [
    "class CustomMultiOutputClassifier(MultiOutputClassifier):\n",
    "    def fit(self, X, y, sample_weight=None, **fit_params):\n",
    "        if not hasattr(self.estimator, \"fit\"):\n",
    "            raise ValueError(\"The base estimator should implement a fit method\")\n",
    "        X, y = self._validate_data(X, y, force_all_finite=False, multi_output=True, accept_sparse=True)\n",
    "        if is_classifier(self):\n",
    "            check_classification_targets(y)\n",
    "        if y.ndim == 1:\n",
    "            raise ValueError(\"y must have at least two dimensions for multi-output regression but has only one.\")\n",
    "        if (sample_weight is not None and not has_fit_parameter(self.estimator, 'sample_weight')):\n",
    "            raise ValueError(\"Underlying estimator does not support sample weights.\")\n",
    "        \n",
    "        fit_params_validated = _check_fit_params(X, fit_params)\n",
    "        [(X_train, Y_train), (X_test, Y_test)] = fit_params_validated.pop('eval_set')\n",
    "        \n",
    "        self.estimators_ = Parallel(n_jobs=self.n_jobs)(delayed(_fit_estimator)(self.estimator,\n",
    "                                                                                X,\n",
    "                                                                                y[:, i],\n",
    "                                                                                sample_weight,\n",
    "                                                                                **fit_params_validated,\n",
    "                                                                                eval_set=[(X_train, Y_train[:, i]),\n",
    "                                                                                          (X_test, Y_test[:, i])])\n",
    "                                                        for i in range(y.shape[1]))\n",
    "        return self"
   ]
  },
  {
   "cell_type": "code",
   "execution_count": 6,
   "metadata": {},
   "outputs": [
    {
     "name": "stdout",
     "output_type": "stream",
     "text": [
      "(5625, 50) (5625, 50) (3750, 50) (5625, 10) (5625, 10) (3750, 10)\n"
     ]
    }
   ],
   "source": [
    "data, label = make_multilabel_classification(n_samples=15000, n_features=50, n_classes=10, n_labels=1, random_state=0)\n",
    "\n",
    "X, X_test, y, y_test = train_test_split(data, label, test_size=0.25, random_state=0)\n",
    "X_train, X_val, y_train, y_val = train_test_split(X, y, test_size=0.5, random_state=0)\n",
    "\n",
    "print(X_train.shape, X_val.shape, X_test.shape, y_train.shape, y_val.shape, y_test.shape)"
   ]
  },
  {
   "cell_type": "code",
   "execution_count": 7,
   "metadata": {},
   "outputs": [],
   "source": [
    "params = {'eta': 0.3, \n",
    "          'max_depth': 5,  \n",
    "          'objective': 'multi:softmax',\n",
    "          'num_class': 2,\n",
    "          'learning_rate':0.01,\n",
    "          'use_label_encoder':False,\n",
    "          'n_estimators': 1000}\n",
    "\n",
    "cls = CustomMultiOutputClassifier(xgb.XGBClassifier(**params)).fit(X_train,\n",
    "                                                                   y_train,\n",
    "                                                                   early_stopping_rounds = 5,\n",
    "                                                                   eval_metric = ['merror','mlogloss'],\n",
    "                                                                   eval_set = [(X_train, y_train), (X_val, y_val)],\n",
    "                                                                   verbose = False)"
   ]
  }
 ],
 "metadata": {
  "kernelspec": {
   "display_name": "Python 3 (ipykernel)",
   "language": "python",
   "name": "python3"
  },
  "language_info": {
   "codemirror_mode": {
    "name": "ipython",
    "version": 3
   },
   "file_extension": ".py",
   "mimetype": "text/x-python",
   "name": "python",
   "nbconvert_exporter": "python",
   "pygments_lexer": "ipython3",
   "version": "3.7.10"
  }
 },
 "nbformat": 4,
 "nbformat_minor": 2
}

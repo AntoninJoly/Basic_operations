{
 "cells": [
  {
   "cell_type": "code",
   "execution_count": 1,
   "id": "c3020715",
   "metadata": {},
   "outputs": [],
   "source": [
    "import sys\n",
    "import os\n",
    "\n",
    "dir_data = ''"
   ]
  },
  {
   "cell_type": "markdown",
   "id": "b4527eea",
   "metadata": {},
   "source": [
    "# All files in subfolder"
   ]
  },
  {
   "cell_type": "code",
   "execution_count": 2,
   "id": "21c74bcd",
   "metadata": {},
   "outputs": [
    {
     "name": "stderr",
     "output_type": "stream",
     "text": [
      "1it [00:00, 68.14it/s]\n",
      "1it [00:00, 264.91it/s]\n"
     ]
    }
   ],
   "source": [
    "list_path = []\n",
    "accepted = ['.jpeg','.png']\n",
    "\n",
    "for root, dirs, files in tqdm(os.walk(dir_data)):\n",
    "    for file in files:\n",
    "        if os.path.splitext(file)[1].lower() in accepted:\n",
    "            list_path.append(os.path.join(root, file))"
   ]
  }
 ],
 "metadata": {
  "kernelspec": {
   "display_name": "Python 3 (ipykernel)",
   "language": "python",
   "name": "python3"
  },
  "language_info": {
   "codemirror_mode": {
    "name": "ipython",
    "version": 3
   },
   "file_extension": ".py",
   "mimetype": "text/x-python",
   "name": "python",
   "nbconvert_exporter": "python",
   "pygments_lexer": "ipython3",
   "version": "3.7.10"
  },
  "neptune": {
   "notebookId": "96112da3-0481-413b-8ac7-d846a66f610f",
   "projectVersion": 2
  }
 },
 "nbformat": 4,
 "nbformat_minor": 5
}

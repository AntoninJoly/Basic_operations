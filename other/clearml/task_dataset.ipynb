{
 "cells": [
  {
   "cell_type": "code",
   "execution_count": 1,
   "metadata": {},
   "outputs": [],
   "source": [
    "from pathlib import Path\n",
    "import os\n",
    "from clearml import Dataset\n",
    "import pandas as pd"
   ]
  },
  {
   "cell_type": "markdown",
   "metadata": {},
   "source": [
    "# ClearML Dataset management"
   ]
  },
  {
   "cell_type": "markdown",
   "metadata": {},
   "source": [
    "ClearML Data addresses 2 challenges:\n",
    "\n",
    "- Accessibility: Making data easily accessible to remote workers\n",
    "- Versioning: Linking data and experiments for better traceability"
   ]
  },
  {
   "cell_type": "markdown",
   "metadata": {},
   "source": [
    "## Dataset Creation"
   ]
  },
  {
   "cell_type": "markdown",
   "metadata": {},
   "source": [
    "ClearML Data can be used to create, manage, and version datasets. \n",
    "- Files can be stored in any storage locationby setting the \"output_uri\" parameter when creating a dataset. Values are None for default server or string for location (eg. \"s3://...\").\n",
    "- \"use_current_task\" parameter controls whether a new task will be created for this dataset or use the current one.\n",
    "- \"parent_datasets\" parameter is used to create child datasets that will inherit all the data from their parent datasets. Order matters.\n",
    "\n",
    "For more info check the [Dataset.create sdk documentation](https://clear.ml/docs/latest/docs/references/sdk/dataset/#datasetcreate)."
   ]
  },
  {
   "cell_type": "code",
   "execution_count": 3,
   "metadata": {},
   "outputs": [
    {
     "name": "stdout",
     "output_type": "stream",
     "text": [
      "ClearML results page: https://app.clear.ml/projects/309da6ce04c04b218a3f23c5f98655a5/experiments/7f1d845299254435bac433f498c3837f/output/log\n",
      "ClearML dataset page: https://app.clear.ml/datasets/simple/309da6ce04c04b218a3f23c5f98655a5/experiments/7f1d845299254435bac433f498c3837f\n"
     ]
    }
   ],
   "source": [
    "dataset = Dataset.create(dataset_name=\"toy dataset\",\n",
    "                  dataset_project=\"ClearmlStudySessions\",\n",
    "                  dataset_tags=[\"initial\", \"toy\", \"train\"],\n",
    "                  dataset_version=\"1.0.0\",\n",
    "                  description=\"Initial toy dataset for demo\",\n",
    "                  parent_datasets = None,\n",
    "                  use_current_task=False,\n",
    "                  output_uri=None)"
   ]
  },
  {
   "cell_type": "markdown",
   "metadata": {},
   "source": [
    "## Adding files"
   ]
  },
  {
   "cell_type": "markdown",
   "metadata": {},
   "source": [
    "Add files to dataset using the add_files and add_external_files methods.\n",
    "- add_files: accepts path to folder or file, along with option \"wildcard\" and \"recursive\" argument to finetune selection, and other parameters. If a file is already in the dataset but has been modified, adding it again will only store the difference and bump the version number of the dataset.\n",
    "- add_external_files: accepts \"source_url\" parameter which is string or list of string to remote files, adding just the link to them in the dataset, as well as a \"dataset_path\" parameter to set in what folder those external files will be put inside the dataset when downloaded, and a \"wildcard\" parameter\n",
    "\n",
    "For more details, check the [Dataset documentation](https://clear.ml/docs/latest/docs/clearml_data/clearml_data_sdk)"
   ]
  },
  {
   "cell_type": "code",
   "execution_count": 4,
   "metadata": {},
   "outputs": [
    {
     "name": "stdout",
     "output_type": "stream",
     "text": [
      "Generating SHA2 hash for 3 files\n"
     ]
    },
    {
     "name": "stderr",
     "output_type": "stream",
     "text": [
      "100%|██████████████████████████████████████████████████████████████████████████████████| 3/3 [00:00<00:00, 1460.58it/s]\n"
     ]
    },
    {
     "name": "stdout",
     "output_type": "stream",
     "text": [
      "Hash generation completed\n"
     ]
    },
    {
     "data": {
      "text/plain": [
       "3"
      ]
     },
     "execution_count": 4,
     "metadata": {},
     "output_type": "execute_result"
    }
   ],
   "source": [
    "dataset.add_files(path=\"./data/\",\n",
    "                  wildcard=\"*.jpg\",)"
   ]
  },
  {
   "cell_type": "code",
   "execution_count": 5,
   "metadata": {},
   "outputs": [
    {
     "data": {
      "text/plain": [
       "1"
      ]
     },
     "execution_count": 5,
     "metadata": {},
     "output_type": "execute_result"
    }
   ],
   "source": [
    "dataset.add_files(path=\"./data/train.csv\")"
   ]
  },
  {
   "cell_type": "code",
   "execution_count": 6,
   "metadata": {},
   "outputs": [
    {
     "data": {
      "text/plain": [
       "2"
      ]
     },
     "execution_count": 6,
     "metadata": {},
     "output_type": "execute_result"
    }
   ],
   "source": [
    "dataset.add_external_files(source_url=[\n",
    "    \"https://test-videos.co.uk/vids/bigbuckbunny/mp4/h264/720/Big_Buck_Bunny_720_10s_1MB.mp4\",\n",
    "    \"https://www2.cs.uic.edu/~i101/SoundFiles/PinkPanther30.wav\"],\n",
    "                           dataset_path=\"external/\")"
   ]
  },
  {
   "cell_type": "markdown",
   "metadata": {},
   "source": [
    "## Upload files"
   ]
  },
  {
   "cell_type": "markdown",
   "metadata": {},
   "source": [
    "Using add_files or add_external_files only adds the tracking logic for the files. They are not uploaded yet.\n",
    "\n",
    "To do so, use the upload method."
   ]
  },
  {
   "cell_type": "code",
   "execution_count": 7,
   "metadata": {},
   "outputs": [
    {
     "name": "stdout",
     "output_type": "stream",
     "text": [
      "Compressing C:/Users/Antonin_Joly/Desktop/data/sample1.jpg\n",
      "Compressing C:/Users/Antonin_Joly/Desktop/data/sample2.jpg\n",
      "Compressing C:/Users/Antonin_Joly/Desktop/data/sample3.jpg\n",
      "Compressing C:/Users/Antonin_Joly/Desktop/data/train.csv\n",
      "Uploading dataset changes (4 files compressed to 1.5 MiB) to https://files.clear.ml\n",
      "File compression and upload completed: total size 1.5 MiB, 1 chunk(s) stored (average size 1.5 MiB)\n"
     ]
    }
   ],
   "source": [
    "dataset.upload(show_progress=True,\n",
    "               verbose=True)"
   ]
  },
  {
   "cell_type": "markdown",
   "metadata": {},
   "source": [
    "## Finalize dataset"
   ]
  },
  {
   "cell_type": "markdown",
   "metadata": {},
   "source": [
    "The dataset is still not considered as done, and we can still add, modify or remove files.\n",
    "\n",
    "To mark a dataset as done or complete, we need to finalize it using the finalize method. This will mark the task as complete, and from there on, the dataset can no longer be modified."
   ]
  },
  {
   "cell_type": "code",
   "execution_count": 8,
   "metadata": {},
   "outputs": [
    {
     "name": "stdout",
     "output_type": "stream",
     "text": [
      "Updating statistics and genealogy\n"
     ]
    },
    {
     "data": {
      "text/plain": [
       "True"
      ]
     },
     "execution_count": 8,
     "metadata": {},
     "output_type": "execute_result"
    }
   ],
   "source": [
    "dataset.finalize(verbose=True,\n",
    "                 auto_upload=False #if you set it to true, you can skip the previous upload call\n",
    "                 )"
   ]
  },
  {
   "cell_type": "markdown",
   "metadata": {},
   "source": [
    "## Downloading and using a dataset"
   ]
  },
  {
   "cell_type": "markdown",
   "metadata": {},
   "source": [
    "Use the get method to get a Dataset object. You can query by dataset id, dataset name, project name, ... \n",
    "\n",
    "If multiple datasets match the query, the most recent one is returned.\n",
    "\n",
    "\n",
    "Then use the get_local_copy method to download an immutable cached version of the dataset, or use get_mutable_local_copy to download a mutable copy of the dataset to a specific folder to modify the dataset."
   ]
  },
  {
   "cell_type": "markdown",
   "metadata": {},
   "source": [
    "### Immutable dataset"
   ]
  },
  {
   "cell_type": "code",
   "execution_count": 9,
   "metadata": {},
   "outputs": [],
   "source": [
    "toy_dataset = Dataset.get(dataset_project=\"ClearmlStudySessions\",\n",
    "                          dataset_name=\"toy dataset\")"
   ]
  },
  {
   "cell_type": "code",
   "execution_count": 10,
   "metadata": {},
   "outputs": [
    {
     "data": {
      "text/plain": [
       "'7f1d845299254435bac433f498c3837f'"
      ]
     },
     "execution_count": 10,
     "metadata": {},
     "output_type": "execute_result"
    }
   ],
   "source": [
    "toy_dataset.id"
   ]
  },
  {
   "cell_type": "code",
   "execution_count": 11,
   "metadata": {},
   "outputs": [],
   "source": [
    "path_to_immutable_dataset = toy_dataset.get_local_copy()"
   ]
  },
  {
   "cell_type": "markdown",
   "metadata": {},
   "source": [
    "Once downloaded, the dataset is cached, and any subsequent downloads will instead use this cached version"
   ]
  },
  {
   "cell_type": "code",
   "execution_count": 12,
   "metadata": {},
   "outputs": [
    {
     "name": "stdout",
     "output_type": "stream",
     "text": [
      "C:/Users/Antonin_Joly/.clearml/cache/storage_manager/datasets/ds_7f1d845299254435bac433f498c3837f\n"
     ]
    }
   ],
   "source": [
    "print(path_to_immutable_dataset)"
   ]
  },
  {
   "cell_type": "code",
   "execution_count": 13,
   "metadata": {},
   "outputs": [
    {
     "data": {
      "text/plain": [
       "['external', 'sample1.jpg', 'sample2.jpg', 'sample3.jpg', 'train.csv']"
      ]
     },
     "execution_count": 13,
     "metadata": {},
     "output_type": "execute_result"
    }
   ],
   "source": [
    "os.listdir(path_to_immutable_dataset)\n",
    "# Notice that the external links were download into the \"external\" folder as we specified when we added the links"
   ]
  },
  {
   "cell_type": "code",
   "execution_count": 14,
   "metadata": {},
   "outputs": [
    {
     "data": {
      "text/plain": [
       "['Big_Buck_Bunny_720_10s_1MB.mp4', 'PinkPanther30.wav']"
      ]
     },
     "execution_count": 14,
     "metadata": {},
     "output_type": "execute_result"
    }
   ],
   "source": [
    "os.listdir(path_to_immutable_dataset + \"/external\")"
   ]
  },
  {
   "cell_type": "markdown",
   "metadata": {},
   "source": [
    "### Mutable dataset"
   ]
  },
  {
   "cell_type": "code",
   "execution_count": 15,
   "metadata": {},
   "outputs": [],
   "source": [
    "path_to_mutable_dataset = Path(\"./mutable/\")"
   ]
  },
  {
   "cell_type": "code",
   "execution_count": 16,
   "metadata": {},
   "outputs": [
    {
     "data": {
      "text/plain": [
       "'C:/Users/Antonin_Joly/Desktop/mutable'"
      ]
     },
     "execution_count": 16,
     "metadata": {},
     "output_type": "execute_result"
    }
   ],
   "source": [
    "toy_dataset.get_mutable_local_copy(target_folder=str(path_to_mutable_dataset))"
   ]
  },
  {
   "cell_type": "markdown",
   "metadata": {},
   "source": [
    "## Remove files"
   ]
  },
  {
   "cell_type": "markdown",
   "metadata": {},
   "source": [
    "Remove files from the dataset using the remove_files method\n",
    "- remove_files: accepts a \"dataset_path\" argument which can be a wildcard to remove matching files from the dataset. The path must be relative to the dataset base folder."
   ]
  },
  {
   "cell_type": "markdown",
   "metadata": {},
   "source": [
    "If we try to remove a file from a finalized dataset, an error will be raised."
   ]
  },
  {
   "cell_type": "code",
   "execution_count": 17,
   "metadata": {},
   "outputs": [
    {
     "name": "stderr",
     "output_type": "stream",
     "text": [
      "Action failed <400/110: tasks.add_or_update_artifacts/v2.10 (Invalid task status: expected=created, status=completed)> (task=7f1d845299254435bac433f498c3837f, artifacts=[{'key': 'data', 'type': 'custom', 'uri': 'https://files.clear.ml/ClearmlStudySessions/.datasets/toy%20dataset/toy%20dataset.7f1d845299254435bac433f498c3837f/artifacts/data/dataset.7f1d845299254435bac433f498c3837f.et3b8xb5.zip', 'content_size': 1575112, 'hash': '6d1db636bc3832786c1eb7f447bc757c87913e4cc814ad8b13f935fc0b630b73', 'timestamp': 1683699843, 'type_data': {'preview': 'sample1.jpg - 703.37 KB\\ntrain.csv - 22.01 KB\\nsample3.jpg - 170.55 KB\\nsample2.jpg - 337.89 KB\\n', 'content_type': 'application/x-zip-compressed'}}, {'key': 'state', 'type': 'dict', 'uri': 'https://files.clear.ml/ClearmlStudySessions/.datasets/toy%20dataset/toy%20dataset.7f1d845299254435bac433f498c3837f/artifacts/state/state.json', 'content_size': 1727, 'hash': '98297c00f06ed5194fdee13b73b5cc942bb3151b6f20d2be294414e9eebd2706', 'timestamp': 1683700357, 'type_data': {'preview': 'Dataset state\\nFiles added/modified: 5 - total size 3.55 MB\\nCurrent dependency graph: {\\n  \"7f1d845299254435bac433f498c3837f\": []\\n}\\n', 'content_type': 'application/json'}, 'display_data': [('files added', '6'), ('files removed', '0'), ('files modified', '0')]}], force=True)\n"
     ]
    },
    {
     "data": {
      "text/plain": [
       "1"
      ]
     },
     "execution_count": 17,
     "metadata": {},
     "output_type": "execute_result"
    }
   ],
   "source": [
    "dataset.remove_files(dataset_path=\"sample3.jpg\")"
   ]
  },
  {
   "cell_type": "code",
   "execution_count": 18,
   "metadata": {},
   "outputs": [
    {
     "name": "stdout",
     "output_type": "stream",
     "text": [
      "ClearML results page: https://app.clear.ml/projects/309da6ce04c04b218a3f23c5f98655a5/experiments/b786f59e7f0648efb379d5c25b17b5df/output/log\n",
      "ClearML dataset page: https://app.clear.ml/datasets/simple/309da6ce04c04b218a3f23c5f98655a5/experiments/b786f59e7f0648efb379d5c25b17b5df\n"
     ]
    }
   ],
   "source": [
    "updated_dataset = Dataset.create(dataset_name=\"toy dataset\",\n",
    "                  dataset_project=\"ClearmlStudySessions\",\n",
    "                  parent_datasets=[toy_dataset],\n",
    "                  output_uri=None)"
   ]
  },
  {
   "cell_type": "code",
   "execution_count": 19,
   "metadata": {},
   "outputs": [
    {
     "data": {
      "text/plain": [
       "['external/Big_Buck_Bunny_720_10s_1MB.mp4',\n",
       " 'external/PinkPanther30.wav',\n",
       " 'sample1.jpg',\n",
       " 'sample2.jpg',\n",
       " 'sample3.jpg',\n",
       " 'train.csv']"
      ]
     },
     "execution_count": 19,
     "metadata": {},
     "output_type": "execute_result"
    }
   ],
   "source": [
    "updated_dataset.list_files()"
   ]
  },
  {
   "cell_type": "code",
   "execution_count": 20,
   "metadata": {},
   "outputs": [
    {
     "data": {
      "text/plain": [
       "['external/Big_Buck_Bunny_720_10s_1MB.mp4',\n",
       " 'external/PinkPanther30.wav',\n",
       " 'sample1.jpg',\n",
       " 'sample2.jpg',\n",
       " 'sample3.jpg',\n",
       " 'train.csv']"
      ]
     },
     "execution_count": 20,
     "metadata": {},
     "output_type": "execute_result"
    }
   ],
   "source": [
    "toy_dataset.list_files()"
   ]
  },
  {
   "cell_type": "code",
   "execution_count": 21,
   "metadata": {},
   "outputs": [
    {
     "name": "stdout",
     "output_type": "stream",
     "text": [
      "Remove sample2.jpg\n",
      "Remove sample3.jpg\n",
      "Remove sample1.jpg\n"
     ]
    },
    {
     "data": {
      "text/plain": [
       "3"
      ]
     },
     "execution_count": 21,
     "metadata": {},
     "output_type": "execute_result"
    }
   ],
   "source": [
    "updated_dataset.remove_files(dataset_path=\"*.jpg\", recursive=True, verbose=True)"
   ]
  },
  {
   "cell_type": "code",
   "execution_count": 22,
   "metadata": {},
   "outputs": [
    {
     "data": {
      "text/plain": [
       "['external/Big_Buck_Bunny_720_10s_1MB.mp4',\n",
       " 'external/PinkPanther30.wav',\n",
       " 'train.csv']"
      ]
     },
     "execution_count": 22,
     "metadata": {},
     "output_type": "execute_result"
    }
   ],
   "source": [
    "updated_dataset.list_files()"
   ]
  },
  {
   "cell_type": "code",
   "execution_count": 23,
   "metadata": {},
   "outputs": [
    {
     "name": "stdout",
     "output_type": "stream",
     "text": [
      "Updating statistics and genealogy\n"
     ]
    },
    {
     "data": {
      "text/plain": [
       "True"
      ]
     },
     "execution_count": 23,
     "metadata": {},
     "output_type": "execute_result"
    }
   ],
   "source": [
    "updated_dataset.finalize(verbose=True, auto_upload=True)"
   ]
  },
  {
   "cell_type": "markdown",
   "metadata": {},
   "source": [
    "## Modify files"
   ]
  },
  {
   "cell_type": "markdown",
   "metadata": {},
   "source": [
    "To modify a file, you just need to modify it and add it again to the dataset. This will create a new dataset version and only the diff between the 2 versions will be uploaded."
   ]
  },
  {
   "cell_type": "code",
   "execution_count": 24,
   "metadata": {},
   "outputs": [
    {
     "name": "stdout",
     "output_type": "stream",
     "text": [
      "ClearML results page: https://app.clear.ml/projects/309da6ce04c04b218a3f23c5f98655a5/experiments/726bec011fd64607a5bc2b2549030156/output/log\n",
      "ClearML dataset page: https://app.clear.ml/datasets/simple/309da6ce04c04b218a3f23c5f98655a5/experiments/726bec011fd64607a5bc2b2549030156\n"
     ]
    }
   ],
   "source": [
    "updated_dataset2 = Dataset.create(dataset_name=\"toy dataset\",\n",
    "                  dataset_project=\"ClearmlStudySessions\",\n",
    "                  parent_datasets=[updated_dataset],\n",
    "                  output_uri=None)"
   ]
  },
  {
   "cell_type": "code",
   "execution_count": 25,
   "metadata": {},
   "outputs": [
    {
     "data": {
      "text/plain": [
       "['external/Big_Buck_Bunny_720_10s_1MB.mp4',\n",
       " 'external/PinkPanther30.wav',\n",
       " 'train.csv']"
      ]
     },
     "execution_count": 25,
     "metadata": {},
     "output_type": "execute_result"
    }
   ],
   "source": [
    "updated_dataset.list_files()"
   ]
  },
  {
   "cell_type": "code",
   "execution_count": 26,
   "metadata": {},
   "outputs": [
    {
     "data": {
      "text/plain": [
       "['external/Big_Buck_Bunny_720_10s_1MB.mp4',\n",
       " 'external/PinkPanther30.wav',\n",
       " 'train.csv']"
      ]
     },
     "execution_count": 26,
     "metadata": {},
     "output_type": "execute_result"
    }
   ],
   "source": [
    "updated_dataset2.list_files()"
   ]
  },
  {
   "cell_type": "code",
   "execution_count": 27,
   "metadata": {},
   "outputs": [],
   "source": [
    "path_to_mutable_dataset2 = Path(\"./mutable2/\")"
   ]
  },
  {
   "cell_type": "code",
   "execution_count": 28,
   "metadata": {},
   "outputs": [
    {
     "data": {
      "text/plain": [
       "'C:/Users/Antonin_Joly/Desktop/mutable2'"
      ]
     },
     "execution_count": 28,
     "metadata": {},
     "output_type": "execute_result"
    }
   ],
   "source": [
    "updated_dataset.get_mutable_local_copy(path_to_mutable_dataset2)"
   ]
  },
  {
   "cell_type": "code",
   "execution_count": 29,
   "metadata": {},
   "outputs": [],
   "source": [
    "df = pd.read_csv(path_to_mutable_dataset2/\"train.csv\")"
   ]
  },
  {
   "cell_type": "code",
   "execution_count": 30,
   "metadata": {},
   "outputs": [
    {
     "data": {
      "text/html": [
       "<div>\n",
       "<style scoped>\n",
       "    .dataframe tbody tr th:only-of-type {\n",
       "        vertical-align: middle;\n",
       "    }\n",
       "\n",
       "    .dataframe tbody tr th {\n",
       "        vertical-align: top;\n",
       "    }\n",
       "\n",
       "    .dataframe thead th {\n",
       "        text-align: right;\n",
       "    }\n",
       "</style>\n",
       "<table border=\"1\" class=\"dataframe\">\n",
       "  <thead>\n",
       "    <tr style=\"text-align: right;\">\n",
       "      <th></th>\n",
       "      <th>PassengerId</th>\n",
       "      <th>Survived</th>\n",
       "      <th>Pclass</th>\n",
       "      <th>Name</th>\n",
       "      <th>Sex</th>\n",
       "      <th>Age</th>\n",
       "      <th>SibSp</th>\n",
       "      <th>Parch</th>\n",
       "      <th>Ticket</th>\n",
       "      <th>Fare</th>\n",
       "      <th>Cabin</th>\n",
       "      <th>Embarked</th>\n",
       "    </tr>\n",
       "  </thead>\n",
       "  <tbody>\n",
       "    <tr>\n",
       "      <th>0</th>\n",
       "      <td>1</td>\n",
       "      <td>0</td>\n",
       "      <td>3</td>\n",
       "      <td>Braund, Mr. Owen Harris</td>\n",
       "      <td>male</td>\n",
       "      <td>22.0</td>\n",
       "      <td>1</td>\n",
       "      <td>0</td>\n",
       "      <td>A/5 21171</td>\n",
       "      <td>7.2500</td>\n",
       "      <td>NaN</td>\n",
       "      <td>S</td>\n",
       "    </tr>\n",
       "    <tr>\n",
       "      <th>1</th>\n",
       "      <td>2</td>\n",
       "      <td>1</td>\n",
       "      <td>1</td>\n",
       "      <td>Cumings, Mrs. John Bradley (Florence Briggs Th...</td>\n",
       "      <td>female</td>\n",
       "      <td>38.0</td>\n",
       "      <td>1</td>\n",
       "      <td>0</td>\n",
       "      <td>PC 17599</td>\n",
       "      <td>71.2833</td>\n",
       "      <td>C85</td>\n",
       "      <td>C</td>\n",
       "    </tr>\n",
       "    <tr>\n",
       "      <th>2</th>\n",
       "      <td>3</td>\n",
       "      <td>1</td>\n",
       "      <td>3</td>\n",
       "      <td>Heikkinen, Miss. Laina</td>\n",
       "      <td>female</td>\n",
       "      <td>26.0</td>\n",
       "      <td>0</td>\n",
       "      <td>0</td>\n",
       "      <td>STON/O2. 3101282</td>\n",
       "      <td>7.9250</td>\n",
       "      <td>NaN</td>\n",
       "      <td>S</td>\n",
       "    </tr>\n",
       "    <tr>\n",
       "      <th>3</th>\n",
       "      <td>4</td>\n",
       "      <td>1</td>\n",
       "      <td>1</td>\n",
       "      <td>Futrelle, Mrs. Jacques Heath (Lily May Peel)</td>\n",
       "      <td>female</td>\n",
       "      <td>35.0</td>\n",
       "      <td>1</td>\n",
       "      <td>0</td>\n",
       "      <td>113803</td>\n",
       "      <td>53.1000</td>\n",
       "      <td>C123</td>\n",
       "      <td>S</td>\n",
       "    </tr>\n",
       "    <tr>\n",
       "      <th>4</th>\n",
       "      <td>5</td>\n",
       "      <td>0</td>\n",
       "      <td>3</td>\n",
       "      <td>Allen, Mr. William Henry</td>\n",
       "      <td>male</td>\n",
       "      <td>35.0</td>\n",
       "      <td>0</td>\n",
       "      <td>0</td>\n",
       "      <td>373450</td>\n",
       "      <td>8.0500</td>\n",
       "      <td>NaN</td>\n",
       "      <td>S</td>\n",
       "    </tr>\n",
       "  </tbody>\n",
       "</table>\n",
       "</div>"
      ],
      "text/plain": [
       "   PassengerId  Survived  Pclass  \\\n",
       "0            1         0       3   \n",
       "1            2         1       1   \n",
       "2            3         1       3   \n",
       "3            4         1       1   \n",
       "4            5         0       3   \n",
       "\n",
       "                                                Name     Sex   Age  SibSp  \\\n",
       "0                            Braund, Mr. Owen Harris    male  22.0      1   \n",
       "1  Cumings, Mrs. John Bradley (Florence Briggs Th...  female  38.0      1   \n",
       "2                             Heikkinen, Miss. Laina  female  26.0      0   \n",
       "3       Futrelle, Mrs. Jacques Heath (Lily May Peel)  female  35.0      1   \n",
       "4                           Allen, Mr. William Henry    male  35.0      0   \n",
       "\n",
       "   Parch            Ticket     Fare Cabin Embarked  \n",
       "0      0         A/5 21171   7.2500   NaN        S  \n",
       "1      0          PC 17599  71.2833   C85        C  \n",
       "2      0  STON/O2. 3101282   7.9250   NaN        S  \n",
       "3      0            113803  53.1000  C123        S  \n",
       "4      0            373450   8.0500   NaN        S  "
      ]
     },
     "execution_count": 30,
     "metadata": {},
     "output_type": "execute_result"
    }
   ],
   "source": [
    "df.head()"
   ]
  },
  {
   "cell_type": "code",
   "execution_count": 31,
   "metadata": {},
   "outputs": [],
   "source": [
    "df.head().to_csv(path_to_mutable_dataset2/\"train.csv\", index=False)"
   ]
  },
  {
   "cell_type": "code",
   "execution_count": 32,
   "metadata": {},
   "outputs": [
    {
     "name": "stdout",
     "output_type": "stream",
     "text": [
      "Generating SHA2 hash for 3 files\n"
     ]
    },
    {
     "name": "stderr",
     "output_type": "stream",
     "text": [
      "100%|███████████████████████████████████████████████████████████████████████████████████| 3/3 [00:00<00:00, 272.58it/s]\n"
     ]
    },
    {
     "name": "stdout",
     "output_type": "stream",
     "text": [
      "Hash generation completed\n"
     ]
    },
    {
     "data": {
      "text/plain": [
       "0"
      ]
     },
     "execution_count": 32,
     "metadata": {},
     "output_type": "execute_result"
    }
   ],
   "source": [
    "updated_dataset2.add_files(path_to_mutable_dataset2)"
   ]
  },
  {
   "cell_type": "code",
   "execution_count": 33,
   "metadata": {},
   "outputs": [
    {
     "name": "stdout",
     "output_type": "stream",
     "text": [
      "Pending uploads, starting dataset upload to https://files.clear.ml\n",
      "Uploading dataset changes (1 files compressed to 442 B) to https://files.clear.ml\n",
      "File compression and upload completed: total size 442 B, 1 chunk(s) stored (average size 442 B)\n",
      "Updating statistics and genealogy\n"
     ]
    },
    {
     "data": {
      "text/plain": [
       "True"
      ]
     },
     "execution_count": 33,
     "metadata": {},
     "output_type": "execute_result"
    }
   ],
   "source": [
    "updated_dataset2.finalize(verbose=True, auto_upload=True)"
   ]
  },
  {
   "cell_type": "markdown",
   "metadata": {},
   "source": [
    "## Multiple parents"
   ]
  },
  {
   "cell_type": "markdown",
   "metadata": {},
   "source": [
    "A dataset can have multiple parents.\n",
    "\n",
    "It will inherit all the data from all their parents, but the order of the parents matter!\n",
    "\n",
    "If more than one parent dataset contains a same named file in the same location, the later datasets will overwrite it with their content."
   ]
  },
  {
   "cell_type": "markdown",
   "metadata": {},
   "source": [
    "### Create a new dataset which contains some files, along with train.csv"
   ]
  },
  {
   "cell_type": "code",
   "execution_count": 34,
   "metadata": {},
   "outputs": [
    {
     "name": "stdout",
     "output_type": "stream",
     "text": [
      "ClearML results page: https://app.clear.ml/projects/d9480f2ab7c64f52a91284fe965c2182/experiments/248a52e709de49d4a30ee418b7f42fc8/output/log\n",
      "ClearML dataset page: https://app.clear.ml/datasets/simple/d9480f2ab7c64f52a91284fe965c2182/experiments/248a52e709de49d4a30ee418b7f42fc8\n"
     ]
    }
   ],
   "source": [
    "config_dataset = Dataset.create(dataset_name=\"config dataset\",\n",
    "                  dataset_project=\"ClearmlStudySessions\",\n",
    "                  dataset_tags=[\"initial\", \"config\"],\n",
    "                  dataset_version=\"1.0.0\",\n",
    "                  description=\"Initial config dataset for demo\",\n",
    "                  parent_datasets = None,\n",
    "                  use_current_task=False,\n",
    "                  output_uri=None)"
   ]
  },
  {
   "cell_type": "code",
   "execution_count": 35,
   "metadata": {},
   "outputs": [
    {
     "data": {
      "text/plain": [
       "1"
      ]
     },
     "execution_count": 35,
     "metadata": {},
     "output_type": "execute_result"
    }
   ],
   "source": [
    "config_dataset.add_files(\"./data/config.yaml\")\n",
    "config_dataset.add_files(\"./data/sample_json.json\")\n",
    "config_dataset.add_files(\"./data/train.csv\")"
   ]
  },
  {
   "cell_type": "code",
   "execution_count": 36,
   "metadata": {},
   "outputs": [
    {
     "data": {
      "text/plain": [
       "['config.yaml', 'sample_json.json', 'train.csv']"
      ]
     },
     "execution_count": 36,
     "metadata": {},
     "output_type": "execute_result"
    }
   ],
   "source": [
    "config_dataset.list_files()"
   ]
  },
  {
   "cell_type": "code",
   "execution_count": 37,
   "metadata": {},
   "outputs": [
    {
     "name": "stdout",
     "output_type": "stream",
     "text": [
      "Pending uploads, starting dataset upload to https://files.clear.ml\n",
      "Uploading dataset changes (3 files compressed to 21.97 KiB) to https://files.clear.ml\n",
      "File compression and upload completed: total size 21.97 KiB, 1 chunk(s) stored (average size 21.97 KiB)\n",
      "Updating statistics and genealogy\n"
     ]
    },
    {
     "data": {
      "text/plain": [
       "True"
      ]
     },
     "execution_count": 37,
     "metadata": {},
     "output_type": "execute_result"
    }
   ],
   "source": [
    "config_dataset.finalize(verbose=True, auto_upload=True)"
   ]
  },
  {
   "cell_type": "markdown",
   "metadata": {},
   "source": [
    "### Create a new combined dataset between config_dataset and updated_dataset2"
   ]
  },
  {
   "cell_type": "code",
   "execution_count": 38,
   "metadata": {},
   "outputs": [
    {
     "name": "stdout",
     "output_type": "stream",
     "text": [
      "ClearML results page: https://app.clear.ml/projects/25b887e6938849cf8f8bd16c562520c6/experiments/7fc24184f8a14a74b7cd7a5f9a241ad5/output/log\n",
      "ClearML dataset page: https://app.clear.ml/datasets/simple/25b887e6938849cf8f8bd16c562520c6/experiments/7fc24184f8a14a74b7cd7a5f9a241ad5\n"
     ]
    }
   ],
   "source": [
    "combined_dataset = Dataset.create(dataset_name=\"combined dataset\",\n",
    "                  dataset_project=\"ClearmlStudySessions\",\n",
    "                  dataset_tags=[\"config\", \"toy\", \"combined\"],\n",
    "                  dataset_version=\"1.0\",\n",
    "                  description=\"Combined dataset of config dataset and toy dataset\",\n",
    "                  parent_datasets = [config_dataset.id, updated_dataset2.id]\n",
    "    \n",
    ")"
   ]
  },
  {
   "cell_type": "code",
   "execution_count": 39,
   "metadata": {},
   "outputs": [
    {
     "data": {
      "text/plain": [
       "['config.yaml', 'sample_json.json', 'train.csv']"
      ]
     },
     "execution_count": 39,
     "metadata": {},
     "output_type": "execute_result"
    }
   ],
   "source": [
    "config_dataset.list_files()"
   ]
  },
  {
   "cell_type": "code",
   "execution_count": 40,
   "metadata": {},
   "outputs": [
    {
     "data": {
      "text/plain": [
       "['external/Big_Buck_Bunny_720_10s_1MB.mp4',\n",
       " 'external/PinkPanther30.wav',\n",
       " 'train.csv']"
      ]
     },
     "execution_count": 40,
     "metadata": {},
     "output_type": "execute_result"
    }
   ],
   "source": [
    "updated_dataset2.list_files()"
   ]
  },
  {
   "cell_type": "code",
   "execution_count": 41,
   "metadata": {},
   "outputs": [
    {
     "data": {
      "text/plain": [
       "['config.yaml',\n",
       " 'external/Big_Buck_Bunny_720_10s_1MB.mp4',\n",
       " 'external/PinkPanther30.wav',\n",
       " 'sample_json.json',\n",
       " 'train.csv']"
      ]
     },
     "execution_count": 41,
     "metadata": {},
     "output_type": "execute_result"
    }
   ],
   "source": [
    "combined_dataset.list_files()"
   ]
  },
  {
   "cell_type": "code",
   "execution_count": 42,
   "metadata": {},
   "outputs": [
    {
     "name": "stdout",
     "output_type": "stream",
     "text": [
      "Updating statistics and genealogy\n"
     ]
    },
    {
     "data": {
      "text/plain": [
       "True"
      ]
     },
     "execution_count": 42,
     "metadata": {},
     "output_type": "execute_result"
    }
   ],
   "source": [
    "combined_dataset.finalize(verbose=True, auto_upload=True)"
   ]
  },
  {
   "cell_type": "code",
   "execution_count": 43,
   "metadata": {},
   "outputs": [],
   "source": [
    "path_to_combined_dataset = Path(combined_dataset.get_local_copy())"
   ]
  },
  {
   "cell_type": "code",
   "execution_count": 44,
   "metadata": {},
   "outputs": [],
   "source": [
    "combined_df = pd.read_csv(path_to_combined_dataset / \"train.csv\")"
   ]
  },
  {
   "cell_type": "code",
   "execution_count": 45,
   "metadata": {},
   "outputs": [
    {
     "data": {
      "text/html": [
       "<div>\n",
       "<style scoped>\n",
       "    .dataframe tbody tr th:only-of-type {\n",
       "        vertical-align: middle;\n",
       "    }\n",
       "\n",
       "    .dataframe tbody tr th {\n",
       "        vertical-align: top;\n",
       "    }\n",
       "\n",
       "    .dataframe thead th {\n",
       "        text-align: right;\n",
       "    }\n",
       "</style>\n",
       "<table border=\"1\" class=\"dataframe\">\n",
       "  <thead>\n",
       "    <tr style=\"text-align: right;\">\n",
       "      <th></th>\n",
       "      <th>PassengerId</th>\n",
       "      <th>Survived</th>\n",
       "      <th>Pclass</th>\n",
       "      <th>Name</th>\n",
       "      <th>Sex</th>\n",
       "      <th>Age</th>\n",
       "      <th>SibSp</th>\n",
       "      <th>Parch</th>\n",
       "      <th>Ticket</th>\n",
       "      <th>Fare</th>\n",
       "      <th>Cabin</th>\n",
       "      <th>Embarked</th>\n",
       "    </tr>\n",
       "  </thead>\n",
       "  <tbody>\n",
       "    <tr>\n",
       "      <th>0</th>\n",
       "      <td>1</td>\n",
       "      <td>0</td>\n",
       "      <td>3</td>\n",
       "      <td>Braund, Mr. Owen Harris</td>\n",
       "      <td>male</td>\n",
       "      <td>22.0</td>\n",
       "      <td>1</td>\n",
       "      <td>0</td>\n",
       "      <td>A/5 21171</td>\n",
       "      <td>7.2500</td>\n",
       "      <td>NaN</td>\n",
       "      <td>S</td>\n",
       "    </tr>\n",
       "    <tr>\n",
       "      <th>1</th>\n",
       "      <td>2</td>\n",
       "      <td>1</td>\n",
       "      <td>1</td>\n",
       "      <td>Cumings, Mrs. John Bradley (Florence Briggs Th...</td>\n",
       "      <td>female</td>\n",
       "      <td>38.0</td>\n",
       "      <td>1</td>\n",
       "      <td>0</td>\n",
       "      <td>PC 17599</td>\n",
       "      <td>71.2833</td>\n",
       "      <td>C85</td>\n",
       "      <td>C</td>\n",
       "    </tr>\n",
       "    <tr>\n",
       "      <th>2</th>\n",
       "      <td>3</td>\n",
       "      <td>1</td>\n",
       "      <td>3</td>\n",
       "      <td>Heikkinen, Miss. Laina</td>\n",
       "      <td>female</td>\n",
       "      <td>26.0</td>\n",
       "      <td>0</td>\n",
       "      <td>0</td>\n",
       "      <td>STON/O2. 3101282</td>\n",
       "      <td>7.9250</td>\n",
       "      <td>NaN</td>\n",
       "      <td>S</td>\n",
       "    </tr>\n",
       "    <tr>\n",
       "      <th>3</th>\n",
       "      <td>4</td>\n",
       "      <td>1</td>\n",
       "      <td>1</td>\n",
       "      <td>Futrelle, Mrs. Jacques Heath (Lily May Peel)</td>\n",
       "      <td>female</td>\n",
       "      <td>35.0</td>\n",
       "      <td>1</td>\n",
       "      <td>0</td>\n",
       "      <td>113803</td>\n",
       "      <td>53.1000</td>\n",
       "      <td>C123</td>\n",
       "      <td>S</td>\n",
       "    </tr>\n",
       "    <tr>\n",
       "      <th>4</th>\n",
       "      <td>5</td>\n",
       "      <td>0</td>\n",
       "      <td>3</td>\n",
       "      <td>Allen, Mr. William Henry</td>\n",
       "      <td>male</td>\n",
       "      <td>35.0</td>\n",
       "      <td>0</td>\n",
       "      <td>0</td>\n",
       "      <td>373450</td>\n",
       "      <td>8.0500</td>\n",
       "      <td>NaN</td>\n",
       "      <td>S</td>\n",
       "    </tr>\n",
       "  </tbody>\n",
       "</table>\n",
       "</div>"
      ],
      "text/plain": [
       "   PassengerId  Survived  Pclass  \\\n",
       "0            1         0       3   \n",
       "1            2         1       1   \n",
       "2            3         1       3   \n",
       "3            4         1       1   \n",
       "4            5         0       3   \n",
       "\n",
       "                                                Name     Sex   Age  SibSp  \\\n",
       "0                            Braund, Mr. Owen Harris    male  22.0      1   \n",
       "1  Cumings, Mrs. John Bradley (Florence Briggs Th...  female  38.0      1   \n",
       "2                             Heikkinen, Miss. Laina  female  26.0      0   \n",
       "3       Futrelle, Mrs. Jacques Heath (Lily May Peel)  female  35.0      1   \n",
       "4                           Allen, Mr. William Henry    male  35.0      0   \n",
       "\n",
       "   Parch            Ticket     Fare Cabin Embarked  \n",
       "0      0         A/5 21171   7.2500   NaN        S  \n",
       "1      0          PC 17599  71.2833   C85        C  \n",
       "2      0  STON/O2. 3101282   7.9250   NaN        S  \n",
       "3      0            113803  53.1000  C123        S  \n",
       "4      0            373450   8.0500   NaN        S  "
      ]
     },
     "execution_count": 45,
     "metadata": {},
     "output_type": "execute_result"
    }
   ],
   "source": [
    "combined_df"
   ]
  },
  {
   "cell_type": "markdown",
   "metadata": {},
   "source": [
    "Because we set updated_dataset2 as the 2nd parent, the contents of \"train.csv\" of updated_dataset2 overwrote the contents of \"train.csv\" of config_dataset"
   ]
  },
  {
   "cell_type": "markdown",
   "metadata": {},
   "source": [
    "## Squash datasets"
   ]
  },
  {
   "cell_type": "markdown",
   "metadata": {},
   "source": [
    "If you have many versions of a dataset, it may be useful to squash it and make a new, independant version with all the changes introduced.\n",
    "\n",
    "My understanding is that if you want the latest version of a dataset, ClearML will download all the previous versions and apply the changes one by one.\n",
    "\n",
    "If the DAG is deep, this becomes inefficient both for storage and execution speed. In those cases, squashing would be better."
   ]
  },
  {
   "cell_type": "markdown",
   "metadata": {},
   "source": [
    "If you give a single dataset_id, it will squash from the root of that version up to the version.\n",
    "If you give multiple dataset_id, it will squash only the specified versions diff (not really sure what this means to be honest)."
   ]
  },
  {
   "cell_type": "code",
   "execution_count": 46,
   "metadata": {},
   "outputs": [
    {
     "name": "stdout",
     "output_type": "stream",
     "text": [
      "ClearML results page: https://app.clear.ml/projects/1711cf3ada9349a9993f30946fdeee8c/experiments/8f2c9eb5af7143c89cc3946576d16173/output/log\n",
      "ClearML dataset page: https://app.clear.ml/datasets/simple/1711cf3ada9349a9993f30946fdeee8c/experiments/8f2c9eb5af7143c89cc3946576d16173\n",
      "Generating SHA2 hash for 3 files\n"
     ]
    },
    {
     "name": "stderr",
     "output_type": "stream",
     "text": [
      "100%|███████████████████████████████████████████████████████████████████████████████████| 3/3 [00:00<00:00, 693.58it/s]\n"
     ]
    },
    {
     "name": "stdout",
     "output_type": "stream",
     "text": [
      "Hash generation completed\n",
      "Uploading dataset changes (3 files compressed to 1.97 MiB) to https://files.clear.ml\n",
      "File compression and upload completed: total size 1.97 MiB, 1 chunk(s) stored (average size 1.97 MiB)\n"
     ]
    }
   ],
   "source": [
    "squashed_dataset = Dataset.squash(dataset_name=\"Squashed toy dataset\",\n",
    "                                  dataset_ids=[updated_dataset2.id])"
   ]
  },
  {
   "cell_type": "code",
   "execution_count": 47,
   "metadata": {},
   "outputs": [
    {
     "data": {
      "text/plain": [
       "['external/Big_Buck_Bunny_720_10s_1MB.mp4',\n",
       " 'external/PinkPanther30.wav',\n",
       " 'train.csv']"
      ]
     },
     "execution_count": 47,
     "metadata": {},
     "output_type": "execute_result"
    }
   ],
   "source": [
    "squashed_dataset.list_files()"
   ]
  },
  {
   "cell_type": "markdown",
   "metadata": {},
   "source": [
    "## Logging in datasets"
   ]
  },
  {
   "cell_type": "markdown",
   "metadata": {},
   "source": [
    "You can log in the same way as in tasks using the logger from the dataset.\n",
    "\n",
    "Use get_logger() method to get the logger, and then log as usual."
   ]
  },
  {
   "cell_type": "code",
   "execution_count": 48,
   "metadata": {},
   "outputs": [
    {
     "name": "stdout",
     "output_type": "stream",
     "text": [
      "ClearML results page: https://app.clear.ml/projects/ccfa7d9db6b747d4b9779a7acf1cf670/experiments/68655956a1a749ea9317fc36d754b35a/output/log\n",
      "ClearML dataset page: https://app.clear.ml/datasets/simple/ccfa7d9db6b747d4b9779a7acf1cf670/experiments/68655956a1a749ea9317fc36d754b35a\n"
     ]
    }
   ],
   "source": [
    "logging_dataset = Dataset.create(dataset_name=\"logging\",\n",
    "                                 dataset_project=\"ClearmlStudySessions\")"
   ]
  },
  {
   "cell_type": "code",
   "execution_count": 49,
   "metadata": {},
   "outputs": [
    {
     "name": "stdout",
     "output_type": "stream",
     "text": [
      "Generating SHA2 hash for 6 files\n"
     ]
    },
    {
     "name": "stderr",
     "output_type": "stream",
     "text": [
      "100%|███████████████████████████████████████████████████████████████████████████████████| 6/6 [00:00<00:00, 364.65it/s]\n"
     ]
    },
    {
     "name": "stdout",
     "output_type": "stream",
     "text": [
      "Hash generation completed\n"
     ]
    },
    {
     "data": {
      "text/plain": [
       "6"
      ]
     },
     "execution_count": 49,
     "metadata": {},
     "output_type": "execute_result"
    }
   ],
   "source": [
    "logging_dataset.add_files(\"./data/\")"
   ]
  },
  {
   "cell_type": "code",
   "execution_count": 50,
   "metadata": {},
   "outputs": [],
   "source": [
    "logger = logging_dataset.get_logger()"
   ]
  },
  {
   "cell_type": "code",
   "execution_count": 51,
   "metadata": {},
   "outputs": [],
   "source": [
    "import matplotlib.pyplot as plt\n",
    "import numpy as np"
   ]
  },
  {
   "cell_type": "code",
   "execution_count": 52,
   "metadata": {},
   "outputs": [
    {
     "data": {
      "text/plain": [
       "<matplotlib.collections.PathCollection at 0x2317521ee88>"
      ]
     },
     "execution_count": 52,
     "metadata": {},
     "output_type": "execute_result"
    },
    {
     "data": {
      "image/png": "[encoded data removed]",
      "text/plain": [
       "<Figure size 360x360 with 1 Axes>"
      ]
     },
     "metadata": {
      "needs_background": "light"
     },
     "output_type": "display_data"
    }
   ],
   "source": [
    "fig, _ = plt.subplots(figsize=(5, 5))\n",
    "N = 50\n",
    "x = np.random.rand(N)\n",
    "y = np.random.rand(N)\n",
    "colors = np.random.rand(N)\n",
    "area = (30 * np.random.rand(N))**2  # 0 to 15 point radii\n",
    "plt.scatter(x, y, s=area, c=colors, alpha=0.5)"
   ]
  },
  {
   "cell_type": "code",
   "execution_count": 53,
   "metadata": {},
   "outputs": [],
   "source": [
    "logger.report_matplotlib_figure(title=\"Manual matplotlib report\", \n",
    "                                series=\"Just a plot\", \n",
    "                                iteration=0,\n",
    "                                figure=fig)"
   ]
  },
  {
   "cell_type": "code",
   "execution_count": 54,
   "metadata": {},
   "outputs": [],
   "source": [
    "logger.report_table(title=\"Manual csv report\", \n",
    "                                series=\"Just a csv\", \n",
    "                                iteration=0,\n",
    "                                csv=\"./mutable2/train.csv\")"
   ]
  },
  {
   "cell_type": "code",
   "execution_count": 55,
   "metadata": {},
   "outputs": [],
   "source": [
    "logger.report_single_value(\"Train\", 0.8)\n",
    "logger.report_single_value(\"Val\", 0.1)\n",
    "logger.report_single_value(\"Test\", 0.1)"
   ]
  },
  {
   "cell_type": "code",
   "execution_count": 56,
   "metadata": {},
   "outputs": [
    {
     "name": "stdout",
     "output_type": "stream",
     "text": [
      "Displaying metadata in the UI is only supported for pandas Dataframes for now. Skipping!\n"
     ]
    }
   ],
   "source": [
    "logging_dataset.set_metadata({\n",
    "                        \"train\" : 160,\n",
    "                        \"val\" : 20,\n",
    "                        \"test\" : 20\n",
    "                    },\n",
    "                     metadata_name=\"Splits distribution\")"
   ]
  },
  {
   "cell_type": "code",
   "execution_count": 57,
   "metadata": {},
   "outputs": [
    {
     "name": "stdout",
     "output_type": "stream",
     "text": [
      "Pending uploads, starting dataset upload to https://files.clear.ml\n",
      "Uploading dataset changes (6 files compressed to 1.5 MiB) to https://files.clear.ml\n",
      "File compression and upload completed: total size 1.5 MiB, 1 chunk(s) stored (average size 1.5 MiB)\n",
      "Updating statistics and genealogy\n"
     ]
    },
    {
     "data": {
      "text/plain": [
       "True"
      ]
     },
     "execution_count": 57,
     "metadata": {},
     "output_type": "execute_result"
    }
   ],
   "source": [
    "logging_dataset.finalize(verbose=True, auto_upload=True)"
   ]
  },
  {
   "cell_type": "markdown",
   "metadata": {},
   "source": [
    "# CLI"
   ]
  },
  {
   "cell_type": "markdown",
   "metadata": {},
   "source": [
    "ClearML dataset functionality is also available as a CLI tool.\n",
    "\n",
    "For more info, refer to the [CLI documentation](https://clear.ml/docs/latest/docs/clearml_data/clearml_data_cli)"
   ]
  }
 ],
 "metadata": {
  "kernelspec": {
   "display_name": "Python 3 (ipykernel)",
   "language": "python",
   "name": "python3"
  },
  "language_info": {
   "codemirror_mode": {
    "name": "ipython",
    "version": 3
   },
   "file_extension": ".py",
   "mimetype": "text/x-python",
   "name": "python",
   "nbconvert_exporter": "python",
   "pygments_lexer": "ipython3",
   "version": "3.7.10"
  }
 },
 "nbformat": 4,
 "nbformat_minor": 2
}

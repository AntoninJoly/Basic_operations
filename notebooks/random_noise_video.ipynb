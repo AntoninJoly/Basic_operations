{
 "cells": [
  {
   "cell_type": "code",
   "execution_count": null,
   "metadata": {},
   "outputs": [
    {
     "name": "stderr",
     "output_type": "stream",
     "text": [
      " 57%|████████████████████████████████████████████▍                                 | 4099/7200 [01:37<01:06, 46.31it/s]"
     ]
    }
   ],
   "source": [
    "import cv2\n",
    "import numpy as np\n",
    "from tqdm import tqdm\n",
    "\n",
    "time, fps = 120, 1 # minutes\n",
    "\n",
    "writer = cv2.VideoWriter(\"output.avi\", fourcc=cv2.VideoWriter_fourcc(*'DIVX'), fps=fps, frameSize=(640,480))\n",
    "\n",
    "for frame in tqdm(list(range(60*time*fps)), position=0):\n",
    "    writer.write(np.random.randint(0, 255, (480,640,3)).astype('uint8'))\n",
    "cv2.destroyAllWindows()\n",
    "writer.release()"
   ]
  }
 ],
 "metadata": {
  "kernelspec": {
   "display_name": "Python 3",
   "language": "python",
   "name": "python3"
  },
  "language_info": {
   "codemirror_mode": {
    "name": "ipython",
    "version": 3
   },
   "file_extension": ".py",
   "mimetype": "text/x-python",
   "name": "python",
   "nbconvert_exporter": "python",
   "pygments_lexer": "ipython3",
   "version": "3.7.4"
  }
 },
 "nbformat": 4,
 "nbformat_minor": 2
}
